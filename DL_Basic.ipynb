{
  "nbformat": 4,
  "nbformat_minor": 0,
  "metadata": {
    "colab": {
      "name": "DL_Basic",
      "provenance": [],
      "authorship_tag": "ABX9TyPE4LZFV5RzocohnI0gNfcY",
      "include_colab_link": true
    },
    "kernelspec": {
      "name": "python3",
      "display_name": "Python 3"
    },
    "language_info": {
      "name": "python"
    },
    "accelerator": "GPU",
    "widgets": {
      "application/vnd.jupyter.widget-state+json": {
        "69041f8d41774c62b17a31798457ce02": {
          "model_module": "@jupyter-widgets/controls",
          "model_name": "HBoxModel",
          "state": {
            "_view_name": "HBoxView",
            "_dom_classes": [],
            "_model_name": "HBoxModel",
            "_view_module": "@jupyter-widgets/controls",
            "_model_module_version": "1.5.0",
            "_view_count": null,
            "_view_module_version": "1.5.0",
            "box_style": "",
            "layout": "IPY_MODEL_8f15ef6603624ed3858759be8a21c03f",
            "_model_module": "@jupyter-widgets/controls",
            "children": [
              "IPY_MODEL_585169749c484ac4a715d8bbc270881c",
              "IPY_MODEL_fb58688641924d3fb0d69b9bd51de5b3"
            ]
          }
        },
        "8f15ef6603624ed3858759be8a21c03f": {
          "model_module": "@jupyter-widgets/base",
          "model_name": "LayoutModel",
          "state": {
            "_view_name": "LayoutView",
            "grid_template_rows": null,
            "right": null,
            "justify_content": null,
            "_view_module": "@jupyter-widgets/base",
            "overflow": null,
            "_model_module_version": "1.2.0",
            "_view_count": null,
            "flex_flow": null,
            "width": null,
            "min_width": null,
            "border": null,
            "align_items": null,
            "bottom": null,
            "_model_module": "@jupyter-widgets/base",
            "top": null,
            "grid_column": null,
            "overflow_y": null,
            "overflow_x": null,
            "grid_auto_flow": null,
            "grid_area": null,
            "grid_template_columns": null,
            "flex": null,
            "_model_name": "LayoutModel",
            "justify_items": null,
            "grid_row": null,
            "max_height": null,
            "align_content": null,
            "visibility": null,
            "align_self": null,
            "height": null,
            "min_height": null,
            "padding": null,
            "grid_auto_rows": null,
            "grid_gap": null,
            "max_width": null,
            "order": null,
            "_view_module_version": "1.2.0",
            "grid_template_areas": null,
            "object_position": null,
            "object_fit": null,
            "grid_auto_columns": null,
            "margin": null,
            "display": null,
            "left": null
          }
        },
        "585169749c484ac4a715d8bbc270881c": {
          "model_module": "@jupyter-widgets/controls",
          "model_name": "FloatProgressModel",
          "state": {
            "_view_name": "ProgressView",
            "style": "IPY_MODEL_2d4f00fa3b294b2ca8e654aecc407dfb",
            "_dom_classes": [],
            "description": "",
            "_model_name": "FloatProgressModel",
            "bar_style": "success",
            "max": 9912422,
            "_view_module": "@jupyter-widgets/controls",
            "_model_module_version": "1.5.0",
            "value": 9912422,
            "_view_count": null,
            "_view_module_version": "1.5.0",
            "orientation": "horizontal",
            "min": 0,
            "description_tooltip": null,
            "_model_module": "@jupyter-widgets/controls",
            "layout": "IPY_MODEL_4f8399c3f235457684867570c011de4a"
          }
        },
        "fb58688641924d3fb0d69b9bd51de5b3": {
          "model_module": "@jupyter-widgets/controls",
          "model_name": "HTMLModel",
          "state": {
            "_view_name": "HTMLView",
            "style": "IPY_MODEL_75753839c1c94606818edf3e789fc235",
            "_dom_classes": [],
            "description": "",
            "_model_name": "HTMLModel",
            "placeholder": "​",
            "_view_module": "@jupyter-widgets/controls",
            "_model_module_version": "1.5.0",
            "value": " 9913344/? [02:40&lt;00:00, 61866.67it/s]",
            "_view_count": null,
            "_view_module_version": "1.5.0",
            "description_tooltip": null,
            "_model_module": "@jupyter-widgets/controls",
            "layout": "IPY_MODEL_6196bad1d72649cf8e7737d2cff014f2"
          }
        },
        "2d4f00fa3b294b2ca8e654aecc407dfb": {
          "model_module": "@jupyter-widgets/controls",
          "model_name": "ProgressStyleModel",
          "state": {
            "_view_name": "StyleView",
            "_model_name": "ProgressStyleModel",
            "description_width": "initial",
            "_view_module": "@jupyter-widgets/base",
            "_model_module_version": "1.5.0",
            "_view_count": null,
            "_view_module_version": "1.2.0",
            "bar_color": null,
            "_model_module": "@jupyter-widgets/controls"
          }
        },
        "4f8399c3f235457684867570c011de4a": {
          "model_module": "@jupyter-widgets/base",
          "model_name": "LayoutModel",
          "state": {
            "_view_name": "LayoutView",
            "grid_template_rows": null,
            "right": null,
            "justify_content": null,
            "_view_module": "@jupyter-widgets/base",
            "overflow": null,
            "_model_module_version": "1.2.0",
            "_view_count": null,
            "flex_flow": null,
            "width": null,
            "min_width": null,
            "border": null,
            "align_items": null,
            "bottom": null,
            "_model_module": "@jupyter-widgets/base",
            "top": null,
            "grid_column": null,
            "overflow_y": null,
            "overflow_x": null,
            "grid_auto_flow": null,
            "grid_area": null,
            "grid_template_columns": null,
            "flex": null,
            "_model_name": "LayoutModel",
            "justify_items": null,
            "grid_row": null,
            "max_height": null,
            "align_content": null,
            "visibility": null,
            "align_self": null,
            "height": null,
            "min_height": null,
            "padding": null,
            "grid_auto_rows": null,
            "grid_gap": null,
            "max_width": null,
            "order": null,
            "_view_module_version": "1.2.0",
            "grid_template_areas": null,
            "object_position": null,
            "object_fit": null,
            "grid_auto_columns": null,
            "margin": null,
            "display": null,
            "left": null
          }
        },
        "75753839c1c94606818edf3e789fc235": {
          "model_module": "@jupyter-widgets/controls",
          "model_name": "DescriptionStyleModel",
          "state": {
            "_view_name": "StyleView",
            "_model_name": "DescriptionStyleModel",
            "description_width": "",
            "_view_module": "@jupyter-widgets/base",
            "_model_module_version": "1.5.0",
            "_view_count": null,
            "_view_module_version": "1.2.0",
            "_model_module": "@jupyter-widgets/controls"
          }
        },
        "6196bad1d72649cf8e7737d2cff014f2": {
          "model_module": "@jupyter-widgets/base",
          "model_name": "LayoutModel",
          "state": {
            "_view_name": "LayoutView",
            "grid_template_rows": null,
            "right": null,
            "justify_content": null,
            "_view_module": "@jupyter-widgets/base",
            "overflow": null,
            "_model_module_version": "1.2.0",
            "_view_count": null,
            "flex_flow": null,
            "width": null,
            "min_width": null,
            "border": null,
            "align_items": null,
            "bottom": null,
            "_model_module": "@jupyter-widgets/base",
            "top": null,
            "grid_column": null,
            "overflow_y": null,
            "overflow_x": null,
            "grid_auto_flow": null,
            "grid_area": null,
            "grid_template_columns": null,
            "flex": null,
            "_model_name": "LayoutModel",
            "justify_items": null,
            "grid_row": null,
            "max_height": null,
            "align_content": null,
            "visibility": null,
            "align_self": null,
            "height": null,
            "min_height": null,
            "padding": null,
            "grid_auto_rows": null,
            "grid_gap": null,
            "max_width": null,
            "order": null,
            "_view_module_version": "1.2.0",
            "grid_template_areas": null,
            "object_position": null,
            "object_fit": null,
            "grid_auto_columns": null,
            "margin": null,
            "display": null,
            "left": null
          }
        },
        "866eddf58eda4ff6a0d68536f3093233": {
          "model_module": "@jupyter-widgets/controls",
          "model_name": "HBoxModel",
          "state": {
            "_view_name": "HBoxView",
            "_dom_classes": [],
            "_model_name": "HBoxModel",
            "_view_module": "@jupyter-widgets/controls",
            "_model_module_version": "1.5.0",
            "_view_count": null,
            "_view_module_version": "1.5.0",
            "box_style": "",
            "layout": "IPY_MODEL_ead453a3393047cb9a404b9a1d392852",
            "_model_module": "@jupyter-widgets/controls",
            "children": [
              "IPY_MODEL_b143b50a28fe4c0f88a98692ef6a242c",
              "IPY_MODEL_348cd5572f254f7583e38fbb28e64d65"
            ]
          }
        },
        "ead453a3393047cb9a404b9a1d392852": {
          "model_module": "@jupyter-widgets/base",
          "model_name": "LayoutModel",
          "state": {
            "_view_name": "LayoutView",
            "grid_template_rows": null,
            "right": null,
            "justify_content": null,
            "_view_module": "@jupyter-widgets/base",
            "overflow": null,
            "_model_module_version": "1.2.0",
            "_view_count": null,
            "flex_flow": null,
            "width": null,
            "min_width": null,
            "border": null,
            "align_items": null,
            "bottom": null,
            "_model_module": "@jupyter-widgets/base",
            "top": null,
            "grid_column": null,
            "overflow_y": null,
            "overflow_x": null,
            "grid_auto_flow": null,
            "grid_area": null,
            "grid_template_columns": null,
            "flex": null,
            "_model_name": "LayoutModel",
            "justify_items": null,
            "grid_row": null,
            "max_height": null,
            "align_content": null,
            "visibility": null,
            "align_self": null,
            "height": null,
            "min_height": null,
            "padding": null,
            "grid_auto_rows": null,
            "grid_gap": null,
            "max_width": null,
            "order": null,
            "_view_module_version": "1.2.0",
            "grid_template_areas": null,
            "object_position": null,
            "object_fit": null,
            "grid_auto_columns": null,
            "margin": null,
            "display": null,
            "left": null
          }
        },
        "b143b50a28fe4c0f88a98692ef6a242c": {
          "model_module": "@jupyter-widgets/controls",
          "model_name": "FloatProgressModel",
          "state": {
            "_view_name": "ProgressView",
            "style": "IPY_MODEL_ca7d89d66eeb433fafeb2c935312f4c0",
            "_dom_classes": [],
            "description": "",
            "_model_name": "FloatProgressModel",
            "bar_style": "success",
            "max": 28881,
            "_view_module": "@jupyter-widgets/controls",
            "_model_module_version": "1.5.0",
            "value": 28881,
            "_view_count": null,
            "_view_module_version": "1.5.0",
            "orientation": "horizontal",
            "min": 0,
            "description_tooltip": null,
            "_model_module": "@jupyter-widgets/controls",
            "layout": "IPY_MODEL_35f952ff0bc84eb4a761f7280297610c"
          }
        },
        "348cd5572f254f7583e38fbb28e64d65": {
          "model_module": "@jupyter-widgets/controls",
          "model_name": "HTMLModel",
          "state": {
            "_view_name": "HTMLView",
            "style": "IPY_MODEL_5fc6f3f3bae8451ea4eb6a39664104f7",
            "_dom_classes": [],
            "description": "",
            "_model_name": "HTMLModel",
            "placeholder": "​",
            "_view_module": "@jupyter-widgets/controls",
            "_model_module_version": "1.5.0",
            "value": " 29696/? [00:02&lt;00:00, 13127.00it/s]",
            "_view_count": null,
            "_view_module_version": "1.5.0",
            "description_tooltip": null,
            "_model_module": "@jupyter-widgets/controls",
            "layout": "IPY_MODEL_a9be60eea25647c7bc766a2bb40a5429"
          }
        },
        "ca7d89d66eeb433fafeb2c935312f4c0": {
          "model_module": "@jupyter-widgets/controls",
          "model_name": "ProgressStyleModel",
          "state": {
            "_view_name": "StyleView",
            "_model_name": "ProgressStyleModel",
            "description_width": "initial",
            "_view_module": "@jupyter-widgets/base",
            "_model_module_version": "1.5.0",
            "_view_count": null,
            "_view_module_version": "1.2.0",
            "bar_color": null,
            "_model_module": "@jupyter-widgets/controls"
          }
        },
        "35f952ff0bc84eb4a761f7280297610c": {
          "model_module": "@jupyter-widgets/base",
          "model_name": "LayoutModel",
          "state": {
            "_view_name": "LayoutView",
            "grid_template_rows": null,
            "right": null,
            "justify_content": null,
            "_view_module": "@jupyter-widgets/base",
            "overflow": null,
            "_model_module_version": "1.2.0",
            "_view_count": null,
            "flex_flow": null,
            "width": null,
            "min_width": null,
            "border": null,
            "align_items": null,
            "bottom": null,
            "_model_module": "@jupyter-widgets/base",
            "top": null,
            "grid_column": null,
            "overflow_y": null,
            "overflow_x": null,
            "grid_auto_flow": null,
            "grid_area": null,
            "grid_template_columns": null,
            "flex": null,
            "_model_name": "LayoutModel",
            "justify_items": null,
            "grid_row": null,
            "max_height": null,
            "align_content": null,
            "visibility": null,
            "align_self": null,
            "height": null,
            "min_height": null,
            "padding": null,
            "grid_auto_rows": null,
            "grid_gap": null,
            "max_width": null,
            "order": null,
            "_view_module_version": "1.2.0",
            "grid_template_areas": null,
            "object_position": null,
            "object_fit": null,
            "grid_auto_columns": null,
            "margin": null,
            "display": null,
            "left": null
          }
        },
        "5fc6f3f3bae8451ea4eb6a39664104f7": {
          "model_module": "@jupyter-widgets/controls",
          "model_name": "DescriptionStyleModel",
          "state": {
            "_view_name": "StyleView",
            "_model_name": "DescriptionStyleModel",
            "description_width": "",
            "_view_module": "@jupyter-widgets/base",
            "_model_module_version": "1.5.0",
            "_view_count": null,
            "_view_module_version": "1.2.0",
            "_model_module": "@jupyter-widgets/controls"
          }
        },
        "a9be60eea25647c7bc766a2bb40a5429": {
          "model_module": "@jupyter-widgets/base",
          "model_name": "LayoutModel",
          "state": {
            "_view_name": "LayoutView",
            "grid_template_rows": null,
            "right": null,
            "justify_content": null,
            "_view_module": "@jupyter-widgets/base",
            "overflow": null,
            "_model_module_version": "1.2.0",
            "_view_count": null,
            "flex_flow": null,
            "width": null,
            "min_width": null,
            "border": null,
            "align_items": null,
            "bottom": null,
            "_model_module": "@jupyter-widgets/base",
            "top": null,
            "grid_column": null,
            "overflow_y": null,
            "overflow_x": null,
            "grid_auto_flow": null,
            "grid_area": null,
            "grid_template_columns": null,
            "flex": null,
            "_model_name": "LayoutModel",
            "justify_items": null,
            "grid_row": null,
            "max_height": null,
            "align_content": null,
            "visibility": null,
            "align_self": null,
            "height": null,
            "min_height": null,
            "padding": null,
            "grid_auto_rows": null,
            "grid_gap": null,
            "max_width": null,
            "order": null,
            "_view_module_version": "1.2.0",
            "grid_template_areas": null,
            "object_position": null,
            "object_fit": null,
            "grid_auto_columns": null,
            "margin": null,
            "display": null,
            "left": null
          }
        },
        "929a82f80be14ac7ade19d7d9482c3be": {
          "model_module": "@jupyter-widgets/controls",
          "model_name": "HBoxModel",
          "state": {
            "_view_name": "HBoxView",
            "_dom_classes": [],
            "_model_name": "HBoxModel",
            "_view_module": "@jupyter-widgets/controls",
            "_model_module_version": "1.5.0",
            "_view_count": null,
            "_view_module_version": "1.5.0",
            "box_style": "",
            "layout": "IPY_MODEL_6ac2c63b18b34b528ac09d4b61c0daf0",
            "_model_module": "@jupyter-widgets/controls",
            "children": [
              "IPY_MODEL_a97802e818c04ebda57d6d836e209358",
              "IPY_MODEL_2a590009e4d34a0d9c21b44f80798c14"
            ]
          }
        },
        "6ac2c63b18b34b528ac09d4b61c0daf0": {
          "model_module": "@jupyter-widgets/base",
          "model_name": "LayoutModel",
          "state": {
            "_view_name": "LayoutView",
            "grid_template_rows": null,
            "right": null,
            "justify_content": null,
            "_view_module": "@jupyter-widgets/base",
            "overflow": null,
            "_model_module_version": "1.2.0",
            "_view_count": null,
            "flex_flow": null,
            "width": null,
            "min_width": null,
            "border": null,
            "align_items": null,
            "bottom": null,
            "_model_module": "@jupyter-widgets/base",
            "top": null,
            "grid_column": null,
            "overflow_y": null,
            "overflow_x": null,
            "grid_auto_flow": null,
            "grid_area": null,
            "grid_template_columns": null,
            "flex": null,
            "_model_name": "LayoutModel",
            "justify_items": null,
            "grid_row": null,
            "max_height": null,
            "align_content": null,
            "visibility": null,
            "align_self": null,
            "height": null,
            "min_height": null,
            "padding": null,
            "grid_auto_rows": null,
            "grid_gap": null,
            "max_width": null,
            "order": null,
            "_view_module_version": "1.2.0",
            "grid_template_areas": null,
            "object_position": null,
            "object_fit": null,
            "grid_auto_columns": null,
            "margin": null,
            "display": null,
            "left": null
          }
        },
        "a97802e818c04ebda57d6d836e209358": {
          "model_module": "@jupyter-widgets/controls",
          "model_name": "FloatProgressModel",
          "state": {
            "_view_name": "ProgressView",
            "style": "IPY_MODEL_08fc78805eed4ee6862e0fe49d70ad64",
            "_dom_classes": [],
            "description": "",
            "_model_name": "FloatProgressModel",
            "bar_style": "success",
            "max": 1648877,
            "_view_module": "@jupyter-widgets/controls",
            "_model_module_version": "1.5.0",
            "value": 1648877,
            "_view_count": null,
            "_view_module_version": "1.5.0",
            "orientation": "horizontal",
            "min": 0,
            "description_tooltip": null,
            "_model_module": "@jupyter-widgets/controls",
            "layout": "IPY_MODEL_357f4db66f274ca096c29f36a3b858c6"
          }
        },
        "2a590009e4d34a0d9c21b44f80798c14": {
          "model_module": "@jupyter-widgets/controls",
          "model_name": "HTMLModel",
          "state": {
            "_view_name": "HTMLView",
            "style": "IPY_MODEL_a85622a7d5c74a0ba226a8d1c830b1a0",
            "_dom_classes": [],
            "description": "",
            "_model_name": "HTMLModel",
            "placeholder": "​",
            "_view_module": "@jupyter-widgets/controls",
            "_model_module_version": "1.5.0",
            "value": " 1649664/? [00:01&lt;00:00, 1566700.98it/s]",
            "_view_count": null,
            "_view_module_version": "1.5.0",
            "description_tooltip": null,
            "_model_module": "@jupyter-widgets/controls",
            "layout": "IPY_MODEL_870113311eb64f55b60330294e303dd6"
          }
        },
        "08fc78805eed4ee6862e0fe49d70ad64": {
          "model_module": "@jupyter-widgets/controls",
          "model_name": "ProgressStyleModel",
          "state": {
            "_view_name": "StyleView",
            "_model_name": "ProgressStyleModel",
            "description_width": "initial",
            "_view_module": "@jupyter-widgets/base",
            "_model_module_version": "1.5.0",
            "_view_count": null,
            "_view_module_version": "1.2.0",
            "bar_color": null,
            "_model_module": "@jupyter-widgets/controls"
          }
        },
        "357f4db66f274ca096c29f36a3b858c6": {
          "model_module": "@jupyter-widgets/base",
          "model_name": "LayoutModel",
          "state": {
            "_view_name": "LayoutView",
            "grid_template_rows": null,
            "right": null,
            "justify_content": null,
            "_view_module": "@jupyter-widgets/base",
            "overflow": null,
            "_model_module_version": "1.2.0",
            "_view_count": null,
            "flex_flow": null,
            "width": null,
            "min_width": null,
            "border": null,
            "align_items": null,
            "bottom": null,
            "_model_module": "@jupyter-widgets/base",
            "top": null,
            "grid_column": null,
            "overflow_y": null,
            "overflow_x": null,
            "grid_auto_flow": null,
            "grid_area": null,
            "grid_template_columns": null,
            "flex": null,
            "_model_name": "LayoutModel",
            "justify_items": null,
            "grid_row": null,
            "max_height": null,
            "align_content": null,
            "visibility": null,
            "align_self": null,
            "height": null,
            "min_height": null,
            "padding": null,
            "grid_auto_rows": null,
            "grid_gap": null,
            "max_width": null,
            "order": null,
            "_view_module_version": "1.2.0",
            "grid_template_areas": null,
            "object_position": null,
            "object_fit": null,
            "grid_auto_columns": null,
            "margin": null,
            "display": null,
            "left": null
          }
        },
        "a85622a7d5c74a0ba226a8d1c830b1a0": {
          "model_module": "@jupyter-widgets/controls",
          "model_name": "DescriptionStyleModel",
          "state": {
            "_view_name": "StyleView",
            "_model_name": "DescriptionStyleModel",
            "description_width": "",
            "_view_module": "@jupyter-widgets/base",
            "_model_module_version": "1.5.0",
            "_view_count": null,
            "_view_module_version": "1.2.0",
            "_model_module": "@jupyter-widgets/controls"
          }
        },
        "870113311eb64f55b60330294e303dd6": {
          "model_module": "@jupyter-widgets/base",
          "model_name": "LayoutModel",
          "state": {
            "_view_name": "LayoutView",
            "grid_template_rows": null,
            "right": null,
            "justify_content": null,
            "_view_module": "@jupyter-widgets/base",
            "overflow": null,
            "_model_module_version": "1.2.0",
            "_view_count": null,
            "flex_flow": null,
            "width": null,
            "min_width": null,
            "border": null,
            "align_items": null,
            "bottom": null,
            "_model_module": "@jupyter-widgets/base",
            "top": null,
            "grid_column": null,
            "overflow_y": null,
            "overflow_x": null,
            "grid_auto_flow": null,
            "grid_area": null,
            "grid_template_columns": null,
            "flex": null,
            "_model_name": "LayoutModel",
            "justify_items": null,
            "grid_row": null,
            "max_height": null,
            "align_content": null,
            "visibility": null,
            "align_self": null,
            "height": null,
            "min_height": null,
            "padding": null,
            "grid_auto_rows": null,
            "grid_gap": null,
            "max_width": null,
            "order": null,
            "_view_module_version": "1.2.0",
            "grid_template_areas": null,
            "object_position": null,
            "object_fit": null,
            "grid_auto_columns": null,
            "margin": null,
            "display": null,
            "left": null
          }
        },
        "fe014e0b838b431a95ea44f8d50f817b": {
          "model_module": "@jupyter-widgets/controls",
          "model_name": "HBoxModel",
          "state": {
            "_view_name": "HBoxView",
            "_dom_classes": [],
            "_model_name": "HBoxModel",
            "_view_module": "@jupyter-widgets/controls",
            "_model_module_version": "1.5.0",
            "_view_count": null,
            "_view_module_version": "1.5.0",
            "box_style": "",
            "layout": "IPY_MODEL_042780bfb2ba46978430a5ab82ee9f5c",
            "_model_module": "@jupyter-widgets/controls",
            "children": [
              "IPY_MODEL_0579fa39c67945b28b8f9e096998c3ec",
              "IPY_MODEL_86c7f4f5cb8e431e920de1785d125c7f"
            ]
          }
        },
        "042780bfb2ba46978430a5ab82ee9f5c": {
          "model_module": "@jupyter-widgets/base",
          "model_name": "LayoutModel",
          "state": {
            "_view_name": "LayoutView",
            "grid_template_rows": null,
            "right": null,
            "justify_content": null,
            "_view_module": "@jupyter-widgets/base",
            "overflow": null,
            "_model_module_version": "1.2.0",
            "_view_count": null,
            "flex_flow": null,
            "width": null,
            "min_width": null,
            "border": null,
            "align_items": null,
            "bottom": null,
            "_model_module": "@jupyter-widgets/base",
            "top": null,
            "grid_column": null,
            "overflow_y": null,
            "overflow_x": null,
            "grid_auto_flow": null,
            "grid_area": null,
            "grid_template_columns": null,
            "flex": null,
            "_model_name": "LayoutModel",
            "justify_items": null,
            "grid_row": null,
            "max_height": null,
            "align_content": null,
            "visibility": null,
            "align_self": null,
            "height": null,
            "min_height": null,
            "padding": null,
            "grid_auto_rows": null,
            "grid_gap": null,
            "max_width": null,
            "order": null,
            "_view_module_version": "1.2.0",
            "grid_template_areas": null,
            "object_position": null,
            "object_fit": null,
            "grid_auto_columns": null,
            "margin": null,
            "display": null,
            "left": null
          }
        },
        "0579fa39c67945b28b8f9e096998c3ec": {
          "model_module": "@jupyter-widgets/controls",
          "model_name": "FloatProgressModel",
          "state": {
            "_view_name": "ProgressView",
            "style": "IPY_MODEL_72c9b946b93f43c5be568a792c6428e2",
            "_dom_classes": [],
            "description": "",
            "_model_name": "FloatProgressModel",
            "bar_style": "success",
            "max": 4542,
            "_view_module": "@jupyter-widgets/controls",
            "_model_module_version": "1.5.0",
            "value": 4542,
            "_view_count": null,
            "_view_module_version": "1.5.0",
            "orientation": "horizontal",
            "min": 0,
            "description_tooltip": null,
            "_model_module": "@jupyter-widgets/controls",
            "layout": "IPY_MODEL_06041113d6464847847d51136a195730"
          }
        },
        "86c7f4f5cb8e431e920de1785d125c7f": {
          "model_module": "@jupyter-widgets/controls",
          "model_name": "HTMLModel",
          "state": {
            "_view_name": "HTMLView",
            "style": "IPY_MODEL_0ed277e83115427096fc4b9c9bc8cdf7",
            "_dom_classes": [],
            "description": "",
            "_model_name": "HTMLModel",
            "placeholder": "​",
            "_view_module": "@jupyter-widgets/controls",
            "_model_module_version": "1.5.0",
            "value": " 5120/? [02:36&lt;00:00, 32.77it/s]",
            "_view_count": null,
            "_view_module_version": "1.5.0",
            "description_tooltip": null,
            "_model_module": "@jupyter-widgets/controls",
            "layout": "IPY_MODEL_404546c6995c44038a6dc70740d31e42"
          }
        },
        "72c9b946b93f43c5be568a792c6428e2": {
          "model_module": "@jupyter-widgets/controls",
          "model_name": "ProgressStyleModel",
          "state": {
            "_view_name": "StyleView",
            "_model_name": "ProgressStyleModel",
            "description_width": "initial",
            "_view_module": "@jupyter-widgets/base",
            "_model_module_version": "1.5.0",
            "_view_count": null,
            "_view_module_version": "1.2.0",
            "bar_color": null,
            "_model_module": "@jupyter-widgets/controls"
          }
        },
        "06041113d6464847847d51136a195730": {
          "model_module": "@jupyter-widgets/base",
          "model_name": "LayoutModel",
          "state": {
            "_view_name": "LayoutView",
            "grid_template_rows": null,
            "right": null,
            "justify_content": null,
            "_view_module": "@jupyter-widgets/base",
            "overflow": null,
            "_model_module_version": "1.2.0",
            "_view_count": null,
            "flex_flow": null,
            "width": null,
            "min_width": null,
            "border": null,
            "align_items": null,
            "bottom": null,
            "_model_module": "@jupyter-widgets/base",
            "top": null,
            "grid_column": null,
            "overflow_y": null,
            "overflow_x": null,
            "grid_auto_flow": null,
            "grid_area": null,
            "grid_template_columns": null,
            "flex": null,
            "_model_name": "LayoutModel",
            "justify_items": null,
            "grid_row": null,
            "max_height": null,
            "align_content": null,
            "visibility": null,
            "align_self": null,
            "height": null,
            "min_height": null,
            "padding": null,
            "grid_auto_rows": null,
            "grid_gap": null,
            "max_width": null,
            "order": null,
            "_view_module_version": "1.2.0",
            "grid_template_areas": null,
            "object_position": null,
            "object_fit": null,
            "grid_auto_columns": null,
            "margin": null,
            "display": null,
            "left": null
          }
        },
        "0ed277e83115427096fc4b9c9bc8cdf7": {
          "model_module": "@jupyter-widgets/controls",
          "model_name": "DescriptionStyleModel",
          "state": {
            "_view_name": "StyleView",
            "_model_name": "DescriptionStyleModel",
            "description_width": "",
            "_view_module": "@jupyter-widgets/base",
            "_model_module_version": "1.5.0",
            "_view_count": null,
            "_view_module_version": "1.2.0",
            "_model_module": "@jupyter-widgets/controls"
          }
        },
        "404546c6995c44038a6dc70740d31e42": {
          "model_module": "@jupyter-widgets/base",
          "model_name": "LayoutModel",
          "state": {
            "_view_name": "LayoutView",
            "grid_template_rows": null,
            "right": null,
            "justify_content": null,
            "_view_module": "@jupyter-widgets/base",
            "overflow": null,
            "_model_module_version": "1.2.0",
            "_view_count": null,
            "flex_flow": null,
            "width": null,
            "min_width": null,
            "border": null,
            "align_items": null,
            "bottom": null,
            "_model_module": "@jupyter-widgets/base",
            "top": null,
            "grid_column": null,
            "overflow_y": null,
            "overflow_x": null,
            "grid_auto_flow": null,
            "grid_area": null,
            "grid_template_columns": null,
            "flex": null,
            "_model_name": "LayoutModel",
            "justify_items": null,
            "grid_row": null,
            "max_height": null,
            "align_content": null,
            "visibility": null,
            "align_self": null,
            "height": null,
            "min_height": null,
            "padding": null,
            "grid_auto_rows": null,
            "grid_gap": null,
            "max_width": null,
            "order": null,
            "_view_module_version": "1.2.0",
            "grid_template_areas": null,
            "object_position": null,
            "object_fit": null,
            "grid_auto_columns": null,
            "margin": null,
            "display": null,
            "left": null
          }
        }
      }
    }
  },
  "cells": [
    {
      "cell_type": "markdown",
      "metadata": {
        "id": "view-in-github",
        "colab_type": "text"
      },
      "source": [
        "<a href=\"https://colab.research.google.com/github/YonDraco/learn-deep-learning/blob/main/DL_Basic.ipynb\" target=\"_parent\"><img src=\"https://colab.research.google.com/assets/colab-badge.svg\" alt=\"Open In Colab\"/></a>"
      ]
    },
    {
      "cell_type": "markdown",
      "metadata": {
        "id": "2fmUK52vgj18"
      },
      "source": [
        "\n",
        "Notebook này sẽ có hướng dẫn về các mô hình cơ bản và được sử dụng rộng rãi trong Deep Learning:\n",
        "\n",
        "* Fully Connected Neural Network\n",
        "* Convolution Neural Network (CNN)\n",
        "* Recurrent Neural Network (RNN)"
      ]
    },
    {
      "cell_type": "markdown",
      "metadata": {
        "id": "Qo0Q6BZfg0Oj"
      },
      "source": [
        "# Fully Connected Neural Network"
      ]
    },
    {
      "cell_type": "code",
      "metadata": {
        "id": "EVCXEnJsfni4"
      },
      "source": [
        "import torch\n",
        "import torch.nn as nn\n",
        "import torch.nn.functional as F\n",
        "import torchvision.datasets as datasets \n",
        "import torchvision.transforms as transforms\n",
        "import matplotlib.pyplot as plt"
      ],
      "execution_count": 1,
      "outputs": []
    },
    {
      "cell_type": "code",
      "metadata": {
        "id": "5B_KIXmPg6Qs"
      },
      "source": [
        "\n",
        "class MyFullyConnectedLayer(nn.Module):\n",
        "  def __init__(self, input_dim, output_dim):\n",
        "    \"\"\"Class này sử dụng fully connected layer (hay còn gọi là dense layer)\n",
        " \n",
        "    Args:\n",
        "    input_dim: Số chiều đầu vào\n",
        "    output_dim: Số chiều đầu ra\n",
        "    \"\"\"\n",
        "    super(MyFullyConnectedLayer, self).__init__()\n",
        " \n",
        "    # Khởi tạo fully connected layer  \n",
        "    self.fc = nn.Linear(input_dim, output_dim)\n",
        "    # Khởi tạo activation function (ở đây sử dụng softmax)\n",
        "    self.activation = nn.Softmax(dim=1)\n",
        "  \n",
        "  def forward(self, x):\n",
        "    \"\"\"Đưa input qua fully connected layer và softmax để tính đầu ra\n",
        "    \"\"\"\n",
        "    # Đưa input qua fully connected layer\n",
        "    x = self.fc(x)\n",
        "    # Đưa qua softmax để tính score\n",
        "    x = self.activation(x)\n",
        "    return x"
      ],
      "execution_count": 2,
      "outputs": []
    },
    {
      "cell_type": "code",
      "metadata": {
        "colab": {
          "base_uri": "https://localhost:8080/"
        },
        "id": "xQPUINW9g-cU",
        "outputId": "72cda12d-be9f-49fc-8f68-8052e57881f9"
      },
      "source": [
        "# Khởi tạo mô hình neural network với \n",
        "# số chiều đầu vào là 128 và số chiều đầu ra là 3\n",
        "model = MyFullyConnectedLayer(input_dim=128, output_dim=3)\n",
        "# In ra model\n",
        "print(model)"
      ],
      "execution_count": 3,
      "outputs": [
        {
          "output_type": "stream",
          "text": [
            "MyFullyConnectedLayer(\n",
            "  (fc): Linear(in_features=128, out_features=3, bias=True)\n",
            "  (activation): Softmax(dim=1)\n",
            ")\n"
          ],
          "name": "stdout"
        }
      ]
    },
    {
      "cell_type": "code",
      "metadata": {
        "colab": {
          "base_uri": "https://localhost:8080/"
        },
        "id": "Y3tFSLzUhBe1",
        "outputId": "78fc49d7-6a2b-498c-adca-07520ba615ff"
      },
      "source": [
        "# Khởi tạo giá trị input ngẫu nhiên với 5 samples, mỗi sample có 128 chiều\n",
        "input_data = torch.randn(5, 128)\n",
        "# Đưa input qua mô hình\n",
        "out = model(input_data)\n",
        "# In ra kết quả\n",
        "print(out)"
      ],
      "execution_count": 4,
      "outputs": [
        {
          "output_type": "stream",
          "text": [
            "tensor([[0.2024, 0.2556, 0.5420],\n",
            "        [0.1615, 0.2123, 0.6262],\n",
            "        [0.2592, 0.1794, 0.5614],\n",
            "        [0.3706, 0.4360, 0.1934],\n",
            "        [0.4566, 0.2048, 0.3386]], grad_fn=<SoftmaxBackward>)\n"
          ],
          "name": "stdout"
        }
      ]
    },
    {
      "cell_type": "markdown",
      "metadata": {
        "id": "VbFa5Z6Whe6d"
      },
      "source": [
        "# Multi layer Neural Network"
      ]
    },
    {
      "cell_type": "code",
      "metadata": {
        "id": "JmfcSsj6hDyF"
      },
      "source": [
        "class MyFullyConnectedLayer(nn.Module):\n",
        "  def __init__(self, input_dim, hidden_dim, output_dim):\n",
        "    \"\"\"Class này xây dựng mô hình neural network với \n",
        "    1 input layer, 1 hidden layer và 1 output layer\n",
        "\n",
        "    Args:\n",
        "    input_dim: Số chiều đầu vào\n",
        "    hidden_dim: Số chiều tầng ẩn\n",
        "    output_dim: Số chiều đầu ra\n",
        "    \"\"\"\n",
        "    super(MyFullyConnectedLayer, self).__init__()\n",
        "\n",
        "    # Khởi tạo hidden layer với số chiều đầu vào bằng số  chiều của input\n",
        "    # và số chiều đầu ra bằng số chiều của tầng ẩn\n",
        "    self.hidden_layer = nn.Linear(input_dim, hidden_dim)\n",
        "    # Khởi tạo relu activation function\n",
        "    self.relu = nn.ReLU()\n",
        "    # Khởi tạo output layer với số chiều đầu vào bằng số chiều của tầng ẩn\n",
        "    # và số chiều đầu ra bằng số chiều của ouput\n",
        "    self.output = nn.Linear(hidden_dim, output_dim)\n",
        "    # Khởi tạo softmax activation function\n",
        "    self.softmax = nn.Softmax(dim=1)\n",
        "  \n",
        "  def forward(self, x):\n",
        "    \"\"\"Đưa input qua 1 tầng hidden layer để tính đầu ra\n",
        "    \"\"\"\n",
        "    # Đưa input qua 1 tầng hidden layer, số chiều của x là (input_dim, hidden_dim)\n",
        "    x = self.hidden_layer(x)\n",
        "    # Đưa qua relu \n",
        "    x = self.relu(x)\n",
        "    # Đưa qua output layer, số chiều của x là (hidden_dim, output_dim)\n",
        "    x = self.output(x)\n",
        "    # Tính softmax\n",
        "    x = self.softmax(x)\n",
        "    return x"
      ],
      "execution_count": 5,
      "outputs": []
    },
    {
      "cell_type": "code",
      "metadata": {
        "colab": {
          "base_uri": "https://localhost:8080/"
        },
        "id": "KmUbb6AkhiZs",
        "outputId": "58c100ec-fa6e-4669-ba8d-286658cb4399"
      },
      "source": [
        "# Khởi tạo mô hình \n",
        "model = MyFullyConnectedLayer(input_dim=128, hidden_dim=256, output_dim=3)\n",
        "# In ra model\n",
        "print(model)"
      ],
      "execution_count": 6,
      "outputs": [
        {
          "output_type": "stream",
          "text": [
            "MyFullyConnectedLayer(\n",
            "  (hidden_layer): Linear(in_features=128, out_features=256, bias=True)\n",
            "  (relu): ReLU()\n",
            "  (output): Linear(in_features=256, out_features=3, bias=True)\n",
            "  (softmax): Softmax(dim=1)\n",
            ")\n"
          ],
          "name": "stdout"
        }
      ]
    },
    {
      "cell_type": "code",
      "metadata": {
        "colab": {
          "base_uri": "https://localhost:8080/"
        },
        "id": "W0bT5p96hlME",
        "outputId": "bc1be570-10ff-4612-e0bb-4c1ad2af7973"
      },
      "source": [
        "# Khởi tạo giá trị input ngẫu nhiên với 5 samples, mỗi sample có 128 chiều\n",
        "input_data = torch.randn(5, 128)\n",
        "# Đưa input qua mô hình\n",
        "out = model(input_data)\n",
        "# In ra kết quả\n",
        "print(out)"
      ],
      "execution_count": 7,
      "outputs": [
        {
          "output_type": "stream",
          "text": [
            "tensor([[0.3261, 0.2752, 0.3988],\n",
            "        [0.3670, 0.2624, 0.3706],\n",
            "        [0.3416, 0.3675, 0.2909],\n",
            "        [0.2589, 0.3749, 0.3662],\n",
            "        [0.3750, 0.2925, 0.3324]], grad_fn=<SoftmaxBackward>)\n"
          ],
          "name": "stdout"
        }
      ]
    },
    {
      "cell_type": "markdown",
      "metadata": {
        "id": "_pXJDrpGhpod"
      },
      "source": [
        "# Training a Neural Network"
      ]
    },
    {
      "cell_type": "code",
      "metadata": {
        "colab": {
          "base_uri": "https://localhost:8080/",
          "height": 709,
          "referenced_widgets": [
            "69041f8d41774c62b17a31798457ce02",
            "8f15ef6603624ed3858759be8a21c03f",
            "585169749c484ac4a715d8bbc270881c",
            "fb58688641924d3fb0d69b9bd51de5b3",
            "2d4f00fa3b294b2ca8e654aecc407dfb",
            "4f8399c3f235457684867570c011de4a",
            "75753839c1c94606818edf3e789fc235",
            "6196bad1d72649cf8e7737d2cff014f2",
            "866eddf58eda4ff6a0d68536f3093233",
            "ead453a3393047cb9a404b9a1d392852",
            "b143b50a28fe4c0f88a98692ef6a242c",
            "348cd5572f254f7583e38fbb28e64d65",
            "ca7d89d66eeb433fafeb2c935312f4c0",
            "35f952ff0bc84eb4a761f7280297610c",
            "5fc6f3f3bae8451ea4eb6a39664104f7",
            "a9be60eea25647c7bc766a2bb40a5429",
            "929a82f80be14ac7ade19d7d9482c3be",
            "6ac2c63b18b34b528ac09d4b61c0daf0",
            "a97802e818c04ebda57d6d836e209358",
            "2a590009e4d34a0d9c21b44f80798c14",
            "08fc78805eed4ee6862e0fe49d70ad64",
            "357f4db66f274ca096c29f36a3b858c6",
            "a85622a7d5c74a0ba226a8d1c830b1a0",
            "870113311eb64f55b60330294e303dd6",
            "fe014e0b838b431a95ea44f8d50f817b",
            "042780bfb2ba46978430a5ab82ee9f5c",
            "0579fa39c67945b28b8f9e096998c3ec",
            "86c7f4f5cb8e431e920de1785d125c7f",
            "72c9b946b93f43c5be568a792c6428e2",
            "06041113d6464847847d51136a195730",
            "0ed277e83115427096fc4b9c9bc8cdf7",
            "404546c6995c44038a6dc70740d31e42"
          ]
        },
        "id": "LkK2jxcBhnwe",
        "outputId": "768c3a47-b255-4987-c236-ae80d69daf98"
      },
      "source": [
        "# Hàm này dùng để đưa input về dạng Tensor và chuẩn hoá giá trị của ảnh về trong khoảng [0, 1]\n",
        "transform = transforms.Compose([transforms.ToTensor(), transforms.Normalize((0.5,), (0.5,)),])\n",
        "\n",
        "# Download MNIST dataset\n",
        "mnist_trainset = datasets.MNIST(root='./data', train=True, download=True, transform=transform)\n",
        "mnist_testset = datasets.MNIST(root='./data', train=False, download=True, transform=transform)\n",
        "\n",
        "# Chia data về từng batch có số lượng là 10\n",
        "train_loader = torch.utils.data.DataLoader(mnist_trainset, batch_size=10, shuffle=True)\n",
        "test_loader = torch.utils.data.DataLoader(mnist_testset, batch_size=10, shuffle=True)"
      ],
      "execution_count": 8,
      "outputs": [
        {
          "output_type": "stream",
          "text": [
            "Downloading http://yann.lecun.com/exdb/mnist/train-images-idx3-ubyte.gz\n",
            "Downloading http://yann.lecun.com/exdb/mnist/train-images-idx3-ubyte.gz to ./data/MNIST/raw/train-images-idx3-ubyte.gz\n",
            "Failed to download (trying next):\n",
            "HTTP Error 503: Service Unavailable\n",
            "\n",
            "Downloading https://ossci-datasets.s3.amazonaws.com/mnist/train-images-idx3-ubyte.gz\n",
            "Downloading https://ossci-datasets.s3.amazonaws.com/mnist/train-images-idx3-ubyte.gz to ./data/MNIST/raw/train-images-idx3-ubyte.gz\n"
          ],
          "name": "stdout"
        },
        {
          "output_type": "display_data",
          "data": {
            "application/vnd.jupyter.widget-view+json": {
              "model_id": "69041f8d41774c62b17a31798457ce02",
              "version_minor": 0,
              "version_major": 2
            },
            "text/plain": [
              "HBox(children=(FloatProgress(value=0.0, max=9912422.0), HTML(value='')))"
            ]
          },
          "metadata": {
            "tags": []
          }
        },
        {
          "output_type": "stream",
          "text": [
            "\n",
            "Extracting ./data/MNIST/raw/train-images-idx3-ubyte.gz to ./data/MNIST/raw\n",
            "\n",
            "Downloading http://yann.lecun.com/exdb/mnist/train-labels-idx1-ubyte.gz\n",
            "Downloading http://yann.lecun.com/exdb/mnist/train-labels-idx1-ubyte.gz to ./data/MNIST/raw/train-labels-idx1-ubyte.gz\n"
          ],
          "name": "stdout"
        },
        {
          "output_type": "display_data",
          "data": {
            "application/vnd.jupyter.widget-view+json": {
              "model_id": "866eddf58eda4ff6a0d68536f3093233",
              "version_minor": 0,
              "version_major": 2
            },
            "text/plain": [
              "HBox(children=(FloatProgress(value=0.0, max=28881.0), HTML(value='')))"
            ]
          },
          "metadata": {
            "tags": []
          }
        },
        {
          "output_type": "stream",
          "text": [
            "\n",
            "Extracting ./data/MNIST/raw/train-labels-idx1-ubyte.gz to ./data/MNIST/raw\n",
            "\n",
            "Downloading http://yann.lecun.com/exdb/mnist/t10k-images-idx3-ubyte.gz\n",
            "Downloading http://yann.lecun.com/exdb/mnist/t10k-images-idx3-ubyte.gz to ./data/MNIST/raw/t10k-images-idx3-ubyte.gz\n",
            "Failed to download (trying next):\n",
            "HTTP Error 503: Service Unavailable\n",
            "\n",
            "Downloading https://ossci-datasets.s3.amazonaws.com/mnist/t10k-images-idx3-ubyte.gz\n",
            "Downloading https://ossci-datasets.s3.amazonaws.com/mnist/t10k-images-idx3-ubyte.gz to ./data/MNIST/raw/t10k-images-idx3-ubyte.gz\n"
          ],
          "name": "stdout"
        },
        {
          "output_type": "display_data",
          "data": {
            "application/vnd.jupyter.widget-view+json": {
              "model_id": "929a82f80be14ac7ade19d7d9482c3be",
              "version_minor": 0,
              "version_major": 2
            },
            "text/plain": [
              "HBox(children=(FloatProgress(value=0.0, max=1648877.0), HTML(value='')))"
            ]
          },
          "metadata": {
            "tags": []
          }
        },
        {
          "output_type": "stream",
          "text": [
            "\n",
            "Extracting ./data/MNIST/raw/t10k-images-idx3-ubyte.gz to ./data/MNIST/raw\n",
            "\n",
            "Downloading http://yann.lecun.com/exdb/mnist/t10k-labels-idx1-ubyte.gz\n",
            "Downloading http://yann.lecun.com/exdb/mnist/t10k-labels-idx1-ubyte.gz to ./data/MNIST/raw/t10k-labels-idx1-ubyte.gz\n"
          ],
          "name": "stdout"
        },
        {
          "output_type": "display_data",
          "data": {
            "application/vnd.jupyter.widget-view+json": {
              "model_id": "fe014e0b838b431a95ea44f8d50f817b",
              "version_minor": 0,
              "version_major": 2
            },
            "text/plain": [
              "HBox(children=(FloatProgress(value=0.0, max=4542.0), HTML(value='')))"
            ]
          },
          "metadata": {
            "tags": []
          }
        },
        {
          "output_type": "stream",
          "text": [
            "\n",
            "Extracting ./data/MNIST/raw/t10k-labels-idx1-ubyte.gz to ./data/MNIST/raw\n",
            "\n"
          ],
          "name": "stdout"
        },
        {
          "output_type": "stream",
          "text": [
            "/usr/local/lib/python3.7/dist-packages/torchvision/datasets/mnist.py:498: UserWarning: The given NumPy array is not writeable, and PyTorch does not support non-writeable tensors. This means you can write to the underlying (supposedly non-writeable) NumPy array using the tensor. You may want to copy the array to protect its data or make it writeable before converting it to a tensor. This type of warning will be suppressed for the rest of this program. (Triggered internally at  /pytorch/torch/csrc/utils/tensor_numpy.cpp:180.)\n",
            "  return torch.from_numpy(parsed.astype(m[2], copy=False)).view(*s)\n"
          ],
          "name": "stderr"
        }
      ]
    },
    {
      "cell_type": "code",
      "metadata": {
        "id": "xNZp5K12huq1"
      },
      "source": [
        "class MyModel(nn.Module):\n",
        "  \"\"\"Xây dựng mô hình với 2 hidden layers và 1 output layer. \n",
        "  Sử dụng ReLU activation sau mỗi hidden layer.\n",
        "  Sử dụng Softmax activation để đưa kết quả về dưới dạng xác suất.\n",
        "  \"\"\"\n",
        "  def __init__(self):\n",
        "    super(MyModel,self).__init__()\n",
        "    self.hidden_1 = nn.Linear(28*28, 100) # (img_size, hidden_size_1) \n",
        "    self.hidden_2 = nn.Linear(100, 50) # (hidden_size_1, hidden_size_2)\n",
        "    self.output = nn.Linear(50, 10) # (hidden_size_2, num_output)\n",
        "    self.relu = nn.ReLU()\n",
        "    self.softmax = nn.Softmax(dim=1)\n",
        "\n",
        "  def forward(self, img): \n",
        "    # Chuyển input dưới dạng ảnh 2 chiều (28, 28) thành vector 1 chiều (1, 28*28)\n",
        "    x = img.view(-1, 28*28)\n",
        "    # Đưa qua 1 tầng hidden layer và sử dụng relu \n",
        "    x = self.relu(self.hidden_1(x)) \n",
        "    x = self.relu(self.hidden_2(x))\n",
        "    # Đưa qua ouput layer và sử dụng softmax để đưa về xác suất\n",
        "    x = self.output(x)\n",
        "    x = self.softmax(x)\n",
        "    return x\n",
        "    \n",
        "model = MyModel()"
      ],
      "execution_count": 9,
      "outputs": []
    },
    {
      "cell_type": "code",
      "metadata": {
        "colab": {
          "base_uri": "https://localhost:8080/"
        },
        "id": "xnL6aHUIhzzk",
        "outputId": "6cff51cc-76be-4315-da00-40fb19a4b917"
      },
      "source": [
        "# Khởi tạo hàm loss, ở đây sử dụng Cross Entropy Loss\n",
        "criterion = nn.CrossEntropyLoss()\n",
        "# Khởi tạo hàm tối ưu Adam với learning_rate là 0.001\n",
        "optimizer = torch.optim.Adam(model.parameters(), lr=0.001)\n",
        "# Khởi tạo số epoch\n",
        "epoch = 3\n",
        "\n",
        "# Bắt đầu training\n",
        "for epoch in range(epoch):\n",
        "    total_loss = 0.0\n",
        "    for i, data in enumerate(train_loader):\n",
        "        # Lấy input từ data_loader, \n",
        "        # thông tin gồm ma trận 2 chiều (28, 28) của ảnh đầu vào\n",
        "        # và giá trị label của ảnh\n",
        "        inputs, labels = data\n",
        "\n",
        "        # Đưa đạo hàm về giá trị 0\n",
        "        optimizer.zero_grad()\n",
        "\n",
        "        # Đưa input qua mô hình\n",
        "        outputs = model(inputs)\n",
        "        # Tính loss giữa output của mô hình và labels chuẩn\n",
        "        loss = criterion(outputs, labels)\n",
        "        # Tính toán đạo hàm\n",
        "        loss.backward()\n",
        "        # Cập nhật đạo hàm\n",
        "        optimizer.step()\n",
        "\n",
        "        # In ra giá trị loss\n",
        "        total_loss += loss.item()\n",
        "        if i % 2000 == 1999:    # In ra hàm loss với mỗi 2000 mini-batches\n",
        "            print('[%d, %5d] loss: %.3f' %\n",
        "                  (epoch + 1, i + 1, total_loss / 2000))\n",
        "            total_loss = 0.0\n",
        "\n",
        "print('Finished Training')"
      ],
      "execution_count": 10,
      "outputs": [
        {
          "output_type": "stream",
          "text": [
            "[1,  2000] loss: 1.672\n",
            "[1,  4000] loss: 1.580\n",
            "[1,  6000] loss: 1.564\n",
            "[2,  2000] loss: 1.552\n",
            "[2,  4000] loss: 1.550\n",
            "[2,  6000] loss: 1.541\n",
            "[3,  2000] loss: 1.540\n",
            "[3,  4000] loss: 1.531\n",
            "[3,  6000] loss: 1.534\n",
            "Finished Training\n"
          ],
          "name": "stdout"
        }
      ]
    },
    {
      "cell_type": "code",
      "metadata": {
        "colab": {
          "base_uri": "https://localhost:8080/"
        },
        "id": "BtOAu6rph2Ns",
        "outputId": "b0cf0194-cb55-4ea3-9ff2-49b8c4108e53"
      },
      "source": [
        "# Số lượng đoán đúng\n",
        "correct = 0\n",
        "# Tổng số sample\n",
        "total = 0\n",
        "\n",
        "# Tính tỉ lệ mô hình dự đoán chính xác\n",
        "with torch.no_grad():\n",
        "    for data in test_loader:\n",
        "        x, y = data\n",
        "        output = model(x.view(-1, 28*28))\n",
        "        for idx, i in enumerate(output):\n",
        "            if torch.argmax(i) == y[idx]:\n",
        "                correct +=1\n",
        "            total +=1\n",
        "print(f'accuracy: {round(correct/total, 3)}')"
      ],
      "execution_count": 11,
      "outputs": [
        {
          "output_type": "stream",
          "text": [
            "accuracy: 0.941\n"
          ],
          "name": "stdout"
        }
      ]
    },
    {
      "cell_type": "code",
      "metadata": {
        "colab": {
          "base_uri": "https://localhost:8080/",
          "height": 282
        },
        "id": "w10IGc8wh5r9",
        "outputId": "1d217c79-0995-4a93-c037-89d216cd1201"
      },
      "source": [
        "\n",
        "# Hiển thị hình ảnh và dự đoán\n",
        "plt.imshow(x[2].view(28, 28))\n",
        "plt.show()\n",
        "print(torch.argmax(model(x[2].view(-1, 28*28))[0]))"
      ],
      "execution_count": 12,
      "outputs": [
        {
          "output_type": "display_data",
          "data": {
            "image/png": "[encoded data removed]",
            "text/plain": [
              "<Figure size 432x288 with 1 Axes>"
            ]
          },
          "metadata": {
            "tags": [],
            "needs_background": "light"
          }
        },
        {
          "output_type": "stream",
          "text": [
            "tensor(1)\n"
          ],
          "name": "stdout"
        }
      ]
    },
    {
      "cell_type": "markdown",
      "metadata": {
        "id": "4adkV5XHh-Ct"
      },
      "source": [
        "# Convolutional Implementation"
      ]
    },
    {
      "cell_type": "code",
      "metadata": {
        "id": "qKMfC8Fmh6MN"
      },
      "source": [
        "class CNN(nn.Module):\n",
        "  \"\"\"Class này xây dựng mô hình CNN với 2 tầng convolution layers và max pooling ngay phía sau\n",
        "  Sau khi có feature map từ 2 tầng convolution, output sẽ tiếp tục đưa qua 2 tầng fully \n",
        "  connected layers và qua relu activation.\n",
        "  \"\"\"\n",
        "  def __init__(self):\n",
        "    super(CNN, self).__init__()\n",
        "    self.conv1 = nn.Conv2d(1, 6, 5) # 1 input channels, 6 output channels, kernel size = 5\n",
        "    self.pool = nn.MaxPool2d(2, 2) # kernel size = 2, stride = 2\n",
        "    self.conv2 = nn.Conv2d(6, 16, 5) \n",
        "    self.fc1 = nn.Linear(16 * 5 * 5, 120) # tầng fully connected thứ nhất\n",
        "    self.fc2 = nn.Linear(120, 84) # tầng fully connected thứ hai\n",
        "    self.fc3 = nn.Linear(84, 10) # tầng fully connected thứ ba, cũng là output layer\n",
        "\n",
        "  def forward(self, x):\n",
        "    x = self.pool(F.relu(self.conv1(x))) # đưa qua tầng conv thứ nhất\n",
        "    x = self.pool(F.relu(self.conv2(x))) # đưa qua tầng conv thứ hai\n",
        "    x = x.view(-1, 16 * 5 * 5) # đưa input từ dạng nhiều chiều thành 1 chiều\n",
        "    x = F.relu(self.fc1(x)) # đưa qua tầng fully connected thứ nhất\n",
        "    x = F.relu(self.fc2(x)) # đưa qua tầng fully connected thứ hai\n",
        "    x = self.fc3(x) # lấy output\n",
        "    return x\n",
        "cnn_model = CNN()"
      ],
      "execution_count": 13,
      "outputs": []
    },
    {
      "cell_type": "code",
      "metadata": {
        "colab": {
          "base_uri": "https://localhost:8080/"
        },
        "id": "bjHL_ryIjF3d",
        "outputId": "305458e8-108f-45d5-cb65-43866c95c5b6"
      },
      "source": [
        "# Khởi tạo hàm loss, ở đây sử dụng Cross Entropy Loss\n",
        "criterion = nn.CrossEntropyLoss()\n",
        "# Khởi tạo hàm tối ưu Adam với learning_rate là 0.001\n",
        "optimizer = torch.optim.Adam(model.parameters(), lr=0.001)\n",
        "# Khởi tạo số epoch\n",
        "epoch = 3\n",
        "\n",
        "# Bắt đầu training\n",
        "for epoch in range(epoch):\n",
        "    total_loss = 0.0\n",
        "    for i, data in enumerate(train_loader):\n",
        "        # Lấy input từ data_loader, \n",
        "        # thông tin gồm ma trận 2 chiều (28, 28) của ảnh đầu vào\n",
        "        # và giá trị label của ảnh\n",
        "        inputs, labels = data\n",
        "\n",
        "        # Đưa đạo hàm về giá trị 0\n",
        "        optimizer.zero_grad()\n",
        "\n",
        "        # Đưa input qua mô hình\n",
        "        outputs = model(inputs)\n",
        "        # Tính loss giữa output của mô hình và labels chuẩn\n",
        "        loss = criterion(outputs, labels)\n",
        "        # Tính toán đạo hàm\n",
        "        loss.backward()\n",
        "        # Cập nhật đạo hàm\n",
        "        optimizer.step()\n",
        "\n",
        "        # In ra giá trị loss\n",
        "        total_loss += loss.item()\n",
        "        if i % 2000 == 1999:    # In ra hàm loss với mỗi 2000 mini-batches\n",
        "            print('[%d, %5d] loss: %.3f' %\n",
        "                  (epoch + 1, i + 1, total_loss / 2000))\n",
        "            total_loss = 0.0\n",
        "\n",
        "print('Finished Training')"
      ],
      "execution_count": 14,
      "outputs": [
        {
          "output_type": "stream",
          "text": [
            "[1,  2000] loss: 1.526\n",
            "[1,  4000] loss: 1.527\n",
            "[1,  6000] loss: 1.527\n",
            "[2,  2000] loss: 1.524\n",
            "[2,  4000] loss: 1.527\n",
            "[2,  6000] loss: 1.527\n",
            "[3,  2000] loss: 1.520\n",
            "[3,  4000] loss: 1.524\n",
            "[3,  6000] loss: 1.520\n",
            "Finished Training\n"
          ],
          "name": "stdout"
        }
      ]
    },
    {
      "cell_type": "code",
      "metadata": {
        "colab": {
          "base_uri": "https://localhost:8080/"
        },
        "id": "NGcErNZbjNtM",
        "outputId": "683861a0-3dff-472a-b0b2-f5ddfd880a98"
      },
      "source": [
        "# Số lượng đoán đúng\n",
        "correct = 0\n",
        "# Tổng số sample\n",
        "total = 0\n",
        "\n",
        "# Tính tỉ lệ mô hình dự đoán chính xác\n",
        "with torch.no_grad():\n",
        "    for data in test_loader:\n",
        "        x, y = data\n",
        "        output = model(x.view(-1, 28*28))\n",
        "        for idx, i in enumerate(output):\n",
        "            if torch.argmax(i) == y[idx]:\n",
        "                correct +=1\n",
        "            total +=1\n",
        "print(f'accuracy: {round(correct/total, 3)}')"
      ],
      "execution_count": 15,
      "outputs": [
        {
          "output_type": "stream",
          "text": [
            "accuracy: 0.942\n"
          ],
          "name": "stdout"
        }
      ]
    },
    {
      "cell_type": "code",
      "metadata": {
        "colab": {
          "base_uri": "https://localhost:8080/",
          "height": 282
        },
        "id": "wany0KmRjPbE",
        "outputId": "693860e8-ad25-4674-db66-6f2d240b613b"
      },
      "source": [
        "# Hiển thị hình ảnh và dự đoán\n",
        "plt.imshow(x[0].view(28, 28))\n",
        "plt.show()\n",
        "print(torch.argmax(model(x[0].view(-1, 28*28))[0]))"
      ],
      "execution_count": 16,
      "outputs": [
        {
          "output_type": "display_data",
          "data": {
            "image/png": "[encoded data removed]",
            "text/plain": [
              "<Figure size 432x288 with 1 Axes>"
            ]
          },
          "metadata": {
            "tags": [],
            "needs_background": "light"
          }
        },
        {
          "output_type": "stream",
          "text": [
            "tensor(8)\n"
          ],
          "name": "stdout"
        }
      ]
    },
    {
      "cell_type": "markdown",
      "metadata": {
        "id": "RwY277FMjUW8"
      },
      "source": [
        "# RNN Implementation"
      ]
    },
    {
      "cell_type": "code",
      "metadata": {
        "id": "yM7tIqU7jSZj"
      },
      "source": [
        "\n",
        "import requests\n",
        "import zipfile\n",
        "import os\n",
        "import string\n",
        "import unicodedata\n",
        "import time\n",
        "\n",
        "import numpy as np\n",
        "import matplotlib.pyplot as plt\n",
        "import matplotlib.ticker as ticker\n",
        "%matplotlib inline\n",
        "\n",
        "import torch\n",
        "import torch.nn as nn\n",
        "from torch.utils.data import Dataset, DataLoader\n",
        "from torch.nn.utils.rnn import pad_sequence"
      ],
      "execution_count": 17,
      "outputs": []
    },
    {
      "cell_type": "markdown",
      "metadata": {
        "id": "0V65Tx-ZjnBU"
      },
      "source": [
        "## Prepare data"
      ]
    },
    {
      "cell_type": "code",
      "metadata": {
        "id": "BQ7c5gUHjdL0"
      },
      "source": [
        "# donwload và extract data \n",
        "fileurl = \"https://download.pytorch.org/tutorial/data.zip\"\n",
        "r = requests.get(fileurl)\n",
        "open(\"data.zip\", 'wb').write(r.content)\n",
        "\n",
        "import zipfile\n",
        "with zipfile.ZipFile(\"data.zip\",\"r\") as zip_ref:\n",
        "    zip_ref.extractall(\".\");"
      ],
      "execution_count": 18,
      "outputs": []
    },
    {
      "cell_type": "code",
      "metadata": {
        "colab": {
          "base_uri": "https://localhost:8080/"
        },
        "id": "mR5alPk3jrR7",
        "outputId": "32f5d77b-5fdb-438a-feff-ff4cae5d3df5"
      },
      "source": [
        "# data file\n",
        "filepath = \"data/names/\"\n",
        "\n",
        "# Khởi tạo list chứa names và labels tương ứng\n",
        "line_list = []\n",
        "category_list = []\n",
        "\n",
        "# Store categories \n",
        "all_categories = []\n",
        "\n",
        "# Loop over all files in the directory and read them\n",
        "for filename in os.listdir(filepath):   \n",
        "  lines = open(filepath+filename, encoding = \"utf-8\").read().strip().split(\"\\n\")\n",
        "  line_list += lines\n",
        "  category = filename.split(\".\")[0]\n",
        "  all_categories.append(category)\n",
        "  categories = [category]*len(lines)\n",
        "  category_list += categories\n",
        "\n",
        "n_categories = len(all_categories)\n",
        "\n",
        "print(\"Length of line/category lists: {}/{}\".format(len(line_list), len(category_list)))\n",
        "print(\"Number of categories:\", n_categories)\n",
        "print(\"Categories:\", all_categories)\n",
        "print(\"First 5 names:\", line_list[0:5])"
      ],
      "execution_count": 19,
      "outputs": [
        {
          "output_type": "stream",
          "text": [
            "Length of line/category lists: 20074/20074\n",
            "Number of categories: 18\n",
            "Categories: ['Portuguese', 'Russian', 'Spanish', 'Scottish', 'Czech', 'English', 'German', 'Arabic', 'Vietnamese', 'Polish', 'Korean', 'Japanese', 'Irish', 'Chinese', 'French', 'Dutch', 'Greek', 'Italian']\n",
            "First 5 names: ['Abreu', 'Albuquerque', 'Almeida', 'Alves', 'Araújo']\n"
          ],
          "name": "stdout"
        }
      ]
    },
    {
      "cell_type": "code",
      "metadata": {
        "colab": {
          "base_uri": "https://localhost:8080/"
        },
        "id": "VeE2K4yijuLT",
        "outputId": "bb93c4ba-5955-4027-a839-336c1605807b"
      },
      "source": [
        "# Số lượng names cho từng language\n",
        "unique, counts = np.unique(category_list, return_counts=True)\n",
        "print(\"Names per language in training data:\\n\", dict(zip(unique, counts)))"
      ],
      "execution_count": 20,
      "outputs": [
        {
          "output_type": "stream",
          "text": [
            "Names per language in training data:\n",
            " {'Arabic': 2000, 'Chinese': 268, 'Czech': 519, 'Dutch': 297, 'English': 3668, 'French': 277, 'German': 724, 'Greek': 203, 'Irish': 232, 'Italian': 709, 'Japanese': 991, 'Korean': 94, 'Polish': 139, 'Portuguese': 74, 'Russian': 9408, 'Scottish': 100, 'Spanish': 298, 'Vietnamese': 73}\n"
          ],
          "name": "stdout"
        }
      ]
    },
    {
      "cell_type": "markdown",
      "metadata": {
        "id": "VPK0t5zljyvE"
      },
      "source": [
        "## Convert names to tensors"
      ]
    },
    {
      "cell_type": "code",
      "metadata": {
        "colab": {
          "base_uri": "https://localhost:8080/"
        },
        "id": "5botZzf9jwuD",
        "outputId": "315d8979-897c-4d5d-a37f-0c5d9a41b9bf"
      },
      "source": [
        "# Tạo bộ vocab cho letters\n",
        "all_letters = string.ascii_letters + \" .,;'-\"\n",
        "n_letters = len(all_letters)\n",
        "\n",
        "print(\"Vocabulary:\", all_letters)\n",
        "print(\"Vocabulary size:\", n_letters)"
      ],
      "execution_count": 21,
      "outputs": [
        {
          "output_type": "stream",
          "text": [
            "Vocabulary: abcdefghijklmnopqrstuvwxyzABCDEFGHIJKLMNOPQRSTUVWXYZ .,;'-\n",
            "Vocabulary size: 58\n"
          ],
          "name": "stdout"
        }
      ]
    },
    {
      "cell_type": "code",
      "metadata": {
        "colab": {
          "base_uri": "https://localhost:8080/"
        },
        "id": "glYUhB3jj4R7",
        "outputId": "17a34de1-c1f9-440f-97fc-7ed83586fff6"
      },
      "source": [
        "# Chuyển từ định dạng unicode sang ascii, loại bỏ các kí tự dấu\n",
        "def unicode_to_ascii(s):\n",
        "  return \"\".join(\n",
        "    c for c in unicodedata.normalize(\"NFD\", s)\n",
        "    if unicodedata.category(c) != \"Mn\"\n",
        "    and c in all_letters\n",
        "  )\n",
        "\n",
        "# Example\n",
        "print(\"Example: Hoà >>>\", unicode_to_ascii(\"Hoà\"))"
      ],
      "execution_count": 22,
      "outputs": [
        {
          "output_type": "stream",
          "text": [
            "Example: Hoà >>> Hoa\n"
          ],
          "name": "stdout"
        }
      ]
    },
    {
      "cell_type": "code",
      "metadata": {
        "colab": {
          "base_uri": "https://localhost:8080/"
        },
        "id": "aeLE7w41j_7E",
        "outputId": "4555b4db-0e8f-400a-c01c-af885bad0fab"
      },
      "source": [
        "# Tìm giá trị index cho các letter\n",
        "def letter_to_index(letter):\n",
        "  return all_letters.find(letter)\n",
        "\n",
        "# Example\n",
        "print(\"Index of letter 'g':\", all_letters.find(\"g\"))"
      ],
      "execution_count": 23,
      "outputs": [
        {
          "output_type": "stream",
          "text": [
            "Index of letter 'g': 6\n"
          ],
          "name": "stdout"
        }
      ]
    },
    {
      "cell_type": "code",
      "metadata": {
        "colab": {
          "base_uri": "https://localhost:8080/"
        },
        "id": "FWlWJ79akBPO",
        "outputId": "bb545094-4ebc-43f5-ad8a-2e207fb23325"
      },
      "source": [
        "\n",
        "# Chuyển name thành dạng one-hot vector\n",
        "def line_to_tensor(line):\n",
        "  tensor = torch.zeros(len(line), 1, n_letters)\n",
        "  for i, letter in enumerate(line):\n",
        "    tensor[i][0][letter_to_index(letter)] = 1\n",
        "  return tensor\n",
        "\n",
        "# Chuyển toàn bộ data thành dạng ascii và one-hot vectors\n",
        "line_list_clean = [unicode_to_ascii(line) for line in line_list]\n",
        "line_list_tensorized = [line_to_tensor(line) for line in line_list_clean] \n",
        "\n",
        "# Example\n",
        "print(\"Example name: Hoa\")\n",
        "print(\"Tensor size:\", line_to_tensor(\"Hoa\").size())\n",
        "print(\"Tensorized name:\\n\", line_to_tensor(\"Hoa\"))"
      ],
      "execution_count": 24,
      "outputs": [
        {
          "output_type": "stream",
          "text": [
            "Example name: Hoa\n",
            "Tensor size: torch.Size([3, 1, 58])\n",
            "Tensorized name:\n",
            " tensor([[[0., 0., 0., 0., 0., 0., 0., 0., 0., 0., 0., 0., 0., 0., 0., 0., 0.,\n",
            "          0., 0., 0., 0., 0., 0., 0., 0., 0., 0., 0., 0., 0., 0., 0., 0., 1.,\n",
            "          0., 0., 0., 0., 0., 0., 0., 0., 0., 0., 0., 0., 0., 0., 0., 0., 0.,\n",
            "          0., 0., 0., 0., 0., 0., 0.]],\n",
            "\n",
            "        [[0., 0., 0., 0., 0., 0., 0., 0., 0., 0., 0., 0., 0., 0., 1., 0., 0.,\n",
            "          0., 0., 0., 0., 0., 0., 0., 0., 0., 0., 0., 0., 0., 0., 0., 0., 0.,\n",
            "          0., 0., 0., 0., 0., 0., 0., 0., 0., 0., 0., 0., 0., 0., 0., 0., 0.,\n",
            "          0., 0., 0., 0., 0., 0., 0.]],\n",
            "\n",
            "        [[1., 0., 0., 0., 0., 0., 0., 0., 0., 0., 0., 0., 0., 0., 0., 0., 0.,\n",
            "          0., 0., 0., 0., 0., 0., 0., 0., 0., 0., 0., 0., 0., 0., 0., 0., 0.,\n",
            "          0., 0., 0., 0., 0., 0., 0., 0., 0., 0., 0., 0., 0., 0., 0., 0., 0.,\n",
            "          0., 0., 0., 0., 0., 0., 0.]]])\n"
          ],
          "name": "stdout"
        }
      ]
    },
    {
      "cell_type": "markdown",
      "metadata": {
        "id": "2997syCGkJ88"
      },
      "source": [
        "## Sequence padding"
      ]
    },
    {
      "cell_type": "code",
      "metadata": {
        "colab": {
          "base_uri": "https://localhost:8080/"
        },
        "id": "zmRGq5sGkHhT",
        "outputId": "6d89ac86-63f3-40e9-bef3-0136f0759657"
      },
      "source": [
        "# tự động padding theo name có độ dài lớn nhất\n",
        "sequence_length = len(max(line_list, key=len))\n",
        "\n",
        "print(\"Longest name:\", max(line_list, key=len))\n",
        "print(\"Maximum sequence length:\", sequence_length)"
      ],
      "execution_count": 25,
      "outputs": [
        {
          "output_type": "stream",
          "text": [
            "Longest name: Shirinsky-Shikhmatov\n",
            "Maximum sequence length: 20\n"
          ],
          "name": "stdout"
        }
      ]
    },
    {
      "cell_type": "code",
      "metadata": {
        "colab": {
          "base_uri": "https://localhost:8080/"
        },
        "id": "yl0ALPWSkMZs",
        "outputId": "6e6aace5-e6ec-4f9a-a76d-0809397ba71e"
      },
      "source": [
        "# Pad sequences\n",
        "line_tensor = pad_sequence(line_list_tensorized)\n",
        "\n",
        "# Chuyển tensor thành format thích hợp cho bước sau: Number of observations, 1, sequence length, features\n",
        "line_tensor_permuted = line_tensor.permute(1,2,0,3)\n",
        "\n",
        "print(\"Original shape:\", line_tensor.size())\n",
        "print(\"Permuted shape:\", line_tensor_permuted.size())"
      ],
      "execution_count": 26,
      "outputs": [
        {
          "output_type": "stream",
          "text": [
            "Original shape: torch.Size([20, 20074, 1, 58])\n",
            "Permuted shape: torch.Size([20074, 1, 20, 58])\n"
          ],
          "name": "stdout"
        }
      ]
    },
    {
      "cell_type": "markdown",
      "metadata": {
        "id": "0047gBGnkSTy"
      },
      "source": [
        "## Create NamesDataset"
      ]
    },
    {
      "cell_type": "code",
      "metadata": {
        "id": "QNE-PMZZkPhj"
      },
      "source": [
        "# Chuyển tensor thành numpy array\n",
        "X = line_tensor_permuted.numpy()\n",
        "\n",
        "# Tạo dictionary để map các language thành dạng số\n",
        "category_dict = dict(zip(all_categories, range(n_categories)))\n",
        "\n",
        "# Chuyển toàn bộ label dạng text thành dạng số\n",
        "category_list_numeric = [category_dict.get(i) for i in category_list]\n",
        "y = np.array(category_list_numeric)"
      ],
      "execution_count": 27,
      "outputs": []
    },
    {
      "cell_type": "code",
      "metadata": {
        "id": "N9l3jpL9kVjM"
      },
      "source": [
        "class NamesDataset():\n",
        "  \"\"\"Tạo NamesDataset dùng để chứa thông tin về input và label\n",
        "  \"\"\"\n",
        "  def __init__(self, features, labels):\n",
        "    self.features = torch.from_numpy(features)\n",
        "    self.labels = torch.from_numpy(labels).type(torch.LongTensor)\n",
        "    self.len = len(features)\n",
        "\n",
        "  def __getitem__(self, index):\n",
        "    return self.features[index], self.labels[index]\n",
        "\n",
        "  def __len__(self):\n",
        "    return self.len\n",
        "\n",
        "data_train = NamesDataset(features=X, labels=y)\n",
        "data_test = NamesDataset(features=X, labels=y)"
      ],
      "execution_count": 28,
      "outputs": []
    },
    {
      "cell_type": "markdown",
      "metadata": {
        "id": "m5M_s230kY-t"
      },
      "source": [
        "## Data loaders"
      ]
    },
    {
      "cell_type": "code",
      "metadata": {
        "id": "MdczOk1LkXqz"
      },
      "source": [
        "# Batch size\n",
        "batch_size = 64\n",
        "\n",
        "# Data loaders \n",
        "trainloader = DataLoader(dataset=data_train, batch_size=batch_size, shuffle=True)\n",
        "testloader = DataLoader(dataset=data_test, batch_size=batch_size, shuffle=False)"
      ],
      "execution_count": 29,
      "outputs": []
    },
    {
      "cell_type": "markdown",
      "metadata": {
        "id": "blm6NmwSkgaz"
      },
      "source": [
        "## Model"
      ]
    },
    {
      "cell_type": "code",
      "metadata": {
        "id": "Ll5C4W0zkewt"
      },
      "source": [
        "class RNN(nn.Module):\n",
        "  def __init__(self, input_size, hidden_size, num_layers, num_classes):\n",
        "    super(RNN, self).__init__()\n",
        "    self.hidden_size = hidden_size\n",
        "    self.num_layers = num_layers\n",
        "    self.rnn = nn.RNN(input_size, hidden_size, num_layers, batch_first=True)   # RNN\n",
        "    self.fc = nn.Linear(hidden_size, num_classes)  \n",
        "    self.softmax = nn.LogSoftmax(dim=1)   # Log softmax\n",
        "\n",
        "  def forward(self, x):\n",
        "    # Khởi tạo inital hidden\n",
        "    h0 = torch.zeros(self.num_layers, x.size(0), self.hidden_size).to(device) \n",
        "    # Đưa input và h0 qua RNN\n",
        "    out, _ = self.rnn(x, h0)\n",
        "    # Lấy output từ hidden state cuối cùng\n",
        "    out = self.fc(out[:, -1, :])\n",
        "    # Log softmax output\n",
        "    out = self.softmax(out) \n",
        "    return out"
      ],
      "execution_count": 30,
      "outputs": []
    },
    {
      "cell_type": "markdown",
      "metadata": {
        "id": "RQG2uLFCklEz"
      },
      "source": [
        "## Training model"
      ]
    },
    {
      "cell_type": "code",
      "metadata": {
        "colab": {
          "base_uri": "https://localhost:8080/"
        },
        "id": "JmMGTlxGkjZj",
        "outputId": "f3091a78-2d9d-498c-ab1c-58d7307a16ae"
      },
      "source": [
        "# Sử dụng GPU nếu có\n",
        "device = torch.device('cuda' if torch.cuda.is_available() else 'cpu')\n",
        "print(\"Device:\", device)"
      ],
      "execution_count": 31,
      "outputs": [
        {
          "output_type": "stream",
          "text": [
            "Device: cuda\n"
          ],
          "name": "stdout"
        }
      ]
    },
    {
      "cell_type": "code",
      "metadata": {
        "id": "-9S0JqWDkoFS"
      },
      "source": [
        "# Các parameters của mô hình\n",
        "input_size = n_letters   # size of vocabulary\n",
        "hidden_size = 128 # hidden dim\n",
        "num_layers = 2 # số hidden layer\n",
        "num_classes = n_categories # số lượng languages"
      ],
      "execution_count": 32,
      "outputs": []
    },
    {
      "cell_type": "code",
      "metadata": {
        "id": "8qJ9X_unkrOj"
      },
      "source": [
        "\n",
        "# Khởi tạo mô hình\n",
        "model = RNN(input_size, hidden_size, num_layers, num_classes) \n",
        "\n",
        "# Gán mô hình với device (cpu hoặc gpu)\n",
        "model.to(device)\n",
        "\n",
        "# Traing hyper-parameters\n",
        "sequence_length = sequence_length   # length of padded tensors\n",
        "num_epochs = 50\n",
        "learning_rate = 0.005\n",
        "\n",
        "# Loss and optimizer\n",
        "criterion = nn.NLLLoss()\n",
        "optimizer = torch.optim.Adam(model.parameters(), lr=learning_rate)\n",
        "\n",
        "# Print ra loss sau mỗi n step\n",
        "print_every = 100"
      ],
      "execution_count": 33,
      "outputs": []
    },
    {
      "cell_type": "code",
      "metadata": {
        "colab": {
          "base_uri": "https://localhost:8080/"
        },
        "id": "ePEQvs8SkuKd",
        "outputId": "92754619-7ac0-458d-fdc2-6d7b7783cb6e"
      },
      "source": [
        "# Bắt đầu training\n",
        "\n",
        "start_time = time.time()\n",
        "\n",
        "print(\"Start of traing -- Device: {} -- Epochs: {} -- Batches: {} -- Batch size: {}\"\n",
        "      .format(device, num_epochs, len(trainloader), batch_size))\n",
        "\n",
        "# Khởi tạo các biến dùng để tính loss, accuracy và visualize\n",
        "running_loss = 0\n",
        "running_total = 0\n",
        "running_correct = 0\n",
        "loss_list = [] \n",
        "loss_list_print_every = [] \n",
        "\n",
        "# Đưa model về training mode\n",
        "model.train()\n",
        "\n",
        "# Train model\n",
        "for epoch in range(num_epochs):\n",
        "    for i, (lines, labels) in enumerate(trainloader):\n",
        "        # Gán data vào device thính hợp\n",
        "        lines, labels = lines.to(device), labels.to(device)\n",
        "        \n",
        "        # Reshape batch cho phù hợp input của rnn\n",
        "        lines = lines.reshape(-1, sequence_length, input_size)\n",
        "        \n",
        "        # Forward and backward pass\n",
        "        output = model(lines)\n",
        "        loss = criterion(output, labels)\n",
        "        optimizer.zero_grad()\n",
        "        loss.backward()\n",
        "        optimizer.step()\n",
        "\n",
        "        # Tính loss và accuracy\n",
        "        running_loss += loss.item()\n",
        "        _, predicted = torch.max(output.data, 1)\n",
        "        running_total += labels.size(0)\n",
        "        running_correct += (predicted == labels).sum().item()       \n",
        "        loss_list.append(loss.item())\n",
        "\n",
        "        # In ra loss và accuracy trung bình của mỗi mini-batch\n",
        "        if (i+1) % print_every == 0:         \n",
        "            print(\"Epoch: {}/{} -- Batches: {}/{} -- Training loss: {:.3f} -- Training accuracy: {:.3f}\"\n",
        "                  .format(epoch+1, num_epochs, i+1, len(trainloader), \n",
        "                          running_loss/print_every, running_correct/running_total))\n",
        "            \n",
        "            # Lưu running loss\n",
        "            loss_list_print_every.append(running_loss/print_every)\n",
        "            \n",
        "            # Reset running loss and accuracy\n",
        "            running_loss = 0\n",
        "            running_total = 0\n",
        "            running_correct = 0\n",
        "            \n",
        "print(\"Training complete. Total training time: {:.1f} seconds\".format(time.time() - start_time))"
      ],
      "execution_count": 34,
      "outputs": [
        {
          "output_type": "stream",
          "text": [
            "Start of traing -- Device: cuda -- Epochs: 50 -- Batches: 314 -- Batch size: 64\n",
            "Epoch: 1/50 -- Batches: 100/314 -- Training loss: 1.931 -- Training accuracy: 0.466\n",
            "Epoch: 1/50 -- Batches: 200/314 -- Training loss: 1.865 -- Training accuracy: 0.471\n",
            "Epoch: 1/50 -- Batches: 300/314 -- Training loss: 1.897 -- Training accuracy: 0.464\n",
            "Epoch: 2/50 -- Batches: 100/314 -- Training loss: 2.163 -- Training accuracy: 0.463\n",
            "Epoch: 2/50 -- Batches: 200/314 -- Training loss: 1.901 -- Training accuracy: 0.465\n",
            "Epoch: 2/50 -- Batches: 300/314 -- Training loss: 1.893 -- Training accuracy: 0.473\n",
            "Epoch: 3/50 -- Batches: 100/314 -- Training loss: 2.160 -- Training accuracy: 0.469\n",
            "Epoch: 3/50 -- Batches: 200/314 -- Training loss: 1.886 -- Training accuracy: 0.466\n",
            "Epoch: 3/50 -- Batches: 300/314 -- Training loss: 1.901 -- Training accuracy: 0.470\n",
            "Epoch: 4/50 -- Batches: 100/314 -- Training loss: 2.155 -- Training accuracy: 0.474\n",
            "Epoch: 4/50 -- Batches: 200/314 -- Training loss: 1.907 -- Training accuracy: 0.469\n",
            "Epoch: 4/50 -- Batches: 300/314 -- Training loss: 1.884 -- Training accuracy: 0.464\n",
            "Epoch: 5/50 -- Batches: 100/314 -- Training loss: 2.175 -- Training accuracy: 0.459\n",
            "Epoch: 5/50 -- Batches: 200/314 -- Training loss: 1.888 -- Training accuracy: 0.463\n",
            "Epoch: 5/50 -- Batches: 300/314 -- Training loss: 1.910 -- Training accuracy: 0.459\n",
            "Epoch: 6/50 -- Batches: 100/314 -- Training loss: 2.106 -- Training accuracy: 0.459\n",
            "Epoch: 6/50 -- Batches: 200/314 -- Training loss: 1.861 -- Training accuracy: 0.462\n",
            "Epoch: 6/50 -- Batches: 300/314 -- Training loss: 1.821 -- Training accuracy: 0.465\n",
            "Epoch: 7/50 -- Batches: 100/314 -- Training loss: 2.109 -- Training accuracy: 0.458\n",
            "Epoch: 7/50 -- Batches: 200/314 -- Training loss: 1.853 -- Training accuracy: 0.451\n",
            "Epoch: 7/50 -- Batches: 300/314 -- Training loss: 1.827 -- Training accuracy: 0.472\n",
            "Epoch: 8/50 -- Batches: 100/314 -- Training loss: 2.112 -- Training accuracy: 0.450\n",
            "Epoch: 8/50 -- Batches: 200/314 -- Training loss: 1.833 -- Training accuracy: 0.467\n",
            "Epoch: 8/50 -- Batches: 300/314 -- Training loss: 1.851 -- Training accuracy: 0.455\n",
            "Epoch: 9/50 -- Batches: 100/314 -- Training loss: 2.092 -- Training accuracy: 0.457\n",
            "Epoch: 9/50 -- Batches: 200/314 -- Training loss: 1.861 -- Training accuracy: 0.457\n",
            "Epoch: 9/50 -- Batches: 300/314 -- Training loss: 1.859 -- Training accuracy: 0.458\n",
            "Epoch: 10/50 -- Batches: 100/314 -- Training loss: 2.103 -- Training accuracy: 0.458\n",
            "Epoch: 10/50 -- Batches: 200/314 -- Training loss: 1.813 -- Training accuracy: 0.471\n",
            "Epoch: 10/50 -- Batches: 300/314 -- Training loss: 1.832 -- Training accuracy: 0.454\n",
            "Epoch: 11/50 -- Batches: 100/314 -- Training loss: 2.092 -- Training accuracy: 0.465\n",
            "Epoch: 11/50 -- Batches: 200/314 -- Training loss: 1.845 -- Training accuracy: 0.454\n",
            "Epoch: 11/50 -- Batches: 300/314 -- Training loss: 1.844 -- Training accuracy: 0.461\n",
            "Epoch: 12/50 -- Batches: 100/314 -- Training loss: 2.113 -- Training accuracy: 0.457\n",
            "Epoch: 12/50 -- Batches: 200/314 -- Training loss: 1.834 -- Training accuracy: 0.455\n",
            "Epoch: 12/50 -- Batches: 300/314 -- Training loss: 1.861 -- Training accuracy: 0.467\n",
            "Epoch: 13/50 -- Batches: 100/314 -- Training loss: 2.107 -- Training accuracy: 0.461\n",
            "Epoch: 13/50 -- Batches: 200/314 -- Training loss: 1.877 -- Training accuracy: 0.442\n",
            "Epoch: 13/50 -- Batches: 300/314 -- Training loss: 1.813 -- Training accuracy: 0.462\n",
            "Epoch: 14/50 -- Batches: 100/314 -- Training loss: 2.109 -- Training accuracy: 0.456\n",
            "Epoch: 14/50 -- Batches: 200/314 -- Training loss: 1.859 -- Training accuracy: 0.463\n",
            "Epoch: 14/50 -- Batches: 300/314 -- Training loss: 1.837 -- Training accuracy: 0.457\n",
            "Epoch: 15/50 -- Batches: 100/314 -- Training loss: 2.104 -- Training accuracy: 0.464\n",
            "Epoch: 15/50 -- Batches: 200/314 -- Training loss: 1.823 -- Training accuracy: 0.463\n",
            "Epoch: 15/50 -- Batches: 300/314 -- Training loss: 1.833 -- Training accuracy: 0.458\n",
            "Epoch: 16/50 -- Batches: 100/314 -- Training loss: 2.108 -- Training accuracy: 0.452\n",
            "Epoch: 16/50 -- Batches: 200/314 -- Training loss: 1.843 -- Training accuracy: 0.466\n",
            "Epoch: 16/50 -- Batches: 300/314 -- Training loss: 1.851 -- Training accuracy: 0.455\n",
            "Epoch: 17/50 -- Batches: 100/314 -- Training loss: 2.089 -- Training accuracy: 0.467\n",
            "Epoch: 17/50 -- Batches: 200/314 -- Training loss: 1.877 -- Training accuracy: 0.446\n",
            "Epoch: 17/50 -- Batches: 300/314 -- Training loss: 1.831 -- Training accuracy: 0.464\n",
            "Epoch: 18/50 -- Batches: 100/314 -- Training loss: 2.084 -- Training accuracy: 0.465\n",
            "Epoch: 18/50 -- Batches: 200/314 -- Training loss: 1.854 -- Training accuracy: 0.457\n",
            "Epoch: 18/50 -- Batches: 300/314 -- Training loss: 1.843 -- Training accuracy: 0.468\n",
            "Epoch: 19/50 -- Batches: 100/314 -- Training loss: 2.116 -- Training accuracy: 0.459\n",
            "Epoch: 19/50 -- Batches: 200/314 -- Training loss: 1.851 -- Training accuracy: 0.451\n",
            "Epoch: 19/50 -- Batches: 300/314 -- Training loss: 1.834 -- Training accuracy: 0.464\n",
            "Epoch: 20/50 -- Batches: 100/314 -- Training loss: 2.105 -- Training accuracy: 0.464\n",
            "Epoch: 20/50 -- Batches: 200/314 -- Training loss: 1.844 -- Training accuracy: 0.449\n",
            "Epoch: 20/50 -- Batches: 300/314 -- Training loss: 1.862 -- Training accuracy: 0.442\n",
            "Epoch: 21/50 -- Batches: 100/314 -- Training loss: 2.106 -- Training accuracy: 0.465\n",
            "Epoch: 21/50 -- Batches: 200/314 -- Training loss: 1.825 -- Training accuracy: 0.463\n",
            "Epoch: 21/50 -- Batches: 300/314 -- Training loss: 1.851 -- Training accuracy: 0.458\n",
            "Epoch: 22/50 -- Batches: 100/314 -- Training loss: 2.101 -- Training accuracy: 0.465\n",
            "Epoch: 22/50 -- Batches: 200/314 -- Training loss: 1.835 -- Training accuracy: 0.463\n",
            "Epoch: 22/50 -- Batches: 300/314 -- Training loss: 1.831 -- Training accuracy: 0.462\n",
            "Epoch: 23/50 -- Batches: 100/314 -- Training loss: 2.111 -- Training accuracy: 0.458\n",
            "Epoch: 23/50 -- Batches: 200/314 -- Training loss: 1.833 -- Training accuracy: 0.468\n",
            "Epoch: 23/50 -- Batches: 300/314 -- Training loss: 1.847 -- Training accuracy: 0.450\n",
            "Epoch: 24/50 -- Batches: 100/314 -- Training loss: 2.110 -- Training accuracy: 0.457\n",
            "Epoch: 24/50 -- Batches: 200/314 -- Training loss: 1.848 -- Training accuracy: 0.462\n",
            "Epoch: 24/50 -- Batches: 300/314 -- Training loss: 1.854 -- Training accuracy: 0.464\n",
            "Epoch: 25/50 -- Batches: 100/314 -- Training loss: 2.091 -- Training accuracy: 0.458\n",
            "Epoch: 25/50 -- Batches: 200/314 -- Training loss: 1.827 -- Training accuracy: 0.467\n",
            "Epoch: 25/50 -- Batches: 300/314 -- Training loss: 1.878 -- Training accuracy: 0.454\n",
            "Epoch: 26/50 -- Batches: 100/314 -- Training loss: 2.093 -- Training accuracy: 0.461\n",
            "Epoch: 26/50 -- Batches: 200/314 -- Training loss: 1.861 -- Training accuracy: 0.456\n",
            "Epoch: 26/50 -- Batches: 300/314 -- Training loss: 1.824 -- Training accuracy: 0.468\n",
            "Epoch: 27/50 -- Batches: 100/314 -- Training loss: 2.105 -- Training accuracy: 0.454\n",
            "Epoch: 27/50 -- Batches: 200/314 -- Training loss: 1.819 -- Training accuracy: 0.469\n",
            "Epoch: 27/50 -- Batches: 300/314 -- Training loss: 1.858 -- Training accuracy: 0.461\n",
            "Epoch: 28/50 -- Batches: 100/314 -- Training loss: 2.088 -- Training accuracy: 0.466\n",
            "Epoch: 28/50 -- Batches: 200/314 -- Training loss: 1.852 -- Training accuracy: 0.452\n",
            "Epoch: 28/50 -- Batches: 300/314 -- Training loss: 1.843 -- Training accuracy: 0.456\n",
            "Epoch: 29/50 -- Batches: 100/314 -- Training loss: 2.104 -- Training accuracy: 0.470\n",
            "Epoch: 29/50 -- Batches: 200/314 -- Training loss: 1.847 -- Training accuracy: 0.459\n",
            "Epoch: 29/50 -- Batches: 300/314 -- Training loss: 1.821 -- Training accuracy: 0.470\n",
            "Epoch: 30/50 -- Batches: 100/314 -- Training loss: 2.087 -- Training accuracy: 0.456\n",
            "Epoch: 30/50 -- Batches: 200/314 -- Training loss: 1.849 -- Training accuracy: 0.460\n",
            "Epoch: 30/50 -- Batches: 300/314 -- Training loss: 1.844 -- Training accuracy: 0.468\n",
            "Epoch: 31/50 -- Batches: 100/314 -- Training loss: 2.128 -- Training accuracy: 0.450\n",
            "Epoch: 31/50 -- Batches: 200/314 -- Training loss: 1.849 -- Training accuracy: 0.459\n",
            "Epoch: 31/50 -- Batches: 300/314 -- Training loss: 1.838 -- Training accuracy: 0.464\n",
            "Epoch: 32/50 -- Batches: 100/314 -- Training loss: 2.096 -- Training accuracy: 0.464\n",
            "Epoch: 32/50 -- Batches: 200/314 -- Training loss: 1.866 -- Training accuracy: 0.453\n",
            "Epoch: 32/50 -- Batches: 300/314 -- Training loss: 1.827 -- Training accuracy: 0.466\n",
            "Epoch: 33/50 -- Batches: 100/314 -- Training loss: 2.113 -- Training accuracy: 0.464\n",
            "Epoch: 33/50 -- Batches: 200/314 -- Training loss: 1.847 -- Training accuracy: 0.457\n",
            "Epoch: 33/50 -- Batches: 300/314 -- Training loss: 1.847 -- Training accuracy: 0.463\n",
            "Epoch: 34/50 -- Batches: 100/314 -- Training loss: 2.108 -- Training accuracy: 0.454\n",
            "Epoch: 34/50 -- Batches: 200/314 -- Training loss: 1.848 -- Training accuracy: 0.457\n",
            "Epoch: 34/50 -- Batches: 300/314 -- Training loss: 1.861 -- Training accuracy: 0.463\n",
            "Epoch: 35/50 -- Batches: 100/314 -- Training loss: 2.099 -- Training accuracy: 0.457\n",
            "Epoch: 35/50 -- Batches: 200/314 -- Training loss: 1.850 -- Training accuracy: 0.455\n",
            "Epoch: 35/50 -- Batches: 300/314 -- Training loss: 1.825 -- Training accuracy: 0.471\n",
            "Epoch: 36/50 -- Batches: 100/314 -- Training loss: 2.087 -- Training accuracy: 0.466\n",
            "Epoch: 36/50 -- Batches: 200/314 -- Training loss: 1.828 -- Training accuracy: 0.463\n",
            "Epoch: 36/50 -- Batches: 300/314 -- Training loss: 1.872 -- Training accuracy: 0.463\n",
            "Epoch: 37/50 -- Batches: 100/314 -- Training loss: 2.117 -- Training accuracy: 0.458\n",
            "Epoch: 37/50 -- Batches: 200/314 -- Training loss: 1.860 -- Training accuracy: 0.458\n",
            "Epoch: 37/50 -- Batches: 300/314 -- Training loss: 1.824 -- Training accuracy: 0.465\n",
            "Epoch: 38/50 -- Batches: 100/314 -- Training loss: 2.109 -- Training accuracy: 0.459\n",
            "Epoch: 38/50 -- Batches: 200/314 -- Training loss: 1.857 -- Training accuracy: 0.464\n",
            "Epoch: 38/50 -- Batches: 300/314 -- Training loss: 1.868 -- Training accuracy: 0.456\n",
            "Epoch: 39/50 -- Batches: 100/314 -- Training loss: 2.106 -- Training accuracy: 0.466\n",
            "Epoch: 39/50 -- Batches: 200/314 -- Training loss: 1.844 -- Training accuracy: 0.468\n",
            "Epoch: 39/50 -- Batches: 300/314 -- Training loss: 1.849 -- Training accuracy: 0.453\n",
            "Epoch: 40/50 -- Batches: 100/314 -- Training loss: 2.083 -- Training accuracy: 0.468\n",
            "Epoch: 40/50 -- Batches: 200/314 -- Training loss: 1.859 -- Training accuracy: 0.461\n",
            "Epoch: 40/50 -- Batches: 300/314 -- Training loss: 1.866 -- Training accuracy: 0.455\n",
            "Epoch: 41/50 -- Batches: 100/314 -- Training loss: 2.112 -- Training accuracy: 0.466\n",
            "Epoch: 41/50 -- Batches: 200/314 -- Training loss: 1.847 -- Training accuracy: 0.461\n",
            "Epoch: 41/50 -- Batches: 300/314 -- Training loss: 1.840 -- Training accuracy: 0.464\n",
            "Epoch: 42/50 -- Batches: 100/314 -- Training loss: 2.102 -- Training accuracy: 0.465\n",
            "Epoch: 42/50 -- Batches: 200/314 -- Training loss: 1.838 -- Training accuracy: 0.465\n",
            "Epoch: 42/50 -- Batches: 300/314 -- Training loss: 1.845 -- Training accuracy: 0.461\n",
            "Epoch: 43/50 -- Batches: 100/314 -- Training loss: 2.123 -- Training accuracy: 0.456\n",
            "Epoch: 43/50 -- Batches: 200/314 -- Training loss: 1.863 -- Training accuracy: 0.458\n",
            "Epoch: 43/50 -- Batches: 300/314 -- Training loss: 1.838 -- Training accuracy: 0.460\n",
            "Epoch: 44/50 -- Batches: 100/314 -- Training loss: 2.107 -- Training accuracy: 0.461\n",
            "Epoch: 44/50 -- Batches: 200/314 -- Training loss: 1.845 -- Training accuracy: 0.465\n",
            "Epoch: 44/50 -- Batches: 300/314 -- Training loss: 1.849 -- Training accuracy: 0.465\n",
            "Epoch: 45/50 -- Batches: 100/314 -- Training loss: 2.125 -- Training accuracy: 0.448\n",
            "Epoch: 45/50 -- Batches: 200/314 -- Training loss: 1.851 -- Training accuracy: 0.460\n",
            "Epoch: 45/50 -- Batches: 300/314 -- Training loss: 1.862 -- Training accuracy: 0.464\n",
            "Epoch: 46/50 -- Batches: 100/314 -- Training loss: 2.120 -- Training accuracy: 0.464\n",
            "Epoch: 46/50 -- Batches: 200/314 -- Training loss: 1.832 -- Training accuracy: 0.465\n",
            "Epoch: 46/50 -- Batches: 300/314 -- Training loss: 1.854 -- Training accuracy: 0.453\n",
            "Epoch: 47/50 -- Batches: 100/314 -- Training loss: 2.077 -- Training accuracy: 0.466\n",
            "Epoch: 47/50 -- Batches: 200/314 -- Training loss: 1.881 -- Training accuracy: 0.450\n",
            "Epoch: 47/50 -- Batches: 300/314 -- Training loss: 1.849 -- Training accuracy: 0.461\n",
            "Epoch: 48/50 -- Batches: 100/314 -- Training loss: 2.097 -- Training accuracy: 0.467\n",
            "Epoch: 48/50 -- Batches: 200/314 -- Training loss: 1.839 -- Training accuracy: 0.471\n",
            "Epoch: 48/50 -- Batches: 300/314 -- Training loss: 1.868 -- Training accuracy: 0.457\n",
            "Epoch: 49/50 -- Batches: 100/314 -- Training loss: 2.094 -- Training accuracy: 0.468\n",
            "Epoch: 49/50 -- Batches: 200/314 -- Training loss: 1.856 -- Training accuracy: 0.455\n",
            "Epoch: 49/50 -- Batches: 300/314 -- Training loss: 1.850 -- Training accuracy: 0.464\n",
            "Epoch: 50/50 -- Batches: 100/314 -- Training loss: 2.082 -- Training accuracy: 0.461\n",
            "Epoch: 50/50 -- Batches: 200/314 -- Training loss: 1.850 -- Training accuracy: 0.466\n",
            "Epoch: 50/50 -- Batches: 300/314 -- Training loss: 1.851 -- Training accuracy: 0.465\n",
            "Training complete. Total training time: 129.0 seconds\n"
          ],
          "name": "stdout"
        }
      ]
    },
    {
      "cell_type": "markdown",
      "metadata": {
        "id": "hapNRCRIkym5"
      },
      "source": [
        "## Model evaluation"
      ]
    },
    {
      "cell_type": "code",
      "metadata": {
        "colab": {
          "base_uri": "https://localhost:8080/"
        },
        "id": "FU1wR0JjkvsW",
        "outputId": "2a54a0d6-30c2-422e-a49e-357c735c80ae"
      },
      "source": [
        "running_loss = 0\n",
        "labels_true = np.array([], dtype=int)\n",
        "labels_pred = np.array([], dtype=int)\n",
        "\n",
        "# Đưa model to evaluation mode\n",
        "model.eval()\n",
        "\n",
        "with torch.no_grad():   # Không tính đạo hàm   \n",
        "    for i, (lines, labels) in enumerate(testloader):\n",
        "        lines, labels = lines.to(device), labels.to(device)\n",
        "        lines = lines.reshape(-1, sequence_length, input_size).to(device)\n",
        "        \n",
        "        # Đưa input vào model\n",
        "        output = model(lines)\n",
        "        loss = criterion(output, labels)\n",
        "\n",
        "        running_loss += loss.item()\n",
        "        _, predicted = torch.max(output.data, 1)      \n",
        "\n",
        "        # Tính accuracy\n",
        "        labels_true = np.append(labels_true, labels.cpu().numpy())\n",
        "        labels_pred = np.append(labels_pred, predicted.cpu().numpy())\n",
        "\n",
        "        \n",
        "test_accuracy = np.equal(labels_pred, labels_true).mean()         \n",
        "        \n",
        "print(\"Evaluating network on {} images in test set -- Test loss: {:.3f} -- Test accuracy: {:.3f}\"\n",
        "      .format(len(testloader.dataset), running_loss/len(testloader), test_accuracy))"
      ],
      "execution_count": 35,
      "outputs": [
        {
          "output_type": "stream",
          "text": [
            "Evaluating network on 20074 images in test set -- Test loss: 1.847 -- Test accuracy: 0.469\n"
          ],
          "name": "stdout"
        }
      ]
    },
    {
      "cell_type": "markdown",
      "metadata": {
        "id": "HzWUo97nk5Nl"
      },
      "source": [
        "## Accuracy per category"
      ]
    },
    {
      "cell_type": "code",
      "metadata": {
        "colab": {
          "base_uri": "https://localhost:8080/"
        },
        "id": "IqeTfASnk6WM",
        "outputId": "c6b83872-da00-42f8-b00b-94950dc637fa"
      },
      "source": [
        "\n",
        "# Xây dựng ma trận 2 chiều rỗng để chứa kết quả\n",
        "cm = np.zeros((num_classes, num_classes))\n",
        "\n",
        "# Tạo confusion matrix\n",
        "for i in range(len(labels_true)):\n",
        "    cm[labels_true[i]][labels_pred[i]] +=1\n",
        "\n",
        "for i in range(num_classes):\n",
        "    cm[i] = cm[i] / cm[i].sum()\n",
        "\n",
        "print(\"Accuracy by category:\")\n",
        "acc_dict = dict(zip(all_categories, [round(i, 2) for i in (cm.diagonal())]))\n",
        "for i in range(len(acc_dict)):\n",
        "    print(list(acc_dict.keys())[i], \":\", list(acc_dict.values())[i])"
      ],
      "execution_count": 36,
      "outputs": [
        {
          "output_type": "stream",
          "text": [
            "Accuracy by category:\n",
            "Portuguese : 0.0\n",
            "Russian : 1.0\n",
            "Spanish : 0.0\n",
            "Scottish : 0.0\n",
            "Czech : 0.0\n",
            "English : 0.0\n",
            "German : 0.0\n",
            "Arabic : 0.0\n",
            "Vietnamese : 0.0\n",
            "Polish : 0.0\n",
            "Korean : 0.0\n",
            "Japanese : 0.0\n",
            "Irish : 0.0\n",
            "Chinese : 0.0\n",
            "French : 0.0\n",
            "Dutch : 0.0\n",
            "Greek : 0.0\n",
            "Italian : 0.0\n"
          ],
          "name": "stdout"
        }
      ]
    },
    {
      "cell_type": "code",
      "metadata": {
        "id": "D-exlcoak9i0"
      },
      "source": [
        "# Dự đoán một tên bất kì\n",
        "def predict(input_line, n_predictions=3):\n",
        "  input_tensorized = line_to_tensor(unicode_to_ascii(input_line))\n",
        "  num_zeros = sequence_length - len(input_line)\n",
        "  zeros = torch.zeros(num_zeros, 1, n_letters)\n",
        "  input_tensorized = torch.cat((input_tensorized, zeros), dim = 0)\n",
        "  input_tensorized = input_tensorized.permute(1,0,2)\n",
        "  \n",
        "  with torch.no_grad():\n",
        "    input_tensorized = input_tensorized.to(device)\n",
        "    output = model(input_tensorized)\n",
        "    output = torch.exp(output)\n",
        "    topv, topi = output.topk(n_predictions)\n",
        "\n",
        "  print(\">\", input_line, \"\\nLanguage -- Class Probability\")\n",
        "  for i in range(n_predictions):\n",
        "    value = topv[0][i].item()\n",
        "    category_index = topi[0][i].item()\n",
        "    category = all_categories[category_index]\n",
        "    print(\"{} -- {:.2f}%\".format(category, value*100))"
      ],
      "execution_count": 37,
      "outputs": []
    },
    {
      "cell_type": "code",
      "metadata": {
        "colab": {
          "base_uri": "https://localhost:8080/"
        },
        "id": "lAGQp1G_k_40",
        "outputId": "11814773-e1e0-45b8-950a-e4db24910a71"
      },
      "source": [
        "test_name = \"Aguilera\"\n",
        "predict(test_name)"
      ],
      "execution_count": 38,
      "outputs": [
        {
          "output_type": "stream",
          "text": [
            "> Aguilera \n",
            "Language -- Class Probability\n",
            "Russian -- 59.49%\n",
            "English -- 11.99%\n",
            "Arabic -- 9.50%\n"
          ],
          "name": "stdout"
        }
      ]
    }
  ]
}