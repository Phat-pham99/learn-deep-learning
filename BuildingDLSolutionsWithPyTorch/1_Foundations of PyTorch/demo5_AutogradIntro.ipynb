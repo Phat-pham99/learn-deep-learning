{
  "nbformat": 4,
  "nbformat_minor": 0,
  "metadata": {
    "kernelspec": {
      "display_name": "Python 3",
      "language": "python",
      "name": "python3"
    },
    "language_info": {
      "codemirror_mode": {
        "name": "ipython",
        "version": 3
      },
      "file_extension": ".py",
      "mimetype": "text/x-python",
      "name": "python",
      "nbconvert_exporter": "python",
      "pygments_lexer": "ipython3",
      "version": "3.7.1"
    },
    "colab": {
      "name": "demo5-AutogradIntro.ipynb",
      "provenance": [],
      "include_colab_link": true
    },
    "accelerator": "GPU"
  },
  "cells": [
    {
      "cell_type": "markdown",
      "metadata": {
        "id": "view-in-github",
        "colab_type": "text"
      },
      "source": [
        "<a href=\"https://colab.research.google.com/github/YonDraco/learn-deep-learning/blob/main/BuildingDLSolutionsWithPyTorch/1_Foundations%20of%20PyTorch/demo5_AutogradIntro.ipynb\" target=\"_parent\"><img src=\"https://colab.research.google.com/assets/colab-badge.svg\" alt=\"Open In Colab\"/></a>"
      ]
    },
    {
      "cell_type": "code",
      "metadata": {
        "id": "WnfjUuxPcSdv"
      },
      "source": [
        "import torch"
      ],
      "execution_count": null,
      "outputs": []
    },
    {
      "cell_type": "markdown",
      "metadata": {
        "id": "jQQuPmRocSdz"
      },
      "source": [
        "#### We dont need to specify requires_grad = False, since by default it flags it as False"
      ]
    },
    {
      "cell_type": "code",
      "metadata": {
        "id": "uURWQXkDcSd0",
        "outputId": "42be23da-b27e-468b-9648-ae6201322cfe"
      },
      "source": [
        "tensor1 = torch.Tensor([[1, 2, 3], \n",
        "                       [4, 5, 6]])\n",
        "tensor1"
      ],
      "execution_count": null,
      "outputs": [
        {
          "output_type": "execute_result",
          "data": {
            "text/plain": [
              "tensor([[1., 2., 3.],\n",
              "        [4., 5., 6.]])"
            ]
          },
          "metadata": {
            "tags": []
          },
          "execution_count": 61
        }
      ]
    },
    {
      "cell_type": "code",
      "metadata": {
        "id": "5vt7yqzmcSd2",
        "outputId": "5ed42e63-d7b4-450e-f62b-69b4bd884808"
      },
      "source": [
        "tensor2 = torch.Tensor([[7, 8, 9], \n",
        "                        [10, 11, 12]])\n",
        "\n",
        "tensor2"
      ],
      "execution_count": null,
      "outputs": [
        {
          "output_type": "execute_result",
          "data": {
            "text/plain": [
              "tensor([[ 7.,  8.,  9.],\n",
              "        [10., 11., 12.]])"
            ]
          },
          "metadata": {
            "tags": []
          },
          "execution_count": 62
        }
      ]
    },
    {
      "cell_type": "markdown",
      "metadata": {
        "id": "Gi2ce-cVcSd3"
      },
      "source": [
        "#### The requires_grad property defines whether to track operations on this tensor\n",
        "By default, it is set to False"
      ]
    },
    {
      "cell_type": "code",
      "metadata": {
        "id": "KeZPLwjbcSd3",
        "outputId": "72118070-a849-4744-9138-f67adedb4bfe"
      },
      "source": [
        "tensor1.requires_grad"
      ],
      "execution_count": null,
      "outputs": [
        {
          "output_type": "execute_result",
          "data": {
            "text/plain": [
              "False"
            ]
          },
          "metadata": {
            "tags": []
          },
          "execution_count": 63
        }
      ]
    },
    {
      "cell_type": "code",
      "metadata": {
        "id": "2ZcD1oF_cSd4",
        "outputId": "28fa58f8-46f1-4931-a4f9-a416e9f2013a"
      },
      "source": [
        "tensor2.requires_grad"
      ],
      "execution_count": null,
      "outputs": [
        {
          "output_type": "execute_result",
          "data": {
            "text/plain": [
              "False"
            ]
          },
          "metadata": {
            "tags": []
          },
          "execution_count": 64
        }
      ]
    },
    {
      "cell_type": "markdown",
      "metadata": {
        "id": "C0WJz12YcSd5"
      },
      "source": [
        "#### The requires\\_grad\\_() function sets requires_grad to True"
      ]
    },
    {
      "cell_type": "code",
      "metadata": {
        "id": "hm0cZgcEcSd6",
        "outputId": "f0d361e4-6f57-4877-cf6c-95be15ecc9b8"
      },
      "source": [
        "tensor1.requires_grad_()"
      ],
      "execution_count": null,
      "outputs": [
        {
          "output_type": "execute_result",
          "data": {
            "text/plain": [
              "tensor([[1., 2., 3.],\n",
              "        [4., 5., 6.]], requires_grad=True)"
            ]
          },
          "metadata": {
            "tags": []
          },
          "execution_count": 65
        }
      ]
    },
    {
      "cell_type": "code",
      "metadata": {
        "id": "qXEqmMFncSd7",
        "outputId": "8cdf5c9a-a837-42c6-9a14-5167e7b7ec94"
      },
      "source": [
        "tensor1.requires_grad"
      ],
      "execution_count": null,
      "outputs": [
        {
          "output_type": "execute_result",
          "data": {
            "text/plain": [
              "True"
            ]
          },
          "metadata": {
            "tags": []
          },
          "execution_count": 66
        }
      ]
    },
    {
      "cell_type": "code",
      "metadata": {
        "id": "T-Bta-WVcSd8",
        "outputId": "0c73cdef-cc26-46aa-a580-caea232e0b0a"
      },
      "source": [
        "tensor2.requires_grad"
      ],
      "execution_count": null,
      "outputs": [
        {
          "output_type": "execute_result",
          "data": {
            "text/plain": [
              "False"
            ]
          },
          "metadata": {
            "tags": []
          },
          "execution_count": 67
        }
      ]
    },
    {
      "cell_type": "markdown",
      "metadata": {
        "id": "vAJ36SxGcSd8"
      },
      "source": [
        "#### The .grad property stores all the gradients for the tensor\n",
        "However, there are no gradients yet"
      ]
    },
    {
      "cell_type": "code",
      "metadata": {
        "id": "GcgE51JUcSd9",
        "outputId": "2eb1983d-ff65-45a0-a074-a93f3226b0f9"
      },
      "source": [
        "print(tensor1.grad)"
      ],
      "execution_count": null,
      "outputs": [
        {
          "output_type": "stream",
          "text": [
            "None\n"
          ],
          "name": "stdout"
        }
      ]
    },
    {
      "cell_type": "markdown",
      "metadata": {
        "id": "NYcW6RvvcSd9"
      },
      "source": [
        "#### The .grad_fn property contains the gradient function\n",
        "This has not been set either"
      ]
    },
    {
      "cell_type": "code",
      "metadata": {
        "id": "4aIBxq1vcSd-",
        "outputId": "b9dd48c6-6b9b-486d-a4fc-8ffacdb7aaeb"
      },
      "source": [
        "print(tensor1.grad_fn)"
      ],
      "execution_count": null,
      "outputs": [
        {
          "output_type": "stream",
          "text": [
            "None\n"
          ],
          "name": "stdout"
        }
      ]
    },
    {
      "cell_type": "markdown",
      "metadata": {
        "id": "ij9TDwQDcSd-"
      },
      "source": [
        "#### Create a new output tensor from our original tensor"
      ]
    },
    {
      "cell_type": "code",
      "metadata": {
        "id": "s_-W_x35cSd_"
      },
      "source": [
        "output_tensor = tensor1 * tensor2"
      ],
      "execution_count": null,
      "outputs": []
    },
    {
      "cell_type": "markdown",
      "metadata": {
        "id": "awhUlyrkcSd_"
      },
      "source": [
        "#### The requires_grad property has been derived from the original tensor"
      ]
    },
    {
      "cell_type": "code",
      "metadata": {
        "id": "Hf7OwN6UcSd_",
        "outputId": "014143bb-d88a-4067-f79d-c9e4884f3b70"
      },
      "source": [
        "output_tensor.requires_grad"
      ],
      "execution_count": null,
      "outputs": [
        {
          "output_type": "execute_result",
          "data": {
            "text/plain": [
              "True"
            ]
          },
          "metadata": {
            "tags": []
          },
          "execution_count": 71
        }
      ]
    },
    {
      "cell_type": "markdown",
      "metadata": {
        "id": "uZkGELTHcSd_"
      },
      "source": [
        "#### There are still no gradients"
      ]
    },
    {
      "cell_type": "code",
      "metadata": {
        "id": "cFjnaUOwcSeA",
        "outputId": "17d83787-53cd-4069-d118-5349cbb4bdc0"
      },
      "source": [
        "print(output_tensor.grad)"
      ],
      "execution_count": null,
      "outputs": [
        {
          "output_type": "stream",
          "text": [
            "None\n"
          ],
          "name": "stdout"
        }
      ]
    },
    {
      "cell_type": "markdown",
      "metadata": {
        "id": "-RJRlvzpcSeA"
      },
      "source": [
        "#### But there is a gradient function\n",
        "This is from the multiplication operation performed on the original tensor "
      ]
    },
    {
      "cell_type": "code",
      "metadata": {
        "id": "SEyjpwZzcSeB",
        "outputId": "fcad87ca-ce31-4abd-aaab-8fda5325bc2e"
      },
      "source": [
        "print(output_tensor.grad_fn)"
      ],
      "execution_count": null,
      "outputs": [
        {
          "output_type": "stream",
          "text": [
            "<MulBackward0 object at 0x113472ac8>\n"
          ],
          "name": "stdout"
        }
      ]
    },
    {
      "cell_type": "markdown",
      "metadata": {
        "id": "-SoPEYpdcSeB"
      },
      "source": [
        "#### The original tensor still does not have a gradient function"
      ]
    },
    {
      "cell_type": "code",
      "metadata": {
        "id": "XDOmUdakcSeB",
        "outputId": "422abea8-3385-4a35-f7cd-dc2c899625c8"
      },
      "source": [
        "print(tensor1.grad_fn)"
      ],
      "execution_count": null,
      "outputs": [
        {
          "output_type": "stream",
          "text": [
            "None\n"
          ],
          "name": "stdout"
        }
      ]
    },
    {
      "cell_type": "code",
      "metadata": {
        "id": "FQL_qkOWcSeB",
        "outputId": "e1cefbd4-e5b4-4010-f099-22b3d98a908a"
      },
      "source": [
        "print(tensor2.grad_fn)"
      ],
      "execution_count": null,
      "outputs": [
        {
          "output_type": "stream",
          "text": [
            "None\n"
          ],
          "name": "stdout"
        }
      ]
    },
    {
      "cell_type": "markdown",
      "metadata": {
        "id": "rcvvTnaYcSeC"
      },
      "source": [
        "#### Changing the operation for the output changes the gradient function\n",
        "The gradient function only contains the last operation. Here, even though there is a multiplication as well as a mean, only the mean calculation is recorded as the gradient function"
      ]
    },
    {
      "cell_type": "code",
      "metadata": {
        "id": "H3GPwUvJcSeC",
        "outputId": "c4aa7c14-f648-4cfd-ef63-13b4c3063d88"
      },
      "source": [
        "output_tensor = (tensor1 * tensor2).mean()\n",
        "print(output_tensor.grad_fn)"
      ],
      "execution_count": null,
      "outputs": [
        {
          "output_type": "stream",
          "text": [
            "<MeanBackward1 object at 0x113472c50>\n"
          ],
          "name": "stdout"
        }
      ]
    },
    {
      "cell_type": "markdown",
      "metadata": {
        "id": "Up2dz8sCcSeC"
      },
      "source": [
        "#### In spite of setting a gradient function for the output, the gradients for the input tensor is still empty"
      ]
    },
    {
      "cell_type": "code",
      "metadata": {
        "id": "Rd4DHqJPcSeC",
        "outputId": "38f498ea-ce8e-44f4-9f42-d3352cd8bd3d"
      },
      "source": [
        "print(tensor1.grad)"
      ],
      "execution_count": null,
      "outputs": [
        {
          "output_type": "stream",
          "text": [
            "None\n"
          ],
          "name": "stdout"
        }
      ]
    },
    {
      "cell_type": "markdown",
      "metadata": {
        "id": "Yon1Ny3WcSeC"
      },
      "source": [
        "#### To calculate the gradients, we need to explicitly perform a backward propagation"
      ]
    },
    {
      "cell_type": "code",
      "metadata": {
        "id": "J0RdiGI4cSeD"
      },
      "source": [
        "output_tensor.backward()"
      ],
      "execution_count": null,
      "outputs": []
    },
    {
      "cell_type": "markdown",
      "metadata": {
        "id": "rhWw9QNHcSeD"
      },
      "source": [
        "#### The gradients are now available for the input tensor\n",
        "\n",
        "Future calls to backward will accumulate gradients into this vector"
      ]
    },
    {
      "cell_type": "code",
      "metadata": {
        "id": "6quLAZj4cSeD",
        "outputId": "8a222d55-69e8-4ff2-c31e-39ce234eeed6"
      },
      "source": [
        "print(tensor1.grad)"
      ],
      "execution_count": null,
      "outputs": [
        {
          "output_type": "stream",
          "text": [
            "tensor([[1.1667, 1.3333, 1.5000],\n",
            "        [1.6667, 1.8333, 2.0000]])\n"
          ],
          "name": "stdout"
        }
      ]
    },
    {
      "cell_type": "markdown",
      "metadata": {
        "id": "pUYCawSjcSeD"
      },
      "source": [
        "#### The gradient vector is the same shape as the original vector"
      ]
    },
    {
      "cell_type": "code",
      "metadata": {
        "id": "fXDkRdUocSeD",
        "outputId": "fb95f95b-3a0a-4242-be9c-4ba7cce42425"
      },
      "source": [
        "tensor1.grad.shape, tensor1.shape"
      ],
      "execution_count": null,
      "outputs": [
        {
          "output_type": "execute_result",
          "data": {
            "text/plain": [
              "(torch.Size([2, 3]), torch.Size([2, 3]))"
            ]
          },
          "metadata": {
            "tags": []
          },
          "execution_count": 82
        }
      ]
    },
    {
      "cell_type": "code",
      "metadata": {
        "id": "iWE-2ya-cSeE",
        "outputId": "415ae622-ce08-416c-cd3c-042161f1fed9"
      },
      "source": [
        "print(tensor2.grad)"
      ],
      "execution_count": null,
      "outputs": [
        {
          "output_type": "stream",
          "text": [
            "None\n"
          ],
          "name": "stdout"
        }
      ]
    },
    {
      "cell_type": "code",
      "metadata": {
        "id": "gUtrmOPbcSeE",
        "outputId": "a4ab79d8-3569-4ca8-cc7f-c6bdc389f10e"
      },
      "source": [
        "print(output_tensor.grad)"
      ],
      "execution_count": null,
      "outputs": [
        {
          "output_type": "stream",
          "text": [
            "None\n"
          ],
          "name": "stdout"
        }
      ]
    },
    {
      "cell_type": "markdown",
      "metadata": {
        "id": "Gscnh0-dcSeE"
      },
      "source": [
        "#### The requires_grad property propagates to other tensors\n",
        "Here the new_tensor is created from the original tensor and gets the original's value of requires_grad"
      ]
    },
    {
      "cell_type": "code",
      "metadata": {
        "id": "MVUozAkucSeE",
        "outputId": "149d0b55-c6ef-4170-b247-4e55b38f35aa"
      },
      "source": [
        "new_tensor = tensor1 * 3\n",
        "print(new_tensor.requires_grad)"
      ],
      "execution_count": null,
      "outputs": [
        {
          "output_type": "stream",
          "text": [
            "True\n"
          ],
          "name": "stdout"
        }
      ]
    },
    {
      "cell_type": "code",
      "metadata": {
        "id": "GINYGkVocSeF",
        "outputId": "47be9cd0-c1c5-4c3c-c438-26d6fca931fb"
      },
      "source": [
        "new_tensor"
      ],
      "execution_count": null,
      "outputs": [
        {
          "output_type": "execute_result",
          "data": {
            "text/plain": [
              "tensor([[ 3.,  6.,  9.],\n",
              "        [12., 15., 18.]], grad_fn=<MulBackward0>)"
            ]
          },
          "metadata": {
            "tags": []
          },
          "execution_count": 86
        }
      ]
    },
    {
      "cell_type": "markdown",
      "metadata": {
        "id": "pJDObOZScSeF"
      },
      "source": [
        "#### Turning off gradient calculations for tensors\n",
        "You can also stops autograd from tracking history on newly created tensors with requires_grad=True by wrapping the code block in <br />\n",
        "<b>with torch.no_grad():</b>"
      ]
    },
    {
      "cell_type": "code",
      "metadata": {
        "id": "AivL9pYocSeF",
        "outputId": "865d1c3a-c7e1-476f-cf8e-d4f7f717d8a1"
      },
      "source": [
        "with torch.no_grad():\n",
        "    \n",
        "    new_tensor = tensor1 * 3\n",
        "    \n",
        "    print('new_tensor = ', new_tensor)\n",
        "    \n",
        "    print('requires_grad for tensor = ', tensor1.requires_grad)\n",
        "    \n",
        "    print('requires_grad for tensor = ', tensor2.requires_grad)\n",
        "    \n",
        "    print('requires_grad for new_tensor = ', new_tensor.requires_grad)"
      ],
      "execution_count": null,
      "outputs": [
        {
          "output_type": "stream",
          "text": [
            "new_tensor =  tensor([[ 3.,  6.,  9.],\n",
            "        [12., 15., 18.]])\n",
            "requires_grad for tensor =  True\n",
            "requires_grad for tensor =  False\n",
            "requires_grad for new_tensor =  False\n"
          ],
          "name": "stdout"
        }
      ]
    },
    {
      "cell_type": "markdown",
      "metadata": {
        "id": "nrFNTR76cSeF"
      },
      "source": [
        "#### Can turn off gradient calculations performed within a function"
      ]
    },
    {
      "cell_type": "code",
      "metadata": {
        "id": "muoUOY0ncSeF"
      },
      "source": [
        "def calculate(t):\n",
        "    return t * 2"
      ],
      "execution_count": null,
      "outputs": []
    },
    {
      "cell_type": "code",
      "metadata": {
        "id": "l8GdyweScSeG"
      },
      "source": [
        "@torch.no_grad()\n",
        "def calculate_with_no_grad(t):\n",
        "    return t * 2"
      ],
      "execution_count": null,
      "outputs": []
    },
    {
      "cell_type": "code",
      "metadata": {
        "id": "yvOUh3uecSeG",
        "outputId": "7a209dcb-0e3c-4a63-c6b9-a3db940573dc"
      },
      "source": [
        "result_tensor = calculate(tensor1)\n",
        "\n",
        "result_tensor"
      ],
      "execution_count": null,
      "outputs": [
        {
          "output_type": "execute_result",
          "data": {
            "text/plain": [
              "tensor([[ 2.,  4.,  6.],\n",
              "        [ 8., 10., 12.]], grad_fn=<MulBackward0>)"
            ]
          },
          "metadata": {
            "tags": []
          },
          "execution_count": 90
        }
      ]
    },
    {
      "cell_type": "code",
      "metadata": {
        "id": "mY_AjQtZcSeG",
        "outputId": "30f9c7e0-519c-402e-9793-ce6b02299620"
      },
      "source": [
        "result_tensor.requires_grad"
      ],
      "execution_count": null,
      "outputs": [
        {
          "output_type": "execute_result",
          "data": {
            "text/plain": [
              "True"
            ]
          },
          "metadata": {
            "tags": []
          },
          "execution_count": 91
        }
      ]
    },
    {
      "cell_type": "code",
      "metadata": {
        "id": "W1to9u0OcSeG",
        "outputId": "36cd14aa-fe58-4984-fc7b-f1146716768c"
      },
      "source": [
        "result_tensor_no_grad = calculate_with_no_grad(tensor1)\n",
        "\n",
        "result_tensor_no_grad"
      ],
      "execution_count": null,
      "outputs": [
        {
          "output_type": "execute_result",
          "data": {
            "text/plain": [
              "tensor([[ 2.,  4.,  6.],\n",
              "        [ 8., 10., 12.]])"
            ]
          },
          "metadata": {
            "tags": []
          },
          "execution_count": 92
        }
      ]
    },
    {
      "cell_type": "code",
      "metadata": {
        "id": "hJNRCNxXcSeG",
        "outputId": "9fd7351c-f67a-4114-c524-f8ad1397809b"
      },
      "source": [
        "result_tensor_no_grad.requires_grad"
      ],
      "execution_count": null,
      "outputs": [
        {
          "output_type": "execute_result",
          "data": {
            "text/plain": [
              "False"
            ]
          },
          "metadata": {
            "tags": []
          },
          "execution_count": 93
        }
      ]
    },
    {
      "cell_type": "markdown",
      "metadata": {
        "id": "9V_F6-X5cSeH"
      },
      "source": [
        "#### Can explicitly enabled gradients within a no_grad() context\n",
        "\n",
        "There is an equivalent @torch.enable_grad() as well"
      ]
    },
    {
      "cell_type": "code",
      "metadata": {
        "id": "67OR9bNIcSeH",
        "outputId": "cabbac2f-a9d5-49fb-8861-56464737f0c2"
      },
      "source": [
        "with torch.no_grad():\n",
        "    \n",
        "    new_tensor_no_grad = tensor1 * 3\n",
        "    \n",
        "    print('new_tensor_no_grad = ', new_tensor_no_grad)\n",
        "    \n",
        "    with torch.enable_grad():\n",
        "        \n",
        "        new_tensor_grad = tensor1 * 3\n",
        "    \n",
        "        print('new_tensor_grad = ', new_tensor_grad)"
      ],
      "execution_count": null,
      "outputs": [
        {
          "output_type": "stream",
          "text": [
            "new_tensor_no_grad =  tensor([[ 3.,  6.,  9.],\n",
            "        [12., 15., 18.]])\n",
            "new_tensor_grad =  tensor([[ 3.,  6.,  9.],\n",
            "        [12., 15., 18.]], grad_fn=<MulBackward0>)\n"
          ],
          "name": "stdout"
        }
      ]
    },
    {
      "cell_type": "markdown",
      "metadata": {
        "id": "oXlQCh7JcSeH"
      },
      "source": [
        "### Result tensors get requires_grad properties from input tensors"
      ]
    },
    {
      "cell_type": "code",
      "metadata": {
        "id": "FA-Ti4x-cSeH",
        "outputId": "5ec6a9e4-f64c-4f4b-cfdf-e99c207d9b3b"
      },
      "source": [
        "tensor_one = torch.tensor([[1.0, 2.0], \n",
        "                           [3.0, 4.0]], requires_grad=True)  \n",
        "tensor_one"
      ],
      "execution_count": null,
      "outputs": [
        {
          "output_type": "execute_result",
          "data": {
            "text/plain": [
              "tensor([[1., 2.],\n",
              "        [3., 4.]], requires_grad=True)"
            ]
          },
          "metadata": {
            "tags": []
          },
          "execution_count": 98
        }
      ]
    },
    {
      "cell_type": "code",
      "metadata": {
        "id": "hTfdSBC5cSeH",
        "outputId": "47b8e25f-69c0-48c3-f911-ab1eee6e3e04"
      },
      "source": [
        "tensor_two = torch.Tensor([[5, 6], \n",
        "                           [7, 8]])\n",
        "tensor_two"
      ],
      "execution_count": null,
      "outputs": [
        {
          "output_type": "execute_result",
          "data": {
            "text/plain": [
              "tensor([[5., 6.],\n",
              "        [7., 8.]])"
            ]
          },
          "metadata": {
            "tags": []
          },
          "execution_count": 99
        }
      ]
    },
    {
      "cell_type": "markdown",
      "metadata": {
        "id": "acZo1N82cSeI"
      },
      "source": [
        "#### enable the gradients for  two tensors"
      ]
    },
    {
      "cell_type": "code",
      "metadata": {
        "id": "INH5Q3F1cSeI",
        "outputId": "7be8f9eb-2cad-44e0-bbce-47fbff58c99a"
      },
      "source": [
        "tensor_one.requires_grad"
      ],
      "execution_count": null,
      "outputs": [
        {
          "output_type": "execute_result",
          "data": {
            "text/plain": [
              "True"
            ]
          },
          "metadata": {
            "tags": []
          },
          "execution_count": 100
        }
      ]
    },
    {
      "cell_type": "code",
      "metadata": {
        "id": "G9hD7FbLcSeI",
        "outputId": "0c37df11-2975-48a3-d91d-22315a2ef1b7"
      },
      "source": [
        "tensor_two.requires_grad_()"
      ],
      "execution_count": null,
      "outputs": [
        {
          "output_type": "execute_result",
          "data": {
            "text/plain": [
              "tensor([[5., 6.],\n",
              "        [7., 8.]], requires_grad=True)"
            ]
          },
          "metadata": {
            "tags": []
          },
          "execution_count": 101
        }
      ]
    },
    {
      "cell_type": "code",
      "metadata": {
        "id": "GghPcQUucSeI",
        "outputId": "8fa148d8-48b3-49a9-dfb7-a1934deb3916"
      },
      "source": [
        "final_tensor = (tensor_one + tensor_two).mean()\n",
        "final_tensor"
      ],
      "execution_count": null,
      "outputs": [
        {
          "output_type": "execute_result",
          "data": {
            "text/plain": [
              "tensor(9., grad_fn=<MeanBackward1>)"
            ]
          },
          "metadata": {
            "tags": []
          },
          "execution_count": 102
        }
      ]
    },
    {
      "cell_type": "markdown",
      "metadata": {
        "id": "_UL4s8W1cSeI"
      },
      "source": [
        "#### final tensor has gradients enabled as it derives from the tensors its made up of"
      ]
    },
    {
      "cell_type": "code",
      "metadata": {
        "id": "sM09oo-AcSeJ",
        "outputId": "18752f91-3ac8-4c63-a415-4a5a457409e4"
      },
      "source": [
        "final_tensor.requires_grad"
      ],
      "execution_count": null,
      "outputs": [
        {
          "output_type": "execute_result",
          "data": {
            "text/plain": [
              "True"
            ]
          },
          "metadata": {
            "tags": []
          },
          "execution_count": 103
        }
      ]
    },
    {
      "cell_type": "code",
      "metadata": {
        "id": "B52DsW3QcSeJ",
        "outputId": "af03ffc1-3aa7-4264-bbc1-53e14cdc69ca"
      },
      "source": [
        "print(tensor_one.grad)"
      ],
      "execution_count": null,
      "outputs": [
        {
          "output_type": "stream",
          "text": [
            "None\n"
          ],
          "name": "stdout"
        }
      ]
    },
    {
      "cell_type": "code",
      "metadata": {
        "id": "U_X99YTWcSeJ",
        "outputId": "128c4662-ff76-41a5-8525-84013baafa5a"
      },
      "source": [
        "print(tensor_two.grad)"
      ],
      "execution_count": null,
      "outputs": [
        {
          "output_type": "stream",
          "text": [
            "None\n"
          ],
          "name": "stdout"
        }
      ]
    },
    {
      "cell_type": "code",
      "metadata": {
        "id": "cNePM9rncSeJ"
      },
      "source": [
        "final_tensor.backward()"
      ],
      "execution_count": null,
      "outputs": []
    },
    {
      "cell_type": "code",
      "metadata": {
        "id": "S5DwXws5cSeJ",
        "outputId": "36f08034-45e8-4616-97a1-4ca425e6201b"
      },
      "source": [
        "print(tensor_one.grad)"
      ],
      "execution_count": null,
      "outputs": [
        {
          "output_type": "stream",
          "text": [
            "tensor([[0.2500, 0.2500],\n",
            "        [0.2500, 0.2500]])\n"
          ],
          "name": "stdout"
        }
      ]
    },
    {
      "cell_type": "code",
      "metadata": {
        "id": "gLE3E8AJcSeJ",
        "outputId": "f19e47c8-2012-4c39-c7a1-8aa595cb82f3"
      },
      "source": [
        "print(tensor_two.grad)"
      ],
      "execution_count": null,
      "outputs": [
        {
          "output_type": "stream",
          "text": [
            "tensor([[0.2500, 0.2500],\n",
            "        [0.2500, 0.2500]])\n"
          ],
          "name": "stdout"
        }
      ]
    },
    {
      "cell_type": "code",
      "metadata": {
        "id": "spUDpsVpcSeK",
        "outputId": "e7b05d37-1ccc-4641-aa6a-73693fffb006"
      },
      "source": [
        "print(final_tensor.grad)"
      ],
      "execution_count": null,
      "outputs": [
        {
          "output_type": "stream",
          "text": [
            "None\n"
          ],
          "name": "stdout"
        }
      ]
    },
    {
      "cell_type": "markdown",
      "metadata": {
        "id": "1ypmf9IBcSeK"
      },
      "source": [
        "#### Detach tensors from the computation graph"
      ]
    },
    {
      "cell_type": "code",
      "metadata": {
        "id": "pxYV4RrjcSeK",
        "outputId": "c5fd7c36-d102-4b17-aa3d-940f5f94cfa1"
      },
      "source": [
        "detached_tensor = tensor_one.detach()\n",
        "\n",
        "detached_tensor"
      ],
      "execution_count": null,
      "outputs": [
        {
          "output_type": "execute_result",
          "data": {
            "text/plain": [
              "tensor([[1., 2.],\n",
              "        [3., 4.]])"
            ]
          },
          "metadata": {
            "tags": []
          },
          "execution_count": 111
        }
      ]
    },
    {
      "cell_type": "code",
      "metadata": {
        "id": "raYR4VwEcSeK",
        "outputId": "5c120773-4065-43e9-d375-2cc332c06057"
      },
      "source": [
        "tensor_one"
      ],
      "execution_count": null,
      "outputs": [
        {
          "output_type": "execute_result",
          "data": {
            "text/plain": [
              "tensor([[1., 2.],\n",
              "        [3., 4.]], requires_grad=True)"
            ]
          },
          "metadata": {
            "tags": []
          },
          "execution_count": 112
        }
      ]
    },
    {
      "cell_type": "code",
      "metadata": {
        "id": "FfSwCfxHcSeK"
      },
      "source": [
        "mean_tensor = (tensor_one + detached_tensor).mean()\n",
        "\n",
        "mean_tensor.backward()"
      ],
      "execution_count": null,
      "outputs": []
    },
    {
      "cell_type": "code",
      "metadata": {
        "id": "I856LpXEcSeL",
        "outputId": "2b7ee2b5-68be-496f-d550-6f0b31f91c9e"
      },
      "source": [
        "tensor_one.grad"
      ],
      "execution_count": null,
      "outputs": [
        {
          "output_type": "execute_result",
          "data": {
            "text/plain": [
              "tensor([[0.5000, 0.5000],\n",
              "        [0.5000, 0.5000]])"
            ]
          },
          "metadata": {
            "tags": []
          },
          "execution_count": 114
        }
      ]
    },
    {
      "cell_type": "code",
      "metadata": {
        "id": "SO4NRKl7cSeL",
        "outputId": "cad7e457-6a07-4370-aa95-d9ae19721230"
      },
      "source": [
        "print(detached_tensor.grad)"
      ],
      "execution_count": null,
      "outputs": [
        {
          "output_type": "stream",
          "text": [
            "None\n"
          ],
          "name": "stdout"
        }
      ]
    }
  ]
}