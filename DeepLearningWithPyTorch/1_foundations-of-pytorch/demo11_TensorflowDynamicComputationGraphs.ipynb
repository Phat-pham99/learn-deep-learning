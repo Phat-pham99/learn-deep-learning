{
  "nbformat": 4,
  "nbformat_minor": 0,
  "metadata": {
    "kernelspec": {
      "display_name": "Python 3",
      "language": "python",
      "name": "python3"
    },
    "language_info": {
      "codemirror_mode": {
        "name": "ipython",
        "version": 3
      },
      "file_extension": ".py",
      "mimetype": "text/x-python",
      "name": "python",
      "nbconvert_exporter": "python",
      "pygments_lexer": "ipython3",
      "version": "3.7.1"
    },
    "colab": {
      "name": "demo11-TensorflowDynamicComputationGraphs.ipynb",
      "provenance": [],
      "include_colab_link": true
    }
  },
  "cells": [
    {
      "cell_type": "markdown",
      "metadata": {
        "id": "view-in-github",
        "colab_type": "text"
      },
      "source": [
        "<a href=\"https://colab.research.google.com/github/YonDraco/learn-deep-learning/blob/main/BuildingDLSolutionsWithPyTorch/1_Foundations%20of%20PyTorch/demo11_TensorflowDynamicComputationGraphs.ipynb\" target=\"_parent\"><img src=\"https://colab.research.google.com/assets/colab-badge.svg\" alt=\"Open In Colab\"/></a>"
      ]
    },
    {
      "cell_type": "code",
      "metadata": {
        "id": "wwNPBRjTv5ko"
      },
      "source": [
        "import numpy as np\n",
        "\n",
        "import tensorflow as tf"
      ],
      "execution_count": null,
      "outputs": []
    },
    {
      "cell_type": "code",
      "metadata": {
        "id": "WJ3rKXtNv5ks"
      },
      "source": [
        "tf.enable_eager_execution()"
      ],
      "execution_count": null,
      "outputs": []
    },
    {
      "cell_type": "code",
      "metadata": {
        "id": "D4Lnx5DLv5kv",
        "outputId": "f73ac36e-2417-4a72-e002-1406cde844b2"
      },
      "source": [
        "tf.executing_eagerly() "
      ],
      "execution_count": null,
      "outputs": [
        {
          "output_type": "execute_result",
          "data": {
            "text/plain": [
              "True"
            ]
          },
          "metadata": {
            "tags": []
          },
          "execution_count": 3
        }
      ]
    },
    {
      "cell_type": "markdown",
      "metadata": {
        "id": "8hY19fN2v5ky"
      },
      "source": [
        "#### Only variable and constants are compatible with eager execution "
      ]
    },
    {
      "cell_type": "code",
      "metadata": {
        "id": "07FSeOMvv5k0"
      },
      "source": [
        "W = tf.Variable(6, name = 'var_W')\n",
        "\n",
        "x = tf.constant([10, 10], name = 'x')\n",
        "\n",
        "b = tf.Variable(3, name = 'constant_b')"
      ],
      "execution_count": null,
      "outputs": []
    },
    {
      "cell_type": "code",
      "metadata": {
        "id": "dBOlRlJMv5k1",
        "outputId": "7b75aefb-bcc4-4568-bfdd-66a637fa4181"
      },
      "source": [
        "W"
      ],
      "execution_count": null,
      "outputs": [
        {
          "output_type": "execute_result",
          "data": {
            "text/plain": [
              "<tf.Variable 'var_W:0' shape=() dtype=int32, numpy=6>"
            ]
          },
          "metadata": {
            "tags": []
          },
          "execution_count": 19
        }
      ]
    },
    {
      "cell_type": "code",
      "metadata": {
        "id": "q4ins-IMv5k2",
        "outputId": "e92069f3-3849-4745-aad3-5c553cb88551"
      },
      "source": [
        "x"
      ],
      "execution_count": null,
      "outputs": [
        {
          "output_type": "execute_result",
          "data": {
            "text/plain": [
              "<tf.Tensor: id=64, shape=(2,), dtype=int32, numpy=array([10, 10], dtype=int32)>"
            ]
          },
          "metadata": {
            "tags": []
          },
          "execution_count": 20
        }
      ]
    },
    {
      "cell_type": "code",
      "metadata": {
        "id": "UDlFReTdv5k3",
        "outputId": "91624acb-6c21-4f00-8735-2e59a01f2e3d"
      },
      "source": [
        "b"
      ],
      "execution_count": null,
      "outputs": [
        {
          "output_type": "execute_result",
          "data": {
            "text/plain": [
              "<tf.Variable 'constant_b:0' shape=() dtype=int32, numpy=3>"
            ]
          },
          "metadata": {
            "tags": []
          },
          "execution_count": 21
        }
      ]
    },
    {
      "cell_type": "code",
      "metadata": {
        "id": "jV9CkaUBv5k4"
      },
      "source": [
        "y = W * x + b"
      ],
      "execution_count": null,
      "outputs": []
    },
    {
      "cell_type": "code",
      "metadata": {
        "id": "4wdkB9iAv5k5",
        "outputId": "27e20400-0be5-455e-c28d-8f1b80b9f094"
      },
      "source": [
        "y"
      ],
      "execution_count": null,
      "outputs": [
        {
          "output_type": "execute_result",
          "data": {
            "text/plain": [
              "<tf.Tensor: id=80, shape=(2,), dtype=int32, numpy=array([63, 63], dtype=int32)>"
            ]
          },
          "metadata": {
            "tags": []
          },
          "execution_count": 23
        }
      ]
    },
    {
      "cell_type": "code",
      "metadata": {
        "id": "vB0VS0vxv5k5",
        "outputId": "9915fa01-adb9-4d3e-b5ff-fde97df27032"
      },
      "source": [
        "print(y)"
      ],
      "execution_count": null,
      "outputs": [
        {
          "output_type": "stream",
          "text": [
            "tf.Tensor([63 63], shape=(2,), dtype=int32)\n"
          ],
          "name": "stdout"
        }
      ]
    },
    {
      "cell_type": "code",
      "metadata": {
        "id": "f7lkDpX0v5k6",
        "outputId": "fe5ccb70-e9ff-47e4-fadd-4909475badd7"
      },
      "source": [
        "print(W*x)"
      ],
      "execution_count": null,
      "outputs": [
        {
          "output_type": "stream",
          "text": [
            "tf.Tensor([60 60], shape=(2,), dtype=int32)\n"
          ],
          "name": "stdout"
        }
      ]
    },
    {
      "cell_type": "markdown",
      "metadata": {
        "id": "mFeNI197v5k6"
      },
      "source": [
        "https://www.tensorflow.org/guide/eager#work_with_graphs"
      ]
    },
    {
      "cell_type": "code",
      "metadata": {
        "id": "ZDz0XfVnv5k7",
        "outputId": "9e43ed0d-bf71-40df-ee69-2781d4c7971c"
      },
      "source": [
        "np_result = np.multiply(W, x)\n",
        "\n",
        "np_result"
      ],
      "execution_count": null,
      "outputs": [
        {
          "output_type": "execute_result",
          "data": {
            "text/plain": [
              "array([<tf.Tensor: id=108, shape=(), dtype=int32, numpy=60>,\n",
              "       <tf.Tensor: id=111, shape=(), dtype=int32, numpy=60>], dtype=object)"
            ]
          },
          "metadata": {
            "tags": []
          },
          "execution_count": 32
        }
      ]
    },
    {
      "cell_type": "code",
      "metadata": {
        "id": "cOTZVCGyv5k7",
        "outputId": "99ead387-b26a-4ae3-8cf2-d81b799374d5"
      },
      "source": [
        "W.numpy()"
      ],
      "execution_count": null,
      "outputs": [
        {
          "output_type": "execute_result",
          "data": {
            "text/plain": [
              "6"
            ]
          },
          "metadata": {
            "tags": []
          },
          "execution_count": 33
        }
      ]
    },
    {
      "cell_type": "code",
      "metadata": {
        "id": "JnECZ906v5k8",
        "outputId": "ee9b8473-5d4f-48b3-c687-1280d9b0f2ac"
      },
      "source": [
        "y.numpy()"
      ],
      "execution_count": null,
      "outputs": [
        {
          "output_type": "execute_result",
          "data": {
            "text/plain": [
              "array([63, 63], dtype=int32)"
            ]
          },
          "metadata": {
            "tags": []
          },
          "execution_count": 34
        }
      ]
    }
  ]
}