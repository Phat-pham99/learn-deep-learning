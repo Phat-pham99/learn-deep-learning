{
  "nbformat": 4,
  "nbformat_minor": 0,
  "metadata": {
    "kernelspec": {
      "display_name": "Python 3",
      "language": "python",
      "name": "python3"
    },
    "language_info": {
      "codemirror_mode": {
        "name": "ipython",
        "version": 3
      },
      "file_extension": ".py",
      "mimetype": "text/x-python",
      "name": "python",
      "nbconvert_exporter": "python",
      "pygments_lexer": "ipython3",
      "version": "3.7.1"
    },
    "colab": {
      "name": "demo3-ConversionsBetweenPyTorchAndNumPy .ipynb",
      "provenance": [],
      "include_colab_link": true
    },
    "accelerator": "GPU"
  },
  "cells": [
    {
      "cell_type": "markdown",
      "metadata": {
        "id": "view-in-github",
        "colab_type": "text"
      },
      "source": [
        "<a href=\"https://colab.research.google.com/github/YonDraco/learn-deep-learning/blob/main/BuildingDLSolutionsWithPyTorch/1_Foundations%20of%20PyTorch/demo3_ConversionsBetweenPyTorchAndNumPy_.ipynb\" target=\"_parent\"><img src=\"https://colab.research.google.com/assets/colab-badge.svg\" alt=\"Open In Colab\"/></a>"
      ]
    },
    {
      "cell_type": "markdown",
      "metadata": {
        "id": "9ewJ8EjbY6dY"
      },
      "source": [
        "## Interoperablity between Numpy arrays and Pytorch Tensors"
      ]
    },
    {
      "cell_type": "code",
      "metadata": {
        "id": "jxuLkRiKY6dc"
      },
      "source": [
        "import numpy as np\n",
        "import torch"
      ],
      "execution_count": 1,
      "outputs": []
    },
    {
      "cell_type": "markdown",
      "metadata": {
        "id": "Ec-FXKYRY6df"
      },
      "source": [
        "#### Converting tensor to numpy arrays"
      ]
    },
    {
      "cell_type": "code",
      "metadata": {
        "colab": {
          "base_uri": "https://localhost:8080/"
        },
        "id": "McZxujpnY6dg",
        "outputId": "70a75303-97da-49a1-9870-ebd8d463bb7a"
      },
      "source": [
        "tensor = torch.rand(4, 3)\n",
        "tensor"
      ],
      "execution_count": 2,
      "outputs": [
        {
          "output_type": "execute_result",
          "data": {
            "text/plain": [
              "tensor([[0.0226, 0.0424, 0.6834],\n",
              "        [0.1253, 0.8022, 0.1720],\n",
              "        [0.0105, 0.6426, 0.7742],\n",
              "        [0.2299, 0.7604, 0.5829]])"
            ]
          },
          "metadata": {
            "tags": []
          },
          "execution_count": 2
        }
      ]
    },
    {
      "cell_type": "code",
      "metadata": {
        "colab": {
          "base_uri": "https://localhost:8080/"
        },
        "id": "k_LvDGIlY6di",
        "outputId": "cc2c4104-1fae-4370-b569-25af6f3654cc"
      },
      "source": [
        "type(tensor)"
      ],
      "execution_count": 3,
      "outputs": [
        {
          "output_type": "execute_result",
          "data": {
            "text/plain": [
              "torch.Tensor"
            ]
          },
          "metadata": {
            "tags": []
          },
          "execution_count": 3
        }
      ]
    },
    {
      "cell_type": "markdown",
      "metadata": {
        "id": "K_Uab3nHY6dj"
      },
      "source": [
        "### The numpy arrays use the same memory as the PyTorch tensor"
      ]
    },
    {
      "cell_type": "code",
      "metadata": {
        "colab": {
          "base_uri": "https://localhost:8080/"
        },
        "id": "NUC4KAMBY6dk",
        "outputId": "20dda718-7c71-457f-b01e-2a10c1f9e877"
      },
      "source": [
        "numpy_from_tensor = tensor.numpy()                   \n",
        "numpy_from_tensor"
      ],
      "execution_count": 4,
      "outputs": [
        {
          "output_type": "execute_result",
          "data": {
            "text/plain": [
              "array([[0.02256334, 0.04238117, 0.6833691 ],\n",
              "       [0.12533575, 0.80221164, 0.17198539],\n",
              "       [0.01045156, 0.6426219 , 0.7741825 ],\n",
              "       [0.22990537, 0.76041925, 0.582936  ]], dtype=float32)"
            ]
          },
          "metadata": {
            "tags": []
          },
          "execution_count": 4
        }
      ]
    },
    {
      "cell_type": "code",
      "metadata": {
        "colab": {
          "base_uri": "https://localhost:8080/"
        },
        "id": "hh7jlOtRY6dm",
        "outputId": "d0421b9d-062a-4074-dcf8-b1f7a70e8d53"
      },
      "source": [
        "type(numpy_from_tensor)"
      ],
      "execution_count": 5,
      "outputs": [
        {
          "output_type": "execute_result",
          "data": {
            "text/plain": [
              "numpy.ndarray"
            ]
          },
          "metadata": {
            "tags": []
          },
          "execution_count": 5
        }
      ]
    },
    {
      "cell_type": "code",
      "metadata": {
        "colab": {
          "base_uri": "https://localhost:8080/"
        },
        "id": "3dAgS5c7Y6dn",
        "outputId": "f4acb6c6-a155-4e6d-d4a5-89662afd5358"
      },
      "source": [
        "torch.is_tensor(tensor)"
      ],
      "execution_count": 6,
      "outputs": [
        {
          "output_type": "execute_result",
          "data": {
            "text/plain": [
              "True"
            ]
          },
          "metadata": {
            "tags": []
          },
          "execution_count": 6
        }
      ]
    },
    {
      "cell_type": "code",
      "metadata": {
        "colab": {
          "base_uri": "https://localhost:8080/"
        },
        "id": "GYIYAzuLY6dq",
        "outputId": "59aa2a4d-a6f6-4d60-9573-f0c7d89fad1a"
      },
      "source": [
        "torch.is_tensor(numpy_from_tensor)"
      ],
      "execution_count": 7,
      "outputs": [
        {
          "output_type": "execute_result",
          "data": {
            "text/plain": [
              "False"
            ]
          },
          "metadata": {
            "tags": []
          },
          "execution_count": 7
        }
      ]
    },
    {
      "cell_type": "markdown",
      "metadata": {
        "id": "sTdr-zFBY6dr"
      },
      "source": [
        "#### The NumPy array and the Torch tensor share memory"
      ]
    },
    {
      "cell_type": "code",
      "metadata": {
        "colab": {
          "base_uri": "https://localhost:8080/"
        },
        "id": "kn-WGxhUY6ds",
        "outputId": "c8b0053f-5c63-482a-cc59-cebf6a57d75e"
      },
      "source": [
        "numpy_from_tensor[0, 0] = 100.0\n",
        "\n",
        "numpy_from_tensor"
      ],
      "execution_count": 8,
      "outputs": [
        {
          "output_type": "execute_result",
          "data": {
            "text/plain": [
              "array([[1.0000000e+02, 4.2381167e-02, 6.8336910e-01],\n",
              "       [1.2533575e-01, 8.0221164e-01, 1.7198539e-01],\n",
              "       [1.0451555e-02, 6.4262187e-01, 7.7418250e-01],\n",
              "       [2.2990537e-01, 7.6041925e-01, 5.8293599e-01]], dtype=float32)"
            ]
          },
          "metadata": {
            "tags": []
          },
          "execution_count": 8
        }
      ]
    },
    {
      "cell_type": "code",
      "metadata": {
        "colab": {
          "base_uri": "https://localhost:8080/"
        },
        "id": "Cw51vYXsY6dt",
        "outputId": "8ca97ad0-a99c-4080-e831-3b9baddbd872"
      },
      "source": [
        "tensor"
      ],
      "execution_count": 9,
      "outputs": [
        {
          "output_type": "execute_result",
          "data": {
            "text/plain": [
              "tensor([[1.0000e+02, 4.2381e-02, 6.8337e-01],\n",
              "        [1.2534e-01, 8.0221e-01, 1.7199e-01],\n",
              "        [1.0452e-02, 6.4262e-01, 7.7418e-01],\n",
              "        [2.2991e-01, 7.6042e-01, 5.8294e-01]])"
            ]
          },
          "metadata": {
            "tags": []
          },
          "execution_count": 9
        }
      ]
    },
    {
      "cell_type": "markdown",
      "metadata": {
        "id": "r0ZHipP1Y6du"
      },
      "source": [
        "#### Converting a numpy array to a Tensor"
      ]
    },
    {
      "cell_type": "code",
      "metadata": {
        "colab": {
          "base_uri": "https://localhost:8080/"
        },
        "id": "bvfsZ1QiY6dv",
        "outputId": "96ebd0ae-ee1d-427d-ec07-bd5a5928412c"
      },
      "source": [
        "numpy_arr = np.array([[1.0, 2.0, 3.0], \n",
        "                      [10.0, 20.0, 30.0],\n",
        "                      [100.0, 200.0, 300.0]])\n",
        "\n",
        "numpy_arr"
      ],
      "execution_count": 10,
      "outputs": [
        {
          "output_type": "execute_result",
          "data": {
            "text/plain": [
              "array([[  1.,   2.,   3.],\n",
              "       [ 10.,  20.,  30.],\n",
              "       [100., 200., 300.]])"
            ]
          },
          "metadata": {
            "tags": []
          },
          "execution_count": 10
        }
      ]
    },
    {
      "cell_type": "code",
      "metadata": {
        "colab": {
          "base_uri": "https://localhost:8080/"
        },
        "id": "NFUGHPVmY6dw",
        "outputId": "01438e4d-f9be-4ff0-ec2a-6e2eb1b11f4e"
      },
      "source": [
        "tensor_from_numpy = torch.from_numpy(numpy_arr)\n",
        "tensor_from_numpy"
      ],
      "execution_count": 14,
      "outputs": [
        {
          "output_type": "execute_result",
          "data": {
            "text/plain": [
              "tensor([[  1.,   2.,   3.],\n",
              "        [ 10.,  20.,  30.],\n",
              "        [100., 200., 300.]], dtype=torch.float64)"
            ]
          },
          "metadata": {
            "tags": []
          },
          "execution_count": 14
        }
      ]
    },
    {
      "cell_type": "code",
      "metadata": {
        "colab": {
          "base_uri": "https://localhost:8080/"
        },
        "id": "OplvLYp6Y6dx",
        "outputId": "cf1c4422-e772-4241-b965-c684266a14aa"
      },
      "source": [
        "torch.is_tensor(tensor_from_numpy)"
      ],
      "execution_count": 16,
      "outputs": [
        {
          "output_type": "execute_result",
          "data": {
            "text/plain": [
              "True"
            ]
          },
          "metadata": {
            "tags": []
          },
          "execution_count": 16
        }
      ]
    },
    {
      "cell_type": "markdown",
      "metadata": {
        "id": "pcmmUrflY6dy"
      },
      "source": [
        "#### The Numpy arrays and Tensor share the same memory\n",
        "The tensor and numpy_from_tensor are shallow copies and share the same memory as the original numpy array. Modifying the original array affects the values of both tensor and numpy_from_tensor"
      ]
    },
    {
      "cell_type": "code",
      "metadata": {
        "colab": {
          "base_uri": "https://localhost:8080/"
        },
        "id": "67IydpsqY6dy",
        "outputId": "20ea18d9-4f83-4a42-c3c9-6994ee03b068"
      },
      "source": [
        "tensor_from_numpy[0] = 1\n",
        "tensor_from_numpy"
      ],
      "execution_count": 17,
      "outputs": [
        {
          "output_type": "execute_result",
          "data": {
            "text/plain": [
              "tensor([[  1.,   1.,   1.],\n",
              "        [ 10.,  20.,  30.],\n",
              "        [100., 200., 300.]], dtype=torch.float64)"
            ]
          },
          "metadata": {
            "tags": []
          },
          "execution_count": 17
        }
      ]
    },
    {
      "cell_type": "code",
      "metadata": {
        "colab": {
          "base_uri": "https://localhost:8080/"
        },
        "id": "OMnnfHPLY6dz",
        "outputId": "e661a8e6-1105-40da-89b7-ba49f58ffd32"
      },
      "source": [
        "numpy_arr"
      ],
      "execution_count": 18,
      "outputs": [
        {
          "output_type": "execute_result",
          "data": {
            "text/plain": [
              "array([[  1.,   1.,   1.],\n",
              "       [ 10.,  20.,  30.],\n",
              "       [100., 200., 300.]])"
            ]
          },
          "metadata": {
            "tags": []
          },
          "execution_count": 18
        }
      ]
    },
    {
      "cell_type": "markdown",
      "metadata": {
        "id": "YGnys0SgY6dz"
      },
      "source": [
        "#### Convert the data into a torch.Tensor. \n",
        "\n",
        "If the data is already a Tensor with the same dtype and device, no copy will be performed, otherwise a new Tensor will be returned"
      ]
    },
    {
      "cell_type": "code",
      "metadata": {
        "colab": {
          "base_uri": "https://localhost:8080/"
        },
        "id": "8ja_jpfIY6d0",
        "outputId": "83ccba07-deb8-4b55-fd5c-b7a36eb997b7"
      },
      "source": [
        "np_array_one = np.array([4, 8])\n",
        "np_array_one"
      ],
      "execution_count": 19,
      "outputs": [
        {
          "output_type": "execute_result",
          "data": {
            "text/plain": [
              "array([4, 8])"
            ]
          },
          "metadata": {
            "tags": []
          },
          "execution_count": 19
        }
      ]
    },
    {
      "cell_type": "code",
      "metadata": {
        "colab": {
          "base_uri": "https://localhost:8080/"
        },
        "id": "M8ZVOwD3Y6d0",
        "outputId": "81fdd0d0-e553-4a59-95a1-5844e2f69957"
      },
      "source": [
        "tensor_from_array_one = torch.as_tensor(np_array_one)\n",
        "tensor_from_array_one"
      ],
      "execution_count": 20,
      "outputs": [
        {
          "output_type": "execute_result",
          "data": {
            "text/plain": [
              "tensor([4, 8])"
            ]
          },
          "metadata": {
            "tags": []
          },
          "execution_count": 20
        }
      ]
    },
    {
      "cell_type": "code",
      "metadata": {
        "colab": {
          "base_uri": "https://localhost:8080/"
        },
        "id": "N7B6DkXGY6d1",
        "outputId": "0c053e7e-9c42-4fd7-feb7-3193a1d234b6"
      },
      "source": [
        "np_array_one[1] = 5\n",
        "np_array_one"
      ],
      "execution_count": 21,
      "outputs": [
        {
          "output_type": "execute_result",
          "data": {
            "text/plain": [
              "array([4, 5])"
            ]
          },
          "metadata": {
            "tags": []
          },
          "execution_count": 21
        }
      ]
    },
    {
      "cell_type": "code",
      "metadata": {
        "colab": {
          "base_uri": "https://localhost:8080/"
        },
        "id": "yPPxalquY6d1",
        "outputId": "317220c7-cd01-425e-c62e-ee0f23ace258"
      },
      "source": [
        "tensor_from_array_one"
      ],
      "execution_count": 22,
      "outputs": [
        {
          "output_type": "execute_result",
          "data": {
            "text/plain": [
              "tensor([4, 5])"
            ]
          },
          "metadata": {
            "tags": []
          },
          "execution_count": 22
        }
      ]
    },
    {
      "cell_type": "markdown",
      "metadata": {
        "id": "FIDKxQ_IY6d1"
      },
      "source": [
        "#### torch.tensor() reads out the data from whatever it is passed, and constructs a leaf variable"
      ]
    },
    {
      "cell_type": "code",
      "metadata": {
        "colab": {
          "base_uri": "https://localhost:8080/"
        },
        "id": "udRjYSD-Y6d2",
        "outputId": "5960fb87-6b2e-441d-8117-6cea20e1ce1d"
      },
      "source": [
        "np_array_two = np.array([2, 2])\n",
        "np_array_two"
      ],
      "execution_count": 23,
      "outputs": [
        {
          "output_type": "execute_result",
          "data": {
            "text/plain": [
              "array([2, 2])"
            ]
          },
          "metadata": {
            "tags": []
          },
          "execution_count": 23
        }
      ]
    },
    {
      "cell_type": "code",
      "metadata": {
        "colab": {
          "base_uri": "https://localhost:8080/"
        },
        "id": "H2dLGnodY6d2",
        "outputId": "0d936919-9c91-43a0-cfef-5c47e8748e98"
      },
      "source": [
        "tensor_from_array_two = torch.tensor(np_array_two)\n",
        "\n",
        "tensor_from_array_two"
      ],
      "execution_count": 24,
      "outputs": [
        {
          "output_type": "execute_result",
          "data": {
            "text/plain": [
              "tensor([2, 2])"
            ]
          },
          "metadata": {
            "tags": []
          },
          "execution_count": 24
        }
      ]
    },
    {
      "cell_type": "markdown",
      "metadata": {
        "id": "kxPIHnthY6d2"
      },
      "source": [
        "#### in this method the tensor and array do not share memory"
      ]
    },
    {
      "cell_type": "code",
      "metadata": {
        "colab": {
          "base_uri": "https://localhost:8080/"
        },
        "id": "HKTD-T20Y6d3",
        "outputId": "e9b316dc-4bc9-4596-fe17-37eaac80a09a"
      },
      "source": [
        "np_array_two[1] = 4\n",
        "np_array_two"
      ],
      "execution_count": 25,
      "outputs": [
        {
          "output_type": "execute_result",
          "data": {
            "text/plain": [
              "array([2, 4])"
            ]
          },
          "metadata": {
            "tags": []
          },
          "execution_count": 25
        }
      ]
    },
    {
      "cell_type": "code",
      "metadata": {
        "colab": {
          "base_uri": "https://localhost:8080/"
        },
        "id": "iuWLThisY6d3",
        "outputId": "d2854cb5-c182-4cd1-b29a-e1ea2796f6ec"
      },
      "source": [
        "tensor_from_array_two"
      ],
      "execution_count": 26,
      "outputs": [
        {
          "output_type": "execute_result",
          "data": {
            "text/plain": [
              "tensor([2, 2])"
            ]
          },
          "metadata": {
            "tags": []
          },
          "execution_count": 26
        }
      ]
    }
  ]
}