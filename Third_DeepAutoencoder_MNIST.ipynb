{
  "nbformat": 4,
  "nbformat_minor": 0,
  "metadata": {
    "colab": {
      "name": "Third_DeepAutoencoder_MNIST.ipynb",
      "provenance": [],
      "collapsed_sections": [],
      "include_colab_link": true
    },
    "kernelspec": {
      "name": "python3",
      "display_name": "Python 3"
    },
    "accelerator": "GPU",
    "widgets": {
      "application/vnd.jupyter.widget-state+json": {
        "54c1ebbfa8094f01b40d081adcbc3618": {
          "model_module": "@jupyter-widgets/controls",
          "model_name": "HBoxModel",
          "state": {
            "_view_name": "HBoxView",
            "_dom_classes": [],
            "_model_name": "HBoxModel",
            "_view_module": "@jupyter-widgets/controls",
            "_model_module_version": "1.5.0",
            "_view_count": null,
            "_view_module_version": "1.5.0",
            "box_style": "",
            "layout": "IPY_MODEL_dd23cf6ef6d44218bbf68ed359778976",
            "_model_module": "@jupyter-widgets/controls",
            "children": [
              "IPY_MODEL_a0e5070e8c4f458783caa9d842a19eed",
              "IPY_MODEL_4854c42155244b39b3edbc978a4071c7"
            ]
          }
        },
        "dd23cf6ef6d44218bbf68ed359778976": {
          "model_module": "@jupyter-widgets/base",
          "model_name": "LayoutModel",
          "state": {
            "_view_name": "LayoutView",
            "grid_template_rows": null,
            "right": null,
            "justify_content": null,
            "_view_module": "@jupyter-widgets/base",
            "overflow": null,
            "_model_module_version": "1.2.0",
            "_view_count": null,
            "flex_flow": null,
            "width": null,
            "min_width": null,
            "border": null,
            "align_items": null,
            "bottom": null,
            "_model_module": "@jupyter-widgets/base",
            "top": null,
            "grid_column": null,
            "overflow_y": null,
            "overflow_x": null,
            "grid_auto_flow": null,
            "grid_area": null,
            "grid_template_columns": null,
            "flex": null,
            "_model_name": "LayoutModel",
            "justify_items": null,
            "grid_row": null,
            "max_height": null,
            "align_content": null,
            "visibility": null,
            "align_self": null,
            "height": null,
            "min_height": null,
            "padding": null,
            "grid_auto_rows": null,
            "grid_gap": null,
            "max_width": null,
            "order": null,
            "_view_module_version": "1.2.0",
            "grid_template_areas": null,
            "object_position": null,
            "object_fit": null,
            "grid_auto_columns": null,
            "margin": null,
            "display": null,
            "left": null
          }
        },
        "a0e5070e8c4f458783caa9d842a19eed": {
          "model_module": "@jupyter-widgets/controls",
          "model_name": "FloatProgressModel",
          "state": {
            "_view_name": "ProgressView",
            "style": "IPY_MODEL_f2ed35defb424136a6b0ce17e4b97b19",
            "_dom_classes": [],
            "description": "Dl Completed...: 100%",
            "_model_name": "FloatProgressModel",
            "bar_style": "success",
            "max": 4,
            "_view_module": "@jupyter-widgets/controls",
            "_model_module_version": "1.5.0",
            "value": 4,
            "_view_count": null,
            "_view_module_version": "1.5.0",
            "orientation": "horizontal",
            "min": 0,
            "description_tooltip": null,
            "_model_module": "@jupyter-widgets/controls",
            "layout": "IPY_MODEL_da38d9e6aef84ec3bc6fe3b667f15cf2"
          }
        },
        "4854c42155244b39b3edbc978a4071c7": {
          "model_module": "@jupyter-widgets/controls",
          "model_name": "HTMLModel",
          "state": {
            "_view_name": "HTMLView",
            "style": "IPY_MODEL_7bca0a626d8b43e7b3649ec4ea72b631",
            "_dom_classes": [],
            "description": "",
            "_model_name": "HTMLModel",
            "placeholder": "​",
            "_view_module": "@jupyter-widgets/controls",
            "_model_module_version": "1.5.0",
            "value": " 4/4 [00:05&lt;00:00,  1.49s/ file]",
            "_view_count": null,
            "_view_module_version": "1.5.0",
            "description_tooltip": null,
            "_model_module": "@jupyter-widgets/controls",
            "layout": "IPY_MODEL_894b9f34b17141e18f1c3ede6bda269d"
          }
        },
        "f2ed35defb424136a6b0ce17e4b97b19": {
          "model_module": "@jupyter-widgets/controls",
          "model_name": "ProgressStyleModel",
          "state": {
            "_view_name": "StyleView",
            "_model_name": "ProgressStyleModel",
            "description_width": "initial",
            "_view_module": "@jupyter-widgets/base",
            "_model_module_version": "1.5.0",
            "_view_count": null,
            "_view_module_version": "1.2.0",
            "bar_color": null,
            "_model_module": "@jupyter-widgets/controls"
          }
        },
        "da38d9e6aef84ec3bc6fe3b667f15cf2": {
          "model_module": "@jupyter-widgets/base",
          "model_name": "LayoutModel",
          "state": {
            "_view_name": "LayoutView",
            "grid_template_rows": null,
            "right": null,
            "justify_content": null,
            "_view_module": "@jupyter-widgets/base",
            "overflow": null,
            "_model_module_version": "1.2.0",
            "_view_count": null,
            "flex_flow": null,
            "width": null,
            "min_width": null,
            "border": null,
            "align_items": null,
            "bottom": null,
            "_model_module": "@jupyter-widgets/base",
            "top": null,
            "grid_column": null,
            "overflow_y": null,
            "overflow_x": null,
            "grid_auto_flow": null,
            "grid_area": null,
            "grid_template_columns": null,
            "flex": null,
            "_model_name": "LayoutModel",
            "justify_items": null,
            "grid_row": null,
            "max_height": null,
            "align_content": null,
            "visibility": null,
            "align_self": null,
            "height": null,
            "min_height": null,
            "padding": null,
            "grid_auto_rows": null,
            "grid_gap": null,
            "max_width": null,
            "order": null,
            "_view_module_version": "1.2.0",
            "grid_template_areas": null,
            "object_position": null,
            "object_fit": null,
            "grid_auto_columns": null,
            "margin": null,
            "display": null,
            "left": null
          }
        },
        "7bca0a626d8b43e7b3649ec4ea72b631": {
          "model_module": "@jupyter-widgets/controls",
          "model_name": "DescriptionStyleModel",
          "state": {
            "_view_name": "StyleView",
            "_model_name": "DescriptionStyleModel",
            "description_width": "",
            "_view_module": "@jupyter-widgets/base",
            "_model_module_version": "1.5.0",
            "_view_count": null,
            "_view_module_version": "1.2.0",
            "_model_module": "@jupyter-widgets/controls"
          }
        },
        "894b9f34b17141e18f1c3ede6bda269d": {
          "model_module": "@jupyter-widgets/base",
          "model_name": "LayoutModel",
          "state": {
            "_view_name": "LayoutView",
            "grid_template_rows": null,
            "right": null,
            "justify_content": null,
            "_view_module": "@jupyter-widgets/base",
            "overflow": null,
            "_model_module_version": "1.2.0",
            "_view_count": null,
            "flex_flow": null,
            "width": null,
            "min_width": null,
            "border": null,
            "align_items": null,
            "bottom": null,
            "_model_module": "@jupyter-widgets/base",
            "top": null,
            "grid_column": null,
            "overflow_y": null,
            "overflow_x": null,
            "grid_auto_flow": null,
            "grid_area": null,
            "grid_template_columns": null,
            "flex": null,
            "_model_name": "LayoutModel",
            "justify_items": null,
            "grid_row": null,
            "max_height": null,
            "align_content": null,
            "visibility": null,
            "align_self": null,
            "height": null,
            "min_height": null,
            "padding": null,
            "grid_auto_rows": null,
            "grid_gap": null,
            "max_width": null,
            "order": null,
            "_view_module_version": "1.2.0",
            "grid_template_areas": null,
            "object_position": null,
            "object_fit": null,
            "grid_auto_columns": null,
            "margin": null,
            "display": null,
            "left": null
          }
        }
      }
    }
  },
  "cells": [
    {
      "cell_type": "markdown",
      "metadata": {
        "id": "view-in-github",
        "colab_type": "text"
      },
      "source": [
        "<a href=\"https://colab.research.google.com/github/YonDraco/learn-deep-learning/blob/main/Third_DeepAutoencoder_MNIST.ipynb\" target=\"_parent\"><img src=\"https://colab.research.google.com/assets/colab-badge.svg\" alt=\"Open In Colab\"/></a>"
      ]
    },
    {
      "cell_type": "markdown",
      "metadata": {
        "id": "hSmjE4t1dKnG"
      },
      "source": [
        "# MNIST Deep Autoencoder\n",
        "\n",
        "Mô hình ở đây sẽ có mạng lưới sâu hơn nên có thể xử lý những hình ảnh phức tạp hơn."
      ]
    },
    {
      "cell_type": "markdown",
      "metadata": {
        "id": "zTTfAJbudq7l"
      },
      "source": [
        "## Imports"
      ]
    },
    {
      "cell_type": "code",
      "metadata": {
        "id": "3EXwoz-KHtWO"
      },
      "source": [
        "try:\n",
        "  %tensorflow_version 2.x\n",
        "except Exception:\n",
        "  pass\n",
        "  \n",
        "import tensorflow as tf\n",
        "import tensorflow_datasets as tfds\n",
        "\n",
        "import numpy as np\n",
        "import matplotlib.pyplot as plt"
      ],
      "execution_count": 1,
      "outputs": []
    },
    {
      "cell_type": "markdown",
      "metadata": {
        "id": "25T24ET7e0ub"
      },
      "source": [
        "## Prepare the Dataset"
      ]
    },
    {
      "cell_type": "code",
      "metadata": {
        "id": "5BMJF86p0d08"
      },
      "source": [
        "def map_image(image, label):\n",
        "  '''Bình thường hóa và làm phẳng hình ảnh. Trả về hình ảnh dưới dạng đầu vào và nhãn'''\n",
        "  image = tf.cast(image, dtype=tf.float32)\n",
        "  image = image / 255.0\n",
        "  image = tf.reshape(image, shape=(784,))\n",
        "\n",
        "  return image, image"
      ],
      "execution_count": 2,
      "outputs": []
    },
    {
      "cell_type": "code",
      "metadata": {
        "id": "t9F7YsCNIKSA",
        "colab": {
          "base_uri": "https://localhost:8080/",
          "height": 202,
          "referenced_widgets": [
            "54c1ebbfa8094f01b40d081adcbc3618",
            "dd23cf6ef6d44218bbf68ed359778976",
            "a0e5070e8c4f458783caa9d842a19eed",
            "4854c42155244b39b3edbc978a4071c7",
            "f2ed35defb424136a6b0ce17e4b97b19",
            "da38d9e6aef84ec3bc6fe3b667f15cf2",
            "7bca0a626d8b43e7b3649ec4ea72b631",
            "894b9f34b17141e18f1c3ede6bda269d"
          ]
        },
        "outputId": "78ac6028-8ce0-4725-da11-788fe3973387"
      },
      "source": [
        "# Load the train and test sets from TFDS\n",
        "\n",
        "BATCH_SIZE = 128\n",
        "SHUFFLE_BUFFER_SIZE = 1024\n",
        "\n",
        "train_dataset = tfds.load('mnist', as_supervised=True, split=\"train\")\n",
        "train_dataset = train_dataset.map(map_image)\n",
        "train_dataset = train_dataset.shuffle(SHUFFLE_BUFFER_SIZE).batch(BATCH_SIZE).repeat()\n",
        "\n",
        "test_dataset = tfds.load('mnist', as_supervised=True, split=\"test\")\n",
        "test_dataset = test_dataset.map(map_image)\n",
        "test_dataset = test_dataset.batch(BATCH_SIZE).repeat()"
      ],
      "execution_count": 3,
      "outputs": [
        {
          "output_type": "stream",
          "text": [
            "\u001b[1mDownloading and preparing dataset mnist/3.0.1 (download: 11.06 MiB, generated: 21.00 MiB, total: 32.06 MiB) to /root/tensorflow_datasets/mnist/3.0.1...\u001b[0m\n"
          ],
          "name": "stdout"
        },
        {
          "output_type": "stream",
          "text": [
            "WARNING:absl:Dataset mnist is hosted on GCS. It will automatically be downloaded to your\n",
            "local data directory. If you'd instead prefer to read directly from our public\n",
            "GCS bucket (recommended if you're running on GCP), you can instead pass\n",
            "`try_gcs=True` to `tfds.load` or set `data_dir=gs://tfds-data/datasets`.\n",
            "\n"
          ],
          "name": "stderr"
        },
        {
          "output_type": "display_data",
          "data": {
            "application/vnd.jupyter.widget-view+json": {
              "model_id": "54c1ebbfa8094f01b40d081adcbc3618",
              "version_minor": 0,
              "version_major": 2
            },
            "text/plain": [
              "HBox(children=(FloatProgress(value=0.0, description='Dl Completed...', max=4.0, style=ProgressStyle(descriptio…"
            ]
          },
          "metadata": {
            "tags": []
          }
        },
        {
          "output_type": "stream",
          "text": [
            "\n",
            "\n",
            "\u001b[1mDataset mnist downloaded and prepared to /root/tensorflow_datasets/mnist/3.0.1. Subsequent calls will reuse this data.\u001b[0m\n"
          ],
          "name": "stdout"
        }
      ]
    },
    {
      "cell_type": "markdown",
      "metadata": {
        "id": "Ji6sa0SXe3zP"
      },
      "source": [
        "## Build the Model"
      ]
    },
    {
      "cell_type": "markdown",
      "metadata": {
        "id": "x8OFTvkO02gV"
      },
      "source": [
        "Như đã đề cập, bạn sẽ có một mạng lưới sâu hơn cho trình mã tự động. So sánh các lớp ở đây với lớp của mạng nông mà bạn đã xây dựng trong phòng thí nghiệm trước đó."
      ]
    },
    {
      "cell_type": "code",
      "metadata": {
        "id": "KRrE2BV4IpzR"
      },
      "source": [
        "def deep_autoencoder():\n",
        "  '''Builds the encoder and decoder using Dense layers.'''\n",
        "  encoder = tf.keras.layers.Dense(units=128, activation='relu')(inputs)\n",
        "  encoder = tf.keras.layers.Dense(units=64, activation='relu')(encoder)\n",
        "  encoder = tf.keras.layers.Dense(units=32, activation='relu')(encoder)\n",
        "\n",
        "  decoder = tf.keras.layers.Dense(units=64, activation='relu')(encoder)\n",
        "  decoder = tf.keras.layers.Dense(units=128, activation='relu')(decoder)\n",
        "  decoder = tf.keras.layers.Dense(units=784, activation='sigmoid')(decoder)\n",
        "  \n",
        "  return encoder, decoder\n",
        "\n",
        "# set the input tensor\n",
        "inputs =  tf.keras.layers.Input(shape=(784,))\n",
        "\n",
        "# get the encoder and decoder output\n",
        "deep_encoder_output, deep_autoencoder_output = deep_autoencoder()\n",
        "\n",
        "# setup the encoder because you will visualize its output later\n",
        "deep_encoder_model = tf.keras.Model(inputs=inputs, outputs=deep_encoder_output)\n",
        "\n",
        "# setup the autoencoder\n",
        "deep_autoencoder_model = tf.keras.Model(inputs=inputs, outputs=deep_autoencoder_output)"
      ],
      "execution_count": 4,
      "outputs": []
    },
    {
      "cell_type": "markdown",
      "metadata": {
        "id": "5zG5ml6ufAz7"
      },
      "source": [
        "## Compile and Train the Model"
      ]
    },
    {
      "cell_type": "code",
      "metadata": {
        "id": "gj3xr9gxfAqP",
        "colab": {
          "base_uri": "https://localhost:8080/"
        },
        "outputId": "4268e529-241c-47cd-c69c-84b83089a530"
      },
      "source": [
        "train_steps = 60000 // BATCH_SIZE\n",
        "\n",
        "deep_autoencoder_model.compile(optimizer=tf.keras.optimizers.Adam(), loss='binary_crossentropy')\n",
        "deep_auto_history = deep_autoencoder_model.fit(train_dataset, steps_per_epoch=train_steps, epochs=50)"
      ],
      "execution_count": 5,
      "outputs": [
        {
          "output_type": "stream",
          "text": [
            "Epoch 1/50\n",
            "468/468 [==============================] - 11s 17ms/step - loss: 0.2839\n",
            "Epoch 2/50\n",
            "468/468 [==============================] - 5s 10ms/step - loss: 0.1332\n",
            "Epoch 3/50\n",
            "468/468 [==============================] - 5s 10ms/step - loss: 0.1188\n",
            "Epoch 4/50\n",
            "468/468 [==============================] - 5s 10ms/step - loss: 0.1120\n",
            "Epoch 5/50\n",
            "468/468 [==============================] - 5s 10ms/step - loss: 0.1073\n",
            "Epoch 6/50\n",
            "468/468 [==============================] - 5s 10ms/step - loss: 0.1038\n",
            "Epoch 7/50\n",
            "468/468 [==============================] - 5s 10ms/step - loss: 0.1008\n",
            "Epoch 8/50\n",
            "468/468 [==============================] - 5s 10ms/step - loss: 0.0987\n",
            "Epoch 9/50\n",
            "468/468 [==============================] - 5s 10ms/step - loss: 0.0971\n",
            "Epoch 10/50\n",
            "468/468 [==============================] - 5s 10ms/step - loss: 0.0958\n",
            "Epoch 11/50\n",
            "468/468 [==============================] - 5s 10ms/step - loss: 0.0946\n",
            "Epoch 12/50\n",
            "468/468 [==============================] - 5s 10ms/step - loss: 0.0934\n",
            "Epoch 13/50\n",
            "468/468 [==============================] - 5s 10ms/step - loss: 0.0922\n",
            "Epoch 14/50\n",
            "468/468 [==============================] - 5s 10ms/step - loss: 0.0914\n",
            "Epoch 15/50\n",
            "468/468 [==============================] - 5s 10ms/step - loss: 0.0905\n",
            "Epoch 16/50\n",
            "468/468 [==============================] - 5s 10ms/step - loss: 0.0897\n",
            "Epoch 17/50\n",
            "468/468 [==============================] - 5s 10ms/step - loss: 0.0889\n",
            "Epoch 18/50\n",
            "468/468 [==============================] - 5s 10ms/step - loss: 0.0883\n",
            "Epoch 19/50\n",
            "468/468 [==============================] - 5s 10ms/step - loss: 0.0877\n",
            "Epoch 20/50\n",
            "468/468 [==============================] - 5s 10ms/step - loss: 0.0873\n",
            "Epoch 21/50\n",
            "468/468 [==============================] - 5s 10ms/step - loss: 0.0869\n",
            "Epoch 22/50\n",
            "468/468 [==============================] - 5s 10ms/step - loss: 0.0865\n",
            "Epoch 23/50\n",
            "468/468 [==============================] - 5s 10ms/step - loss: 0.0863\n",
            "Epoch 24/50\n",
            "468/468 [==============================] - 5s 10ms/step - loss: 0.0860\n",
            "Epoch 25/50\n",
            "468/468 [==============================] - 5s 10ms/step - loss: 0.0857\n",
            "Epoch 26/50\n",
            "468/468 [==============================] - 5s 10ms/step - loss: 0.0855\n",
            "Epoch 27/50\n",
            "468/468 [==============================] - 5s 10ms/step - loss: 0.0853\n",
            "Epoch 28/50\n",
            "468/468 [==============================] - 5s 10ms/step - loss: 0.0852\n",
            "Epoch 29/50\n",
            "468/468 [==============================] - 5s 10ms/step - loss: 0.0849\n",
            "Epoch 30/50\n",
            "468/468 [==============================] - 5s 10ms/step - loss: 0.0848\n",
            "Epoch 31/50\n",
            "468/468 [==============================] - 5s 10ms/step - loss: 0.0847\n",
            "Epoch 32/50\n",
            "468/468 [==============================] - 5s 10ms/step - loss: 0.0846\n",
            "Epoch 33/50\n",
            "468/468 [==============================] - 5s 10ms/step - loss: 0.0843\n",
            "Epoch 34/50\n",
            "468/468 [==============================] - 5s 10ms/step - loss: 0.0841\n",
            "Epoch 35/50\n",
            "468/468 [==============================] - 5s 10ms/step - loss: 0.0839\n",
            "Epoch 36/50\n",
            "468/468 [==============================] - 5s 10ms/step - loss: 0.0838\n",
            "Epoch 37/50\n",
            "468/468 [==============================] - 5s 10ms/step - loss: 0.0836\n",
            "Epoch 38/50\n",
            "468/468 [==============================] - 5s 10ms/step - loss: 0.0835\n",
            "Epoch 39/50\n",
            "468/468 [==============================] - 5s 10ms/step - loss: 0.0833\n",
            "Epoch 40/50\n",
            "468/468 [==============================] - 5s 10ms/step - loss: 0.0832\n",
            "Epoch 41/50\n",
            "468/468 [==============================] - 5s 10ms/step - loss: 0.0830\n",
            "Epoch 42/50\n",
            "468/468 [==============================] - 5s 10ms/step - loss: 0.0830\n",
            "Epoch 43/50\n",
            "468/468 [==============================] - 5s 10ms/step - loss: 0.0829\n",
            "Epoch 44/50\n",
            "468/468 [==============================] - 5s 10ms/step - loss: 0.0827\n",
            "Epoch 45/50\n",
            "468/468 [==============================] - 5s 10ms/step - loss: 0.0826\n",
            "Epoch 46/50\n",
            "468/468 [==============================] - 5s 10ms/step - loss: 0.0825\n",
            "Epoch 47/50\n",
            "468/468 [==============================] - 5s 10ms/step - loss: 0.0824\n",
            "Epoch 48/50\n",
            "468/468 [==============================] - 5s 10ms/step - loss: 0.0823\n",
            "Epoch 49/50\n",
            "468/468 [==============================] - 5s 10ms/step - loss: 0.0823\n",
            "Epoch 50/50\n",
            "468/468 [==============================] - 5s 10ms/step - loss: 0.0822\n"
          ],
          "name": "stdout"
        }
      ]
    },
    {
      "cell_type": "markdown",
      "metadata": {
        "id": "n1XL84ydfGEh"
      },
      "source": [
        "## Display sample results\n",
        "\n"
      ]
    },
    {
      "cell_type": "code",
      "metadata": {
        "id": "GcR54SEZ1-XF"
      },
      "source": [
        "def display_one_row(disp_images, offset, shape=(28, 28)):\n",
        "  '''Display sample outputs in one row.'''\n",
        "  for idx, test_image in enumerate(disp_images):\n",
        "    plt.subplot(3, 10, offset + idx + 1)\n",
        "    plt.xticks([])\n",
        "    plt.yticks([])\n",
        "    test_image = np.reshape(test_image, shape)\n",
        "    plt.imshow(test_image, cmap='gray')\n",
        "\n",
        "\n",
        "def display_results(disp_input_images, disp_encoded, disp_predicted, enc_shape=(8,4)):\n",
        "  '''Displays the input, encoded, and decoded output values.'''\n",
        "  plt.figure(figsize=(15, 5))\n",
        "  display_one_row(disp_input_images, 0, shape=(28,28,))\n",
        "  display_one_row(disp_encoded, 10, shape=enc_shape)\n",
        "  display_one_row(disp_predicted, 20, shape=(28,28,))"
      ],
      "execution_count": 6,
      "outputs": []
    },
    {
      "cell_type": "code",
      "metadata": {
        "id": "qtQyQRxRN_hH",
        "colab": {
          "base_uri": "https://localhost:8080/",
          "height": 297
        },
        "outputId": "508ab8c6-a1fc-4347-d50a-93591de2a656"
      },
      "source": [
        "# take 1 batch of the dataset\n",
        "test_dataset = test_dataset.take(1)\n",
        "\n",
        "# take the input images and put them in a list\n",
        "output_samples = []\n",
        "for input_image, image in tfds.as_numpy(test_dataset):\n",
        "      output_samples = input_image\n",
        "\n",
        "# pick 10 random numbers to be used as indices to the list above\n",
        "idxs = np.random.choice(BATCH_SIZE, size=10)\n",
        "\n",
        "# get the encoder output\n",
        "encoded_predicted = deep_encoder_model.predict(test_dataset)\n",
        "\n",
        "# get a prediction for the test batch\n",
        "deep_predicted = deep_autoencoder_model.predict(test_dataset)\n",
        "\n",
        "# display the 10 samples, encodings and decoded values!\n",
        "display_results(output_samples[idxs], encoded_predicted[idxs], deep_predicted[idxs])"
      ],
      "execution_count": 7,
      "outputs": [
        {
          "output_type": "display_data",
          "data": {
            "image/png": "[encoded data removed]",
            "text/plain": [
              "<Figure size 1080x360 with 30 Axes>"
            ]
          },
          "metadata": {
            "tags": []
          }
        }
      ]
    }
  ]
}