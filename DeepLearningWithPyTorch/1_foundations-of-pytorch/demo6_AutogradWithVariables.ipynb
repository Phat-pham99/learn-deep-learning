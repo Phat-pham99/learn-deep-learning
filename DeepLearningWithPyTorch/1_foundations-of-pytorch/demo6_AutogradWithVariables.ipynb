{
  "nbformat": 4,
  "nbformat_minor": 0,
  "metadata": {
    "kernelspec": {
      "display_name": "Python 3",
      "language": "python",
      "name": "python3"
    },
    "language_info": {
      "codemirror_mode": {
        "name": "ipython",
        "version": 3
      },
      "file_extension": ".py",
      "mimetype": "text/x-python",
      "name": "python",
      "nbconvert_exporter": "python",
      "pygments_lexer": "ipython3",
      "version": "3.7.1"
    },
    "colab": {
      "name": "demo6-AutogradWithVariables.ipynb",
      "provenance": [],
      "include_colab_link": true
    }
  },
  "cells": [
    {
      "cell_type": "markdown",
      "metadata": {
        "id": "view-in-github",
        "colab_type": "text"
      },
      "source": [
        "<a href=\"https://colab.research.google.com/github/YonDraco/learn-deep-learning/blob/main/BuildingDLSolutionsWithPyTorch/1_Foundations%20of%20PyTorch/demo6_AutogradWithVariables.ipynb\" target=\"_parent\"><img src=\"https://colab.research.google.com/assets/colab-badge.svg\" alt=\"Open In Colab\"/></a>"
      ]
    },
    {
      "cell_type": "code",
      "metadata": {
        "id": "Ss-fLMvUfNgD"
      },
      "source": [
        "import torch \n",
        "\n",
        "from torch.autograd import Variable"
      ],
      "execution_count": null,
      "outputs": []
    },
    {
      "cell_type": "markdown",
      "metadata": {
        "id": "1jM4Wu9NfNgK"
      },
      "source": [
        "#### We create a Variable with Float tensor\n",
        "\n",
        "The return value is not a variable instead it is a tensor"
      ]
    },
    {
      "cell_type": "code",
      "metadata": {
        "id": "24F9KnzBfNgM",
        "outputId": "8c8cc7db-d854-4cee-9451-03b4909a622a"
      },
      "source": [
        "var = Variable(torch.FloatTensor([9]))\n",
        "var"
      ],
      "execution_count": null,
      "outputs": [
        {
          "output_type": "execute_result",
          "data": {
            "text/plain": [
              "tensor([9.])"
            ]
          },
          "metadata": {
            "tags": []
          },
          "execution_count": 39
        }
      ]
    },
    {
      "cell_type": "code",
      "metadata": {
        "id": "-qSMS4wrfNgO",
        "outputId": "4d803608-c317-46ec-fccc-283e9a00e02c"
      },
      "source": [
        "var.requires_grad"
      ],
      "execution_count": null,
      "outputs": [
        {
          "output_type": "execute_result",
          "data": {
            "text/plain": [
              "False"
            ]
          },
          "metadata": {
            "tags": []
          },
          "execution_count": 40
        }
      ]
    },
    {
      "cell_type": "code",
      "metadata": {
        "id": "AlpnaS7LfNgQ",
        "outputId": "e4ee23c9-9814-40e0-9751-0f72ffbe7e11"
      },
      "source": [
        "var.requires_grad_()"
      ],
      "execution_count": null,
      "outputs": [
        {
          "output_type": "execute_result",
          "data": {
            "text/plain": [
              "tensor([9.], requires_grad=True)"
            ]
          },
          "metadata": {
            "tags": []
          },
          "execution_count": 41
        }
      ]
    },
    {
      "cell_type": "markdown",
      "metadata": {
        "id": "UU3nN7d0fNgR"
      },
      "source": [
        "#### We create two weight variables with gradients enabled"
      ]
    },
    {
      "cell_type": "code",
      "metadata": {
        "id": "jg1oSAZxfNgS"
      },
      "source": [
        "w1 = Variable(torch.FloatTensor([3]), requires_grad = True)\n",
        "w2 = Variable(torch.FloatTensor([7]), requires_grad = True)"
      ],
      "execution_count": null,
      "outputs": []
    },
    {
      "cell_type": "code",
      "metadata": {
        "id": "pSmzNH0ufNgT",
        "outputId": "5e9941b5-1071-439f-d039-7fae12a980da"
      },
      "source": [
        "w1"
      ],
      "execution_count": null,
      "outputs": [
        {
          "output_type": "execute_result",
          "data": {
            "text/plain": [
              "tensor([3.], requires_grad=True)"
            ]
          },
          "metadata": {
            "tags": []
          },
          "execution_count": 43
        }
      ]
    },
    {
      "cell_type": "code",
      "metadata": {
        "id": "TjQmPvT_fNgV",
        "outputId": "da82f10b-f539-4bc1-cbc2-93fd56d446a7"
      },
      "source": [
        "w2"
      ],
      "execution_count": null,
      "outputs": [
        {
          "output_type": "execute_result",
          "data": {
            "text/plain": [
              "tensor([7.], requires_grad=True)"
            ]
          },
          "metadata": {
            "tags": []
          },
          "execution_count": 44
        }
      ]
    },
    {
      "cell_type": "markdown",
      "metadata": {
        "id": "Ye2I9uzXfNgW"
      },
      "source": [
        "#### We create two more variables using the weights"
      ]
    },
    {
      "cell_type": "code",
      "metadata": {
        "id": "TW1QrJC-fNgX",
        "outputId": "30fc9bb2-f67e-4a5f-dff2-81ef76ed7cee"
      },
      "source": [
        "result_var = var * w1\n",
        "\n",
        "result_var "
      ],
      "execution_count": null,
      "outputs": [
        {
          "output_type": "execute_result",
          "data": {
            "text/plain": [
              "tensor([27.], grad_fn=<MulBackward0>)"
            ]
          },
          "metadata": {
            "tags": []
          },
          "execution_count": 50
        }
      ]
    },
    {
      "cell_type": "markdown",
      "metadata": {
        "id": "C6NlA_0xfNgY"
      },
      "source": [
        "#### New variables derive enabled gradients from weights"
      ]
    },
    {
      "cell_type": "code",
      "metadata": {
        "id": "sRqZHHB5fNgY",
        "outputId": "5d6b912d-9623-453c-a327-79ca21f96932"
      },
      "source": [
        "result_var.requires_grad"
      ],
      "execution_count": null,
      "outputs": [
        {
          "output_type": "execute_result",
          "data": {
            "text/plain": [
              "True"
            ]
          },
          "metadata": {
            "tags": []
          },
          "execution_count": 51
        }
      ]
    },
    {
      "cell_type": "code",
      "metadata": {
        "id": "AcxfYJWjfNgZ"
      },
      "source": [
        "result_var.backward()"
      ],
      "execution_count": null,
      "outputs": []
    },
    {
      "cell_type": "code",
      "metadata": {
        "id": "x8rVJDMifNga",
        "outputId": "319c9e31-536e-47e4-ae95-b93c1db611c4"
      },
      "source": [
        "w1.grad"
      ],
      "execution_count": null,
      "outputs": [
        {
          "output_type": "execute_result",
          "data": {
            "text/plain": [
              "tensor([18.])"
            ]
          },
          "metadata": {
            "tags": []
          },
          "execution_count": 53
        }
      ]
    },
    {
      "cell_type": "code",
      "metadata": {
        "id": "f2jYNPdsfNga"
      },
      "source": [
        "w2.grad"
      ],
      "execution_count": null,
      "outputs": []
    },
    {
      "cell_type": "code",
      "metadata": {
        "id": "Bb9_NG2lfNga",
        "outputId": "9ce424d7-1aae-40fe-90c2-50194bd6d4db"
      },
      "source": [
        "var.grad"
      ],
      "execution_count": null,
      "outputs": [
        {
          "output_type": "execute_result",
          "data": {
            "text/plain": [
              "tensor([6.])"
            ]
          },
          "metadata": {
            "tags": []
          },
          "execution_count": 57
        }
      ]
    }
  ]
}