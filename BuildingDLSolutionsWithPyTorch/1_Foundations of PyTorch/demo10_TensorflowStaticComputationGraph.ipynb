{
  "nbformat": 4,
  "nbformat_minor": 0,
  "metadata": {
    "kernelspec": {
      "display_name": "Python 3",
      "language": "python",
      "name": "python3"
    },
    "language_info": {
      "codemirror_mode": {
        "name": "ipython",
        "version": 3
      },
      "file_extension": ".py",
      "mimetype": "text/x-python",
      "name": "python",
      "nbconvert_exporter": "python",
      "pygments_lexer": "ipython3",
      "version": "3.7.1"
    },
    "colab": {
      "name": "demo10-TensorflowStaticComputationGraph.ipynb",
      "provenance": [],
      "include_colab_link": true
    }
  },
  "cells": [
    {
      "cell_type": "markdown",
      "metadata": {
        "id": "view-in-github",
        "colab_type": "text"
      },
      "source": [
        "<a href=\"https://colab.research.google.com/github/YonDraco/learn-deep-learning/blob/main/BuildingDLSolutionsWithPyTorch/1_Foundations%20of%20PyTorch/demo10_TensorflowStaticComputationGraph.ipynb\" target=\"_parent\"><img src=\"https://colab.research.google.com/assets/colab-badge.svg\" alt=\"Open In Colab\"/></a>"
      ]
    },
    {
      "cell_type": "code",
      "metadata": {
        "id": "2GGSJGTjvpuV"
      },
      "source": [
        "import tensorflow as tf"
      ],
      "execution_count": null,
      "outputs": []
    },
    {
      "cell_type": "markdown",
      "metadata": {
        "id": "9K-YLi2jvpub"
      },
      "source": [
        "- w is a tensorflow variable\n",
        "- x is a placeholder\n",
        "- b is a constant"
      ]
    },
    {
      "cell_type": "code",
      "metadata": {
        "id": "cAx_CwwGvpuc"
      },
      "source": [
        "W = tf.Variable(6, name = 'var_W')\n",
        "\n",
        "x = tf.placeholder(tf.int32, shape = [3] ,name = 'x')\n",
        "\n",
        "b = tf.constant(3, name = 'constant_b')"
      ],
      "execution_count": null,
      "outputs": []
    },
    {
      "cell_type": "code",
      "metadata": {
        "id": "7pMvC9j8vpud",
        "outputId": "82ca3dbe-5660-4e46-dff7-1f579717fd79"
      },
      "source": [
        "W"
      ],
      "execution_count": null,
      "outputs": [
        {
          "output_type": "execute_result",
          "data": {
            "text/plain": [
              "<tf.Variable 'var_W_3:0' shape=() dtype=int32_ref>"
            ]
          },
          "metadata": {
            "tags": []
          },
          "execution_count": 42
        }
      ]
    },
    {
      "cell_type": "code",
      "metadata": {
        "id": "wvFJWODpvpue",
        "outputId": "a388c3b6-bca7-4476-9d4a-db9adbe7073e"
      },
      "source": [
        "x"
      ],
      "execution_count": null,
      "outputs": [
        {
          "output_type": "execute_result",
          "data": {
            "text/plain": [
              "<tf.Tensor 'x_3:0' shape=(3,) dtype=int32>"
            ]
          },
          "metadata": {
            "tags": []
          },
          "execution_count": 43
        }
      ]
    },
    {
      "cell_type": "code",
      "metadata": {
        "id": "t0r1Wg4Jvpuf",
        "outputId": "9b77b7d2-47dd-4298-8548-aeca20e970a5"
      },
      "source": [
        "b"
      ],
      "execution_count": null,
      "outputs": [
        {
          "output_type": "execute_result",
          "data": {
            "text/plain": [
              "<tf.Tensor 'constant_b_3:0' shape=() dtype=int32>"
            ]
          },
          "metadata": {
            "tags": []
          },
          "execution_count": 44
        }
      ]
    },
    {
      "cell_type": "code",
      "metadata": {
        "id": "k_GYE396vpug"
      },
      "source": [
        "y = W*x + b"
      ],
      "execution_count": null,
      "outputs": []
    },
    {
      "cell_type": "markdown",
      "metadata": {
        "id": "a5ewVXUfvpui"
      },
      "source": [
        "#### We can't see any values that these variables hold because the graph hasnt been executed yet"
      ]
    },
    {
      "cell_type": "code",
      "metadata": {
        "id": "NlPj4wSsvpuk",
        "outputId": "fa4dfc4b-54d7-4154-94b2-d3aa74f12823"
      },
      "source": [
        "y"
      ],
      "execution_count": null,
      "outputs": [
        {
          "output_type": "execute_result",
          "data": {
            "text/plain": [
              "<tf.Tensor 'add_3:0' shape=(3,) dtype=int32>"
            ]
          },
          "metadata": {
            "tags": []
          },
          "execution_count": 46
        }
      ]
    },
    {
      "cell_type": "markdown",
      "metadata": {
        "id": "w8HHCm8lvpun"
      },
      "source": [
        "#### Initialize global variables"
      ]
    },
    {
      "cell_type": "code",
      "metadata": {
        "id": "_DGHu4-Svpup"
      },
      "source": [
        "init = tf.global_variables_initializer()"
      ],
      "execution_count": null,
      "outputs": []
    },
    {
      "cell_type": "markdown",
      "metadata": {
        "id": "aphUyVPrvpup"
      },
      "source": [
        "#### A Session object encapsulates the environment in which Operation objects are executed, and Tensor objects are evaluated."
      ]
    },
    {
      "cell_type": "code",
      "metadata": {
        "id": "_sHwF1e0vpuq",
        "outputId": "67cb40c6-e021-4df7-f4e7-ad86e9d8b2cb"
      },
      "source": [
        "with tf.Session( )as sess:\n",
        "    sess.run(init)\n",
        "    \n",
        "    y_result = sess.run(y, feed_dict = {x:[10, 20, 30]})\n",
        "    \n",
        "    print(\"Wx+b = \", y_result)"
      ],
      "execution_count": null,
      "outputs": [
        {
          "output_type": "stream",
          "text": [
            "Wx+b =  [ 63 123 183]\n"
          ],
          "name": "stdout"
        }
      ]
    },
    {
      "cell_type": "markdown",
      "metadata": {
        "id": "gy17CLQIvpur"
      },
      "source": [
        "#### The FileWriter class provides a mechanism to create an event file in a given directory and add summaries and events to it\n",
        "graphs directory is created in the current working directory "
      ]
    },
    {
      "cell_type": "code",
      "metadata": {
        "id": "JGV9YszQvpur"
      },
      "source": [
        "writer = tf.summary.FileWriter('./graphs', sess.graph)"
      ],
      "execution_count": null,
      "outputs": []
    },
    {
      "cell_type": "markdown",
      "metadata": {
        "id": "ga7kt9bUvpus"
      },
      "source": [
        "To go to the tensorboard run the following command in your Terminal\n",
        "\n",
        "#### tensorboard --logdir=graphs"
      ]
    },
    {
      "cell_type": "markdown",
      "metadata": {
        "id": "ziW9Jfjjvpus"
      },
      "source": [
        "#### its a good practice to close the session and writer"
      ]
    },
    {
      "cell_type": "code",
      "metadata": {
        "id": "kJ3bpjytvpus"
      },
      "source": [
        "writer.close()"
      ],
      "execution_count": null,
      "outputs": []
    },
    {
      "cell_type": "markdown",
      "metadata": {
        "id": "4Q0F-dE-vpus"
      },
      "source": [
        "#### Returns the default graph for the current thread."
      ]
    },
    {
      "cell_type": "code",
      "metadata": {
        "id": "27TVrFhkvpus"
      },
      "source": [
        "graph = tf.get_default_graph()"
      ],
      "execution_count": null,
      "outputs": []
    },
    {
      "cell_type": "code",
      "metadata": {
        "id": "y-CKABbKvput",
        "outputId": "52c7c849-914e-47a3-ce0f-1cf8282a6f69"
      },
      "source": [
        "print(graph.get_operations())"
      ],
      "execution_count": null,
      "outputs": [
        {
          "output_type": "stream",
          "text": [
            "[<tf.Operation 'var_W/initial_value' type=Const>, <tf.Operation 'var_W' type=VariableV2>, <tf.Operation 'var_W/Assign' type=Assign>, <tf.Operation 'var_W/read' type=Identity>, <tf.Operation 'x' type=Placeholder>, <tf.Operation 'constant_b' type=Const>, <tf.Operation 'mul' type=Mul>, <tf.Operation 'add' type=Add>, <tf.Operation 'init' type=NoOp>, <tf.Operation 'var_W_1/initial_value' type=Const>, <tf.Operation 'var_W_1' type=VariableV2>, <tf.Operation 'var_W_1/Assign' type=Assign>, <tf.Operation 'var_W_1/read' type=Identity>, <tf.Operation 'x_1' type=Placeholder>, <tf.Operation 'constant_b_1' type=Const>, <tf.Operation 'mul_1' type=Mul>, <tf.Operation 'add_1' type=Add>, <tf.Operation 'init_1' type=NoOp>, <tf.Operation 'var_W_2/initial_value' type=Const>, <tf.Operation 'var_W_2' type=VariableV2>, <tf.Operation 'var_W_2/Assign' type=Assign>, <tf.Operation 'var_W_2/read' type=Identity>, <tf.Operation 'x_2' type=Placeholder>, <tf.Operation 'constant_b_2' type=Const>, <tf.Operation 'mul_2' type=Mul>, <tf.Operation 'add_2' type=Add>, <tf.Operation 'init_2' type=NoOp>, <tf.Operation 'var_W_3/initial_value' type=Const>, <tf.Operation 'var_W_3' type=VariableV2>, <tf.Operation 'var_W_3/Assign' type=Assign>, <tf.Operation 'var_W_3/read' type=Identity>, <tf.Operation 'x_3' type=Placeholder>, <tf.Operation 'constant_b_3' type=Const>, <tf.Operation 'mul_3' type=Mul>, <tf.Operation 'add_3' type=Add>, <tf.Operation 'init_3' type=NoOp>]\n"
          ],
          "name": "stdout"
        }
      ]
    }
  ]
}