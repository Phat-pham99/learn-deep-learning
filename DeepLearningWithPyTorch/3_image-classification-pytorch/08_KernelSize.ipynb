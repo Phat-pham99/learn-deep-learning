{
 "cells": [
  {
   "cell_type": "markdown",
   "metadata": {},
   "source": [
    "## Import libraries"
   ]
  },
  {
   "cell_type": "code",
   "execution_count": 3,
   "metadata": {},
   "outputs": [],
   "source": [
    "import numpy as np\n",
    "import matplotlib.pyplot as plt\n",
    "\n",
    "import torch\n",
    "import torchvision\n",
    "import torch.nn as nn\n",
    "import torch.nn.functional as F\n",
    "import torchvision.transforms as transforms"
   ]
  },
  {
   "cell_type": "markdown",
   "metadata": {},
   "source": [
    "### Load CIFAR data\n",
    "* cifar 10 - labelled subsets of a larger dataset which contains 10 categories of images\n",
    "* Load training and test datasets\n",
    "* Apply transforms\n",
    "* Define dataloaders for training and testing"
   ]
  },
  {
   "cell_type": "code",
   "execution_count": 4,
   "metadata": {},
   "outputs": [],
   "source": [
    "mean = [0.49159187, 0.48234594, 0.44671956]\n",
    "std  = [0.23834434, 0.23486559, 0.25264624]"
   ]
  },
  {
   "cell_type": "code",
   "execution_count": 5,
   "metadata": {},
   "outputs": [],
   "source": [
    "train_transform = transforms.Compose([\n",
    "    transforms.Resize(128), \n",
    "    transforms.RandomHorizontalFlip(),\n",
    "    transforms.ToTensor(),\n",
    "    transforms.Normalize(mean, std)\n",
    "])"
   ]
  },
  {
   "cell_type": "code",
   "execution_count": 6,
   "metadata": {},
   "outputs": [],
   "source": [
    "test_transform = transforms.Compose([\n",
    "    transforms.Resize(128),\n",
    "    transforms.ToTensor(),\n",
    "    transforms.Normalize(mean, std)\n",
    "])"
   ]
  },
  {
   "cell_type": "code",
   "execution_count": 7,
   "metadata": {},
   "outputs": [
    {
     "name": "stdout",
     "output_type": "stream",
     "text": [
      "Files already downloaded and verified\n"
     ]
    }
   ],
   "source": [
    "trainset = torchvision.datasets.CIFAR10(root='datasets/cifar10/train',\n",
    "                                        train=True,\n",
    "                                        download=True,\n",
    "                                        transform=train_transform)"
   ]
  },
  {
   "cell_type": "code",
   "execution_count": 8,
   "metadata": {},
   "outputs": [
    {
     "name": "stdout",
     "output_type": "stream",
     "text": [
      "Files already downloaded and verified\n"
     ]
    }
   ],
   "source": [
    "testset = torchvision.datasets.CIFAR10(root='datasets/cifar10/train',\n",
    "                                       train=False,\n",
    "                                       download=True,\n",
    "                                       transform=test_transform)"
   ]
  },
  {
   "cell_type": "code",
   "execution_count": 9,
   "metadata": {},
   "outputs": [],
   "source": [
    "trainloader = torch.utils.data.DataLoader(trainset,\n",
    "                                          batch_size=8,\n",
    "                                          shuffle=True,\n",
    "                                          num_workers=2)"
   ]
  },
  {
   "cell_type": "code",
   "execution_count": 10,
   "metadata": {},
   "outputs": [],
   "source": [
    "testloader = torch.utils.data.DataLoader(testset,\n",
    "                                         batch_size=8,\n",
    "                                         shuffle=False,\n",
    "                                         num_workers=2)"
   ]
  },
  {
   "cell_type": "markdown",
   "metadata": {},
   "source": [
    "#### Configuring the neural network\n",
    "* The input size will be the channels of the images (in_size)\n",
    "* The final output will have a size equal to the number of classes for the prediction\n",
    "* The convolving kernel will have a size of k_conv_size"
   ]
  },
  {
   "cell_type": "code",
   "execution_count": 11,
   "metadata": {},
   "outputs": [],
   "source": [
    "in_size = 3\n",
    "\n",
    "hid1_size = 16\n",
    "hid2_size = 32\n",
    "hid3_size = 64\n",
    "\n",
    "out1_size = 2000\n",
    "out2_size = 10\n",
    "\n",
    "k_conv_size = 9"
   ]
  },
  {
   "cell_type": "markdown",
   "metadata": {},
   "source": [
    "### Define the Convolutional Neural Network\n",
    "\n",
    "<b>Conv2d: </b>Applies a 2D convolution over an input signal composed of several input planes.<br>\n",
    "Parameters<br>\n",
    "in_channels (int) – Number of channels in the input image<br>\n",
    "out_channels (int) – Number of channels produced by the convolution<br>\n",
    "kernel_size (int or tuple) – Size of the convolving kernel<br>\n",
    "\n",
    "<b>BatchNorm2d: </b>Applies Batch Normalization over a 4D input (a mini-batch of 2D inputs with additional channel dimension) as described in the paper Batch Normalization: Accelerating Deep Network Training by Reducing Internal Covariate Shift .\n",
    "Parameters<br>\n",
    "num_features – C from an expected input of size (N,C,H,W)\n",
    "\n",
    "<b>ReLU: </b>Activation function\n",
    "\n",
    "<b>Maxpool2d: </b>\n",
    "Parameters:<br>\n",
    "kernel_size – the size of the window to take a max over\n",
    "\n",
    "<b>Linear: </b>\n",
    "Parameter:<br>\n",
    "\n",
    "in_features: \n",
    "All the operations above used 4D Tensors of shape \n",
    "\n",
    "Now for fully connected layers(linear layers) we need to transform them in 1D Tensors<br>\n",
    "So to the in_features of fully connected layer we will give size\n",
    "out_features:<br>\n",
    "num_classes = number of output labels"
   ]
  },
  {
   "cell_type": "code",
   "execution_count": 27,
   "metadata": {},
   "outputs": [],
   "source": [
    "class ConvNet(nn.Module):\n",
    "    \n",
    "    def __init__(self):\n",
    "        super(ConvNet, self).__init__()\n",
    "        \n",
    "        self.layer1 = nn.Sequential(\n",
    "                nn.Conv2d(in_size, hid1_size, k_conv_size ),\n",
    "                nn.BatchNorm2d(hid1_size),\n",
    "                nn.ReLU(),\n",
    "                nn.MaxPool2d(kernel_size=2))\n",
    "\n",
    "        self.layer2 = nn.Sequential(\n",
    "                nn.Conv2d(hid1_size, hid2_size, k_conv_size),\n",
    "                nn.BatchNorm2d(hid2_size),\n",
    "                nn.ReLU(),\n",
    "                nn.MaxPool2d(kernel_size=2))\n",
    "\n",
    "        self.layer3 = nn.Sequential(\n",
    "                nn.Conv2d(hid2_size, hid3_size, k_conv_size),\n",
    "                nn.BatchNorm2d(hid3_size),\n",
    "                nn.ReLU(),\n",
    "                nn.MaxPool2d(kernel_size=2))\n",
    "\n",
    "        self.layer4 = nn.Sequential(\n",
    "                nn.Linear(hid3_size * k_conv_size * k_conv_size, out1_size),\n",
    "                nn.ReLU(),\n",
    "                nn.Dropout(0.5),\n",
    "                nn.Linear(out1_size, out2_size))\n",
    "    \n",
    "    def forward(self, x):\n",
    "        \n",
    "        out = self.layer1(x)\n",
    "        print(out.shape)\n",
    "        \n",
    "        out = self.layer2(out)\n",
    "        print(out.shape)\n",
    "        \n",
    "        out = self.layer3(out)\n",
    "        print(out.shape)\n",
    "        \n",
    "        out = out.reshape(out.size(0), -1)\n",
    "        print(out.shape)\n",
    "        \n",
    "        out = self.layer4(out)\n",
    "        print(out.shape)\n",
    "\n",
    "        return F.log_softmax(out, dim=-1)\n",
    "    "
   ]
  },
  {
   "cell_type": "code",
   "execution_count": 28,
   "metadata": {},
   "outputs": [],
   "source": [
    "model = ConvNet()"
   ]
  },
  {
   "cell_type": "code",
   "execution_count": 29,
   "metadata": {},
   "outputs": [
    {
     "name": "stdout",
     "output_type": "stream",
     "text": [
      "cuda:0\n"
     ]
    }
   ],
   "source": [
    "device = torch.device(\"cuda:0\" if torch.cuda.is_available() else \"cpu\")\n",
    "\n",
    "print(device)"
   ]
  },
  {
   "cell_type": "code",
   "execution_count": 30,
   "metadata": {},
   "outputs": [
    {
     "data": {
      "text/plain": [
       "ConvNet(\n",
       "  (layer1): Sequential(\n",
       "    (0): Conv2d(3, 16, kernel_size=(9, 9), stride=(1, 1))\n",
       "    (1): BatchNorm2d(16, eps=1e-05, momentum=0.1, affine=True, track_running_stats=True)\n",
       "    (2): ReLU()\n",
       "    (3): MaxPool2d(kernel_size=2, stride=2, padding=0, dilation=1, ceil_mode=False)\n",
       "  )\n",
       "  (layer2): Sequential(\n",
       "    (0): Conv2d(16, 32, kernel_size=(9, 9), stride=(1, 1))\n",
       "    (1): BatchNorm2d(32, eps=1e-05, momentum=0.1, affine=True, track_running_stats=True)\n",
       "    (2): ReLU()\n",
       "    (3): MaxPool2d(kernel_size=2, stride=2, padding=0, dilation=1, ceil_mode=False)\n",
       "  )\n",
       "  (layer3): Sequential(\n",
       "    (0): Conv2d(32, 64, kernel_size=(9, 9), stride=(1, 1))\n",
       "    (1): BatchNorm2d(64, eps=1e-05, momentum=0.1, affine=True, track_running_stats=True)\n",
       "    (2): ReLU()\n",
       "    (3): MaxPool2d(kernel_size=2, stride=2, padding=0, dilation=1, ceil_mode=False)\n",
       "  )\n",
       "  (fc1): Linear(in_features=5184, out_features=2000, bias=True)\n",
       "  (dropout): Dropout(p=0.5)\n",
       "  (fc2): Linear(in_features=2000, out_features=10, bias=True)\n",
       ")"
      ]
     },
     "execution_count": 30,
     "metadata": {},
     "output_type": "execute_result"
    }
   ],
   "source": [
    "model.to(device)"
   ]
  },
  {
   "cell_type": "code",
   "execution_count": 31,
   "metadata": {},
   "outputs": [],
   "source": [
    "learning_rate = 0.001\n",
    "\n",
    "criterion = nn.NLLLoss()\n",
    "\n",
    "optimizer = torch.optim.Adam(model.parameters(), \n",
    "                             lr=learning_rate)"
   ]
  },
  {
   "cell_type": "markdown",
   "metadata": {},
   "source": [
    "#### Training the model and predicting accuracy"
   ]
  },
  {
   "cell_type": "code",
   "execution_count": 35,
   "metadata": {},
   "outputs": [
    {
     "name": "stdout",
     "output_type": "stream",
     "text": [
      "Epoch [1/10], Step [2000/6250], Loss: 0.8876\n",
      "Epoch [1/10], Step [4000/6250], Loss: 2.0816\n",
      "Epoch [1/10], Step [6000/6250], Loss: 1.2342\n",
      "Epoch [2/10], Step [2000/6250], Loss: 1.3974\n",
      "Epoch [2/10], Step [4000/6250], Loss: 1.3014\n",
      "Epoch [2/10], Step [6000/6250], Loss: 1.0908\n",
      "Epoch [3/10], Step [2000/6250], Loss: 1.8436\n",
      "Epoch [3/10], Step [4000/6250], Loss: 0.5923\n",
      "Epoch [3/10], Step [6000/6250], Loss: 0.3362\n",
      "Epoch [4/10], Step [2000/6250], Loss: 0.7027\n",
      "Epoch [4/10], Step [4000/6250], Loss: 0.8130\n",
      "Epoch [4/10], Step [6000/6250], Loss: 1.9394\n",
      "Epoch [5/10], Step [2000/6250], Loss: 0.7684\n",
      "Epoch [5/10], Step [4000/6250], Loss: 0.1788\n",
      "Epoch [5/10], Step [6000/6250], Loss: 1.9984\n",
      "Epoch [6/10], Step [2000/6250], Loss: 1.3124\n",
      "Epoch [6/10], Step [4000/6250], Loss: 0.8331\n",
      "Epoch [6/10], Step [6000/6250], Loss: 1.3905\n",
      "Epoch [7/10], Step [2000/6250], Loss: 0.7378\n",
      "Epoch [7/10], Step [4000/6250], Loss: 1.2740\n",
      "Epoch [7/10], Step [6000/6250], Loss: 0.8338\n",
      "Epoch [8/10], Step [2000/6250], Loss: 0.6240\n",
      "Epoch [8/10], Step [4000/6250], Loss: 0.8987\n",
      "Epoch [8/10], Step [6000/6250], Loss: 1.8950\n",
      "Epoch [9/10], Step [2000/6250], Loss: 0.4071\n",
      "Epoch [9/10], Step [4000/6250], Loss: 1.9030\n",
      "Epoch [9/10], Step [6000/6250], Loss: 1.7692\n",
      "Epoch [10/10], Step [2000/6250], Loss: 1.4903\n",
      "Epoch [10/10], Step [4000/6250], Loss: 1.4938\n",
      "Epoch [10/10], Step [6000/6250], Loss: 0.7078\n",
      "Finished Training\n"
     ]
    }
   ],
   "source": [
    "total_step = len(trainloader)\n",
    "num_epochs = 10\n",
    "loss_values = list()\n",
    "\n",
    "for epoch in range(num_epochs):\n",
    "    \n",
    "    for i, (images, labels) in enumerate(trainloader):\n",
    "        \n",
    "        images, labels = images.to(device), labels.to(device)\n",
    "        outputs = model(images)\n",
    "        loss = criterion(outputs, labels)\n",
    "        \n",
    "        optimizer.zero_grad()\n",
    "        loss.backward()\n",
    "        optimizer.step()\n",
    "        \n",
    "        if (i+1) % 2000 == 0:\n",
    "            print ('Epoch [{}/{}], Step [{}/{}], Loss: {:.4f}' \n",
    "                   .format(epoch+1, num_epochs, i+1, total_step, loss.item()))\n",
    "            \n",
    "            loss_values.append(loss.item())\n",
    "            \n",
    "print('Finished Training')    \n"
   ]
  },
  {
   "cell_type": "markdown",
   "metadata": {},
   "source": [
    "### Model Evaluation"
   ]
  },
  {
   "cell_type": "code",
   "execution_count": 36,
   "metadata": {},
   "outputs": [
    {
     "data": {
      "text/plain": [
       "30"
      ]
     },
     "execution_count": 36,
     "metadata": {},
     "output_type": "execute_result"
    }
   ],
   "source": [
    "len(loss_values)"
   ]
  },
  {
   "cell_type": "code",
   "execution_count": 37,
   "metadata": {},
   "outputs": [
    {
     "data": {
      "text/plain": [
       "Text(0, 0.5, 'Loss')"
      ]
     },
     "execution_count": 37,
     "metadata": {},
     "output_type": "execute_result"
    },
    {
     "data": {
      "image/png": "[encoded data removed]",
      "text/plain": [
       "<Figure size 864x720 with 1 Axes>"
      ]
     },
     "metadata": {
      "needs_background": "light"
     },
     "output_type": "display_data"
    }
   ],
   "source": [
    "x = (range(1, 31))\n",
    "\n",
    "plt.figure(figsize = (12, 10))\n",
    "plt.plot(x, loss_values)\n",
    "plt.xlabel('Step')\n",
    "plt.ylabel('Loss')"
   ]
  },
  {
   "cell_type": "code",
   "execution_count": 38,
   "metadata": {},
   "outputs": [
    {
     "name": "stdout",
     "output_type": "stream",
     "text": [
      "Accuracy of the model on the 10000 test images: 66.97%\n"
     ]
    }
   ],
   "source": [
    "model.eval()  \n",
    "\n",
    "with torch.no_grad():\n",
    "    correct = 0\n",
    "    total = 0\n",
    "    for images, labels in testloader:\n",
    "\n",
    "        images, labels = images.to(device), labels.to(device)\n",
    "        outputs = model(images)\n",
    "        _, predicted = torch.max(outputs.data, 1)\n",
    "        total += labels.size(0)\n",
    "        correct += (predicted == labels).sum().item()\n",
    "\n",
    "    print('Accuracy of the model on the 10000 test images: {}%'\\\n",
    "          .format(100 * correct / total))\n"
   ]
  },
  {
   "cell_type": "markdown",
   "metadata": {},
   "source": [
    "#### Sample Prediction"
   ]
  },
  {
   "cell_type": "code",
   "execution_count": 39,
   "metadata": {},
   "outputs": [],
   "source": [
    "sample_img, _ = testset[23]"
   ]
  },
  {
   "cell_type": "code",
   "execution_count": 40,
   "metadata": {},
   "outputs": [
    {
     "data": {
      "text/plain": [
       "torch.Size([3, 128, 128])"
      ]
     },
     "execution_count": 40,
     "metadata": {},
     "output_type": "execute_result"
    }
   ],
   "source": [
    "sample_img.shape"
   ]
  },
  {
   "cell_type": "code",
   "execution_count": 41,
   "metadata": {},
   "outputs": [
    {
     "data": {
      "text/plain": [
       "torch.Size([128, 128, 3])"
      ]
     },
     "execution_count": 41,
     "metadata": {},
     "output_type": "execute_result"
    }
   ],
   "source": [
    "sample_img = np.transpose(sample_img, (1, 2, 0))\n",
    "sample_img.shape"
   ]
  },
  {
   "cell_type": "code",
   "execution_count": 42,
   "metadata": {},
   "outputs": [],
   "source": [
    "m, M = sample_img.min(), sample_img.max()\n",
    "\n",
    "sample_img = (1/(abs(m) * M)) * sample_img + 0.5 "
   ]
  },
  {
   "cell_type": "code",
   "execution_count": 43,
   "metadata": {},
   "outputs": [
    {
     "name": "stderr",
     "output_type": "stream",
     "text": [
      "Clipping input data to the valid range for imshow with RGB data ([0..1] for floats or [0..255] for integers).\n"
     ]
    },
    {
     "data": {
      "text/plain": [
       "<matplotlib.image.AxesImage at 0x7f621c401ac8>"
      ]
     },
     "execution_count": 43,
     "metadata": {},
     "output_type": "execute_result"
    },
    {
     "data": {
      "image/png": "[encoded data removed]",
      "text/plain": [
       "<Figure size 432x288 with 1 Axes>"
      ]
     },
     "metadata": {
      "needs_background": "light"
     },
     "output_type": "display_data"
    }
   ],
   "source": [
    "plt.imshow(sample_img)"
   ]
  },
  {
   "cell_type": "code",
   "execution_count": 44,
   "metadata": {},
   "outputs": [],
   "source": [
    "test_img, test_label = testset[23]\n",
    "\n",
    "test_img = test_img.reshape(-1, 3, 128, 128)"
   ]
  },
  {
   "cell_type": "code",
   "execution_count": 45,
   "metadata": {},
   "outputs": [],
   "source": [
    "out_predict = model(test_img.to(device))\n",
    "_,predicted = torch.max(out_predict.data, 1)"
   ]
  },
  {
   "cell_type": "code",
   "execution_count": 46,
   "metadata": {},
   "outputs": [
    {
     "name": "stdout",
     "output_type": "stream",
     "text": [
      "Actual Label :  9\n",
      "Predicted Label :  9\n"
     ]
    }
   ],
   "source": [
    "print(\"Actual Label : \", test_label)\n",
    "print(\"Predicted Label : \", predicted.item())"
   ]
  },
  {
   "cell_type": "code",
   "execution_count": null,
   "metadata": {},
   "outputs": [],
   "source": []
  },
  {
   "cell_type": "code",
   "execution_count": null,
   "metadata": {},
   "outputs": [],
   "source": []
  }
 ],
 "metadata": {
  "kernelspec": {
   "display_name": "Python 3",
   "language": "python",
   "name": "python3"
  },
  "language_info": {
   "codemirror_mode": {
    "name": "ipython",
    "version": 3
   },
   "file_extension": ".py",
   "mimetype": "text/x-python",
   "name": "python",
   "nbconvert_exporter": "python",
   "pygments_lexer": "ipython3",
   "version": "3.6.4"
  }
 },
 "nbformat": 4,
 "nbformat_minor": 2
}
