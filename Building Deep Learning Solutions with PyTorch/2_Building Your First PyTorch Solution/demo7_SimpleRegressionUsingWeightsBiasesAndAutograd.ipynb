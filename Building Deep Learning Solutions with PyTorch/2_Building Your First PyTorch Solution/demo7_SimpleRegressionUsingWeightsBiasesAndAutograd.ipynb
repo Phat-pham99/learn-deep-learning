{
  "nbformat": 4,
  "nbformat_minor": 0,
  "metadata": {
    "kernelspec": {
      "display_name": "Python 3",
      "language": "python",
      "name": "python3"
    },
    "language_info": {
      "codemirror_mode": {
        "name": "ipython",
        "version": 3
      },
      "file_extension": ".py",
      "mimetype": "text/x-python",
      "name": "python",
      "nbconvert_exporter": "python",
      "pygments_lexer": "ipython3",
      "version": "3.7.1"
    },
    "colab": {
      "name": "demo7-SimpleRegressionUsingWeightsBiasesAndAutograd.ipynb",
      "provenance": [],
      "include_colab_link": true
    },
    "accelerator": "GPU"
  },
  "cells": [
    {
      "cell_type": "markdown",
      "metadata": {
        "id": "view-in-github",
        "colab_type": "text"
      },
      "source": [
        "<a href=\"https://colab.research.google.com/github/YonDraco/learn-deep-learning/blob/main/demo7_SimpleRegressionUsingWeightsBiasesAndAutograd.ipynb\" target=\"_parent\"><img src=\"https://colab.research.google.com/assets/colab-badge.svg\" alt=\"Open In Colab\"/></a>"
      ]
    },
    {
      "cell_type": "code",
      "metadata": {
        "id": "ljBxRAJmivXK"
      },
      "source": [
        "import numpy as np\n",
        "import matplotlib.pyplot as plt"
      ],
      "execution_count": 1,
      "outputs": []
    },
    {
      "cell_type": "markdown",
      "metadata": {
        "id": "0NaLTi-AivXU"
      },
      "source": [
        "#### Creating Dataset\n",
        "A simple dataset using numpy arrays"
      ]
    },
    {
      "cell_type": "code",
      "metadata": {
        "id": "I1FBdJH5ivXV"
      },
      "source": [
        "x_train = np.array ([[4.7], [2.4], [7.5], [7.1], [4.3], \n",
        "                     [7.8], [8.9], [5.2], [4.59], [2.1], \n",
        "                     [8], [5], [7.5], [5], [4],\n",
        "                     [8], [5.2], [4.9], [3], [4.7], \n",
        "                     [4], [4.8], [3.5], [2.1], [4.1]],\n",
        "                    dtype = np.float32)\n",
        "\n",
        "y_train = np.array ([[2.6], [1.6], [3.09], [2.4], [2.4], \n",
        "                     [3.3], [2.6], [1.96], [3.13], [1.76], \n",
        "                     [3.2], [2.1], [1.6], [2.5], [2.2], \n",
        "                     [2.75], [2.4], [1.8], [1], [2], \n",
        "                     [1.6], [2.4], [2.6], [1.5], [3.1]], \n",
        "                    dtype = np.float32)"
      ],
      "execution_count": 2,
      "outputs": []
    },
    {
      "cell_type": "markdown",
      "metadata": {
        "id": "sBeb-meRivXW"
      },
      "source": [
        "#### View the data\n",
        "There seems to be some relationship which can be plotted between x_train and y_train. A regression line can be drawn to represent the relationship"
      ]
    },
    {
      "cell_type": "code",
      "metadata": {
        "colab": {
          "base_uri": "https://localhost:8080/",
          "height": 483
        },
        "id": "mX39l7JNivXW",
        "outputId": "c79a1751-ade0-47d0-e701-2950bbfef54a"
      },
      "source": [
        "plt.figure(figsize=(8,8))\n",
        "\n",
        "plt.scatter(x_train, y_train, c='green', s=250, label='Original data')\n",
        "\n",
        "plt.show()"
      ],
      "execution_count": 3,
      "outputs": [
        {
          "output_type": "display_data",
          "data": {
            "image/png": "[encoded data removed]",
            "text/plain": [
              "<Figure size 576x576 with 1 Axes>"
            ]
          },
          "metadata": {
            "tags": [],
            "needs_background": "light"
          }
        }
      ]
    },
    {
      "cell_type": "code",
      "metadata": {
        "id": "9hBoCxKAivXX"
      },
      "source": [
        "import torch "
      ],
      "execution_count": 4,
      "outputs": []
    },
    {
      "cell_type": "markdown",
      "metadata": {
        "id": "4GQsYkT3ivXY"
      },
      "source": [
        "#### Converting data to pytorch tensors"
      ]
    },
    {
      "cell_type": "code",
      "metadata": {
        "colab": {
          "base_uri": "https://localhost:8080/"
        },
        "id": "MCnZO-g4ivXY",
        "outputId": "145a1796-dcc1-4cd7-83bb-2f060062e333"
      },
      "source": [
        "X_train = torch.from_numpy(x_train) \n",
        "Y_train = torch.from_numpy(y_train)\n",
        "\n",
        "print('requires_grad for X_train: ', X_train.requires_grad)\n",
        "print('requires_grad for Y_train: ', Y_train.requires_grad)"
      ],
      "execution_count": 5,
      "outputs": [
        {
          "output_type": "stream",
          "text": [
            "requires_grad for X_train:  False\n",
            "requires_grad for Y_train:  False\n"
          ],
          "name": "stdout"
        }
      ]
    },
    {
      "cell_type": "markdown",
      "metadata": {
        "id": "Y244AsGxivXY"
      },
      "source": [
        "#### Set the details for our neural network\n",
        "Input, output and hidden layer sizes plus the learning rate"
      ]
    },
    {
      "cell_type": "code",
      "metadata": {
        "id": "3Ri0_63DivXZ"
      },
      "source": [
        "input_size = 1 \n",
        "hidden_size = 1\n",
        "output_size = 1 \n",
        "learning_rate = 0.001"
      ],
      "execution_count": null,
      "outputs": []
    },
    {
      "cell_type": "markdown",
      "metadata": {
        "id": "wdJzqgm6ivXZ"
      },
      "source": [
        "#### Create random Tensors for weights and biases.<br>\n",
        "Setting requires_grad=True indicates that we want to compute gradients with respect to these Tensors during the backward pass"
      ]
    },
    {
      "cell_type": "code",
      "metadata": {
        "id": "oEX216zWivXZ",
        "outputId": "1b660fa5-6396-4544-81b9-63b4129c8043"
      },
      "source": [
        "w1 = torch.rand(input_size, \n",
        "                hidden_size, \n",
        "                \n",
        "                requires_grad=True)\n",
        "w1.shape"
      ],
      "execution_count": null,
      "outputs": [
        {
          "output_type": "execute_result",
          "data": {
            "text/plain": [
              "torch.Size([1, 1])"
            ]
          },
          "metadata": {
            "tags": []
          },
          "execution_count": 135
        }
      ]
    },
    {
      "cell_type": "code",
      "metadata": {
        "id": "8lxbtwuJivXa",
        "outputId": "0886d627-b0b0-4330-a99f-401befb44667"
      },
      "source": [
        "b1 = torch.rand(hidden_size, \n",
        "                output_size, \n",
        "                \n",
        "                requires_grad=True)\n",
        "b1.shape"
      ],
      "execution_count": null,
      "outputs": [
        {
          "output_type": "execute_result",
          "data": {
            "text/plain": [
              "torch.Size([1, 1])"
            ]
          },
          "metadata": {
            "tags": []
          },
          "execution_count": 136
        }
      ]
    },
    {
      "cell_type": "code",
      "metadata": {
        "id": "KoiQWAMTivXa",
        "outputId": "e50a981b-e96b-45d2-d184-0d9d56c41d66"
      },
      "source": [
        "w1"
      ],
      "execution_count": null,
      "outputs": [
        {
          "output_type": "execute_result",
          "data": {
            "text/plain": [
              "tensor([[0.7303]], requires_grad=True)"
            ]
          },
          "metadata": {
            "tags": []
          },
          "execution_count": 137
        }
      ]
    },
    {
      "cell_type": "code",
      "metadata": {
        "id": "b4JkY7Q6ivXb",
        "outputId": "df9503ff-eba3-4347-995b-6285c1d0fd50"
      },
      "source": [
        "b1"
      ],
      "execution_count": null,
      "outputs": [
        {
          "output_type": "execute_result",
          "data": {
            "text/plain": [
              "tensor([[0.2447]], requires_grad=True)"
            ]
          },
          "metadata": {
            "tags": []
          },
          "execution_count": 138
        }
      ]
    },
    {
      "cell_type": "markdown",
      "metadata": {
        "id": "0pzTaaCQivXb"
      },
      "source": [
        "## Training\n",
        "\n",
        "#### Foward Pass:\n",
        "* Predicting Y with input data X\n",
        "* we use y = ax+b  for predictions as it is a linear regression problem\n",
        "\n",
        "#### Finding Loss:\n",
        "* Finding difference between Y_train and Y_pred by squaring the difference and then summing out, similar to nn.MSELoss \n",
        "\n",
        "\n",
        "#### For the loss_backward() function call:\n",
        "* backward pass will compute the gradient of loss with respect to all Tensors with requires_grad=True. \n",
        "* After this call w1.grad and b1.grad will be Tensors holding the gradient of the loss with respect to w1 and b1 respectively.\n",
        "\n",
        "#### Manually updating the weights\n",
        "* weights have requires_grad=True, but we don't need to track this in autograd. So will wrap it in torch.no_grad\n",
        "* reducing weight with multiple of learning rate and gradient\n",
        "* manually zero the weight gradients after updating weights"
      ]
    },
    {
      "cell_type": "code",
      "metadata": {
        "id": "SE1xanarivXb",
        "outputId": "f09d0114-9c68-423c-f954-88b22a52663e"
      },
      "source": [
        "for iter in range(1, 4001):\n",
        "    \n",
        "    y_pred = X_train.mm(w1).clamp(min=0).add(b1)\n",
        "    \n",
        "    loss = (y_pred - Y_train).pow(2).sum() \n",
        "    \n",
        "    if iter % 100 ==0:\n",
        "        print(iter, loss.item())\n",
        "        \n",
        "    loss.backward()\n",
        "    \n",
        "    with torch.no_grad():\n",
        "        w1 -= learning_rate * w1.grad\n",
        "        b1 -= learning_rate * b1.grad\n",
        "        w1.grad.zero_()\n",
        "        b1.grad.zero_()"
      ],
      "execution_count": null,
      "outputs": [
        {
          "output_type": "stream",
          "text": [
            "100 7.51888370513916\n",
            "200 6.548548221588135\n",
            "300 6.251237869262695\n",
            "400 6.160140037536621\n",
            "500 6.132226943969727\n",
            "600 6.12367582321167\n",
            "700 6.1210551261901855\n",
            "800 6.1202521324157715\n",
            "900 6.1200056076049805\n",
            "1000 6.119929313659668\n",
            "1100 6.119907855987549\n",
            "1200 6.119900226593018\n",
            "1300 6.119897842407227\n",
            "1400 6.11989688873291\n",
            "1500 6.119896411895752\n",
            "1600 6.119896411895752\n",
            "1700 6.11989688873291\n",
            "1800 6.119897365570068\n",
            "1900 6.119897365570068\n",
            "2000 6.1198954582214355\n",
            "2100 6.1198954582214355\n",
            "2200 6.1198954582214355\n",
            "2300 6.1198954582214355\n",
            "2400 6.1198954582214355\n",
            "2500 6.1198954582214355\n",
            "2600 6.1198954582214355\n",
            "2700 6.1198954582214355\n",
            "2800 6.1198954582214355\n",
            "2900 6.1198954582214355\n",
            "3000 6.1198954582214355\n",
            "3100 6.1198954582214355\n",
            "3200 6.1198954582214355\n",
            "3300 6.1198954582214355\n",
            "3400 6.1198954582214355\n",
            "3500 6.1198954582214355\n",
            "3600 6.1198954582214355\n",
            "3700 6.1198954582214355\n",
            "3800 6.1198954582214355\n",
            "3900 6.1198954582214355\n",
            "4000 6.1198954582214355\n"
          ],
          "name": "stdout"
        }
      ]
    },
    {
      "cell_type": "code",
      "metadata": {
        "id": "-PAJ2abUivXd",
        "outputId": "f8e65799-97c6-4071-d694-a6ab32fbafbe"
      },
      "source": [
        "print ('w1: ', w1)\n",
        "print ('b1: ', b1)"
      ],
      "execution_count": null,
      "outputs": [
        {
          "output_type": "stream",
          "text": [
            "w1:  tensor([[0.1751]], requires_grad=True)\n",
            "b1:  tensor([[1.4045]], requires_grad=True)\n"
          ],
          "name": "stdout"
        }
      ]
    },
    {
      "cell_type": "markdown",
      "metadata": {
        "id": "dSeVtpyWivXd"
      },
      "source": [
        "#### Checking the output"
      ]
    },
    {
      "cell_type": "markdown",
      "metadata": {
        "id": "5YABVsxiivXe"
      },
      "source": [
        "Converting data into a tensor"
      ]
    },
    {
      "cell_type": "code",
      "metadata": {
        "id": "nAPSKSj9ivXe",
        "outputId": "e8913556-22e6-4a9a-fa90-70c245b93ef5"
      },
      "source": [
        "x_train_tensor = torch.from_numpy(x_train)\n",
        "x_train_tensor"
      ],
      "execution_count": null,
      "outputs": [
        {
          "output_type": "execute_result",
          "data": {
            "text/plain": [
              "tensor([[4.7000],\n",
              "        [2.4000],\n",
              "        [7.5000],\n",
              "        [7.1000],\n",
              "        [4.3000],\n",
              "        [7.8000],\n",
              "        [8.9000],\n",
              "        [5.2000],\n",
              "        [4.5900],\n",
              "        [2.1000],\n",
              "        [8.0000],\n",
              "        [5.0000],\n",
              "        [7.5000],\n",
              "        [5.0000],\n",
              "        [4.0000],\n",
              "        [8.0000],\n",
              "        [5.2000],\n",
              "        [4.9000],\n",
              "        [3.0000],\n",
              "        [4.7000],\n",
              "        [4.0000],\n",
              "        [4.8000],\n",
              "        [3.5000],\n",
              "        [2.1000],\n",
              "        [4.1000]])"
            ]
          },
          "metadata": {
            "tags": []
          },
          "execution_count": 141
        }
      ]
    },
    {
      "cell_type": "markdown",
      "metadata": {
        "id": "BOOL82SpivXe"
      },
      "source": [
        "#### Get the predicted values using the weights \n",
        "Using final weights and biases calculated from our training in order to get the predicted values"
      ]
    },
    {
      "cell_type": "code",
      "metadata": {
        "id": "VTHDPLbKivXf",
        "outputId": "7390db89-e8c4-471e-9c98-a83b501a1630"
      },
      "source": [
        "predicted_in_tensor = x_train_tensor.mm(w1).clamp(min=0).add(b1)\n",
        "predicted_in_tensor"
      ],
      "execution_count": null,
      "outputs": [
        {
          "output_type": "execute_result",
          "data": {
            "text/plain": [
              "tensor([[2.2273],\n",
              "        [1.8247],\n",
              "        [2.7175],\n",
              "        [2.6475],\n",
              "        [2.1573],\n",
              "        [2.7701],\n",
              "        [2.9626],\n",
              "        [2.3149],\n",
              "        [2.2081],\n",
              "        [1.7721],\n",
              "        [2.8051],\n",
              "        [2.2799],\n",
              "        [2.7175],\n",
              "        [2.2799],\n",
              "        [2.1048],\n",
              "        [2.8051],\n",
              "        [2.3149],\n",
              "        [2.2624],\n",
              "        [1.9297],\n",
              "        [2.2273],\n",
              "        [2.1048],\n",
              "        [2.2448],\n",
              "        [2.0172],\n",
              "        [1.7721],\n",
              "        [2.1223]], grad_fn=<AddBackward0>)"
            ]
          },
          "metadata": {
            "tags": []
          },
          "execution_count": 142
        }
      ]
    },
    {
      "cell_type": "markdown",
      "metadata": {
        "id": "7GNvvPDlivXf"
      },
      "source": [
        "#### Convert the prediction to a numpy array\n",
        "This will be used to plot the regression line in a plot"
      ]
    },
    {
      "cell_type": "code",
      "metadata": {
        "id": "mk_KqUNTivXf",
        "outputId": "76098edb-8cda-45ba-9216-c4ff929d5248"
      },
      "source": [
        "predicted = predicted_in_tensor.detach().numpy()\n",
        "predicted"
      ],
      "execution_count": null,
      "outputs": [
        {
          "output_type": "execute_result",
          "data": {
            "text/plain": [
              "array([[2.227337 ],\n",
              "       [1.8246689],\n",
              "       [2.7175417],\n",
              "       [2.6475124],\n",
              "       [2.1573079],\n",
              "       [2.7700639],\n",
              "       [2.962644 ],\n",
              "       [2.3148737],\n",
              "       [2.208079 ],\n",
              "       [1.7721469],\n",
              "       [2.8050785],\n",
              "       [2.279859 ],\n",
              "       [2.7175417],\n",
              "       [2.279859 ],\n",
              "       [2.104786 ],\n",
              "       [2.8050785],\n",
              "       [2.3148737],\n",
              "       [2.2623518],\n",
              "       [1.9297128],\n",
              "       [2.227337 ],\n",
              "       [2.104786 ],\n",
              "       [2.2448444],\n",
              "       [2.0172493],\n",
              "       [1.7721469],\n",
              "       [2.1222932]], dtype=float32)"
            ]
          },
          "metadata": {
            "tags": []
          },
          "execution_count": 143
        }
      ]
    },
    {
      "cell_type": "markdown",
      "metadata": {
        "id": "vU7tsqYOivXg"
      },
      "source": [
        "#### Plotting\n",
        "Our training has produced a rather accurate regression line"
      ]
    },
    {
      "cell_type": "code",
      "metadata": {
        "id": "6egUMi8hivXg",
        "outputId": "3f3cfe7a-0252-48f0-8455-e202286ce0b1"
      },
      "source": [
        "plt.figure(figsize=(8, 8))\n",
        "\n",
        "plt.scatter(x_train, y_train, c='green', s=250, label='Original data')\n",
        "\n",
        "plt.plot(x_train, predicted, label = 'Fitted line')\n",
        "\n",
        "plt.legend() \n",
        "\n",
        "plt.show()"
      ],
      "execution_count": null,
      "outputs": [
        {
          "output_type": "display_data",
          "data": {
            "image/png": "[encoded data removed]",
            "text/plain": [
              "<Figure size 576x576 with 1 Axes>"
            ]
          },
          "metadata": {
            "tags": [],
            "needs_background": "light"
          }
        }
      ]
    },
    {
      "cell_type": "markdown",
      "metadata": {
        "id": "FRkosCLWivXg"
      },
      "source": [
        "#### We check the weights and biases with sklearn linear regression to see if they match the weights and biases calculated by neural network"
      ]
    },
    {
      "cell_type": "code",
      "metadata": {
        "id": "GEbF6UPeivXh"
      },
      "source": [
        "import sklearn\n",
        "from sklearn.linear_model import LinearRegression"
      ],
      "execution_count": null,
      "outputs": []
    },
    {
      "cell_type": "code",
      "metadata": {
        "id": "uG4leqxZivXh"
      },
      "source": [
        "reg = LinearRegression().fit(x_train, y_train)"
      ],
      "execution_count": null,
      "outputs": []
    },
    {
      "cell_type": "code",
      "metadata": {
        "id": "yRAGftAUivXh",
        "outputId": "b3c10db4-e68e-4348-d65e-0faee5dc11e0"
      },
      "source": [
        "print(\"w1 with sklearn is :\", reg.coef_)"
      ],
      "execution_count": null,
      "outputs": [
        {
          "output_type": "stream",
          "text": [
            "w1 with sklearn is : [[0.17507163]]\n"
          ],
          "name": "stdout"
        }
      ]
    },
    {
      "cell_type": "code",
      "metadata": {
        "id": "Lk3QSXvDivXh",
        "outputId": "036ea6ce-cacb-4837-9b77-c0d087eef381"
      },
      "source": [
        "print(\"b1 with sklearn is :\", reg.intercept_) "
      ],
      "execution_count": null,
      "outputs": [
        {
          "output_type": "stream",
          "text": [
            "b1 with sklearn is : [1.4045022]\n"
          ],
          "name": "stdout"
        }
      ]
    },
    {
      "cell_type": "code",
      "metadata": {
        "id": "deAyozxUivXi",
        "outputId": "e681f8ad-9606-4398-90b5-1ed6d31e73fb"
      },
      "source": [
        "predicted = reg.predict(x_train)\n",
        "\n",
        "predicted"
      ],
      "execution_count": null,
      "outputs": [
        {
          "output_type": "execute_result",
          "data": {
            "text/plain": [
              "array([[2.2273388],\n",
              "       [1.8246741],\n",
              "       [2.7175393],\n",
              "       [2.6475105],\n",
              "       [2.1573102],\n",
              "       [2.770061 ],\n",
              "       [2.9626396],\n",
              "       [2.3148746],\n",
              "       [2.208081 ],\n",
              "       [1.7721525],\n",
              "       [2.8050752],\n",
              "       [2.2798603],\n",
              "       [2.7175393],\n",
              "       [2.2798603],\n",
              "       [2.1047888],\n",
              "       [2.8050752],\n",
              "       [2.3148746],\n",
              "       [2.2623532],\n",
              "       [1.9297171],\n",
              "       [2.2273388],\n",
              "       [2.1047888],\n",
              "       [2.2448459],\n",
              "       [2.017253 ],\n",
              "       [1.7721525],\n",
              "       [2.1222959]], dtype=float32)"
            ]
          },
          "metadata": {
            "tags": []
          },
          "execution_count": 149
        }
      ]
    },
    {
      "cell_type": "code",
      "metadata": {
        "id": "p2pM-034ivXi",
        "outputId": "8b67468d-acdf-49bd-a322-d02ae9b3fcb7"
      },
      "source": [
        "plt.figure(figsize=(8, 8))\n",
        "\n",
        "plt.scatter(x_train, y_train, c='green', s=250, label='Original data')\n",
        "\n",
        "plt.plot(x_train, predicted, label = 'Fitted line')\n",
        "\n",
        "plt.legend() \n",
        "\n",
        "plt.show()"
      ],
      "execution_count": null,
      "outputs": [
        {
          "output_type": "display_data",
          "data": {
            "image/png": "[encoded data removed]",
            "text/plain": [
              "<Figure size 576x576 with 1 Axes>"
            ]
          },
          "metadata": {
            "tags": [],
            "needs_background": "light"
          }
        }
      ]
    },
    {
      "cell_type": "code",
      "metadata": {
        "id": "ceblP4fmivXm"
      },
      "source": [
        ""
      ],
      "execution_count": null,
      "outputs": []
    },
    {
      "cell_type": "code",
      "metadata": {
        "id": "gAXOXEkBivXm"
      },
      "source": [
        ""
      ],
      "execution_count": null,
      "outputs": []
    },
    {
      "cell_type": "code",
      "metadata": {
        "id": "2FVwFsSZivXm"
      },
      "source": [
        ""
      ],
      "execution_count": null,
      "outputs": []
    }
  ]
}