{
  "nbformat": 4,
  "nbformat_minor": 0,
  "metadata": {
    "kernelspec": {
      "display_name": "Python 3",
      "language": "python",
      "name": "python3"
    },
    "language_info": {
      "codemirror_mode": {
        "name": "ipython",
        "version": 3
      },
      "file_extension": ".py",
      "mimetype": "text/x-python",
      "name": "python",
      "nbconvert_exporter": "python",
      "pygments_lexer": "ipython3",
      "version": "3.7.1"
    },
    "colab": {
      "name": "demo2-PytorchTensors.ipynb",
      "provenance": [],
      "collapsed_sections": [
        "b2R4SQiQMeOB",
        "msMclyD1MeOC",
        "ny41QqG_MeOD",
        "qzqSJbWnMeOE",
        "gu0kKE6yMeOF",
        "_nPz6bBVMeOF",
        "h-66X0yEMeOG",
        "Z3I82UMwMeOH",
        "EAnJ_JP9MeOI",
        "QO2jLb6mMeOI",
        "Hw_1_b92MeOI",
        "87ySkMB1MeOJ",
        "cnQQxnPAMeOJ",
        "Sa7uBrIfMeOK",
        "Px7_KkZGMeOK"
      ],
      "include_colab_link": true
    }
  },
  "cells": [
    {
      "cell_type": "markdown",
      "metadata": {
        "id": "view-in-github",
        "colab_type": "text"
      },
      "source": [
        "<a href=\"https://colab.research.google.com/github/YonDraco/learn-deep-learning/blob/main/BuildingDLSolutionsWithPyTorch/1_Foundations%20of%20PyTorch/demo2_PytorchTensors.ipynb\" target=\"_parent\"><img src=\"https://colab.research.google.com/assets/colab-badge.svg\" alt=\"Open In Colab\"/></a>"
      ]
    },
    {
      "cell_type": "code",
      "metadata": {
        "colab": {
          "base_uri": "https://localhost:8080/"
        },
        "id": "4L3tQNZWMh7f",
        "outputId": "69e9e3b0-189e-41b5-9fc6-2151d2180e1f"
      },
      "source": [
        "import torch\n",
        "print(torch.__version__)"
      ],
      "execution_count": 1,
      "outputs": [
        {
          "output_type": "stream",
          "text": [
            "1.9.0+cu102\n"
          ],
          "name": "stdout"
        }
      ]
    },
    {
      "cell_type": "markdown",
      "metadata": {
        "id": "9EQQV3guMeNp"
      },
      "source": [
        "#### Get the current default floating point torch.dtype"
      ]
    },
    {
      "cell_type": "code",
      "metadata": {
        "colab": {
          "base_uri": "https://localhost:8080/"
        },
        "id": "5onS36mPMzLt",
        "outputId": "00b8711e-dc0b-4e6e-badd-96f5af00f3be"
      },
      "source": [
        "torch.get_default_dtype()"
      ],
      "execution_count": 2,
      "outputs": [
        {
          "output_type": "execute_result",
          "data": {
            "text/plain": [
              "torch.float32"
            ]
          },
          "metadata": {
            "tags": []
          },
          "execution_count": 2
        }
      ]
    },
    {
      "cell_type": "markdown",
      "metadata": {
        "id": "b1T7CW4wMeNs"
      },
      "source": [
        "#### default dtype for a tensor can only be a float type"
      ]
    },
    {
      "cell_type": "markdown",
      "metadata": {
        "id": "DtPUiyKwMeNv"
      },
      "source": [
        "#### The default floating point dtype is initially torch.float32\n",
        "#### Set the default floating point to torch.float64"
      ]
    },
    {
      "cell_type": "code",
      "metadata": {
        "colab": {
          "base_uri": "https://localhost:8080/"
        },
        "id": "aEeCGTGJNud8",
        "outputId": "9340c4ee-0873-4188-d574-e75caea2e219"
      },
      "source": [
        "torch.get_default_dtype()"
      ],
      "execution_count": 5,
      "outputs": [
        {
          "output_type": "execute_result",
          "data": {
            "text/plain": [
              "torch.float32"
            ]
          },
          "metadata": {
            "tags": []
          },
          "execution_count": 5
        }
      ]
    },
    {
      "cell_type": "code",
      "metadata": {
        "id": "gKc7my7fN-tM"
      },
      "source": [
        "torch.set_default_dtype(torch.float64)"
      ],
      "execution_count": 6,
      "outputs": []
    },
    {
      "cell_type": "code",
      "metadata": {
        "colab": {
          "base_uri": "https://localhost:8080/"
        },
        "id": "lEho2GALOIk0",
        "outputId": "baa65336-2094-4758-d455-14aac5cd1456"
      },
      "source": [
        "torch.get_default_dtype()"
      ],
      "execution_count": 7,
      "outputs": [
        {
          "output_type": "execute_result",
          "data": {
            "text/plain": [
              "torch.float64"
            ]
          },
          "metadata": {
            "tags": []
          },
          "execution_count": 7
        }
      ]
    },
    {
      "cell_type": "markdown",
      "metadata": {
        "id": "xBNSNjKxMeNy"
      },
      "source": [
        "#### Creating Tensors"
      ]
    },
    {
      "cell_type": "markdown",
      "metadata": {
        "id": "CHRRV9ezMeNz"
      },
      "source": [
        "#### A Tensor initialized with a specific array, the torch tensor always creates a copy of the data"
      ]
    },
    {
      "cell_type": "code",
      "metadata": {
        "id": "8rbanFHZOLq8"
      },
      "source": [
        "tensor_arr = torch.Tensor([[1,2,3], [4,5,6]])"
      ],
      "execution_count": 15,
      "outputs": []
    },
    {
      "cell_type": "code",
      "metadata": {
        "colab": {
          "base_uri": "https://localhost:8080/"
        },
        "id": "__qryR78Oju-",
        "outputId": "5353d2da-f1ef-4301-ee34-cfca74271d1d"
      },
      "source": [
        "tensor_arr"
      ],
      "execution_count": 16,
      "outputs": [
        {
          "output_type": "execute_result",
          "data": {
            "text/plain": [
              "tensor([[1., 2., 3.],\n",
              "        [4., 5., 6.]])"
            ]
          },
          "metadata": {
            "tags": []
          },
          "execution_count": 16
        }
      ]
    },
    {
      "cell_type": "code",
      "metadata": {
        "colab": {
          "base_uri": "https://localhost:8080/"
        },
        "id": "Pe6x3i0HO4t9",
        "outputId": "867435c7-db8d-499b-ff6a-4b4434bf14de"
      },
      "source": [
        "torch.is_tensor(tensor_arr)"
      ],
      "execution_count": 17,
      "outputs": [
        {
          "output_type": "execute_result",
          "data": {
            "text/plain": [
              "True"
            ]
          },
          "metadata": {
            "tags": []
          },
          "execution_count": 17
        }
      ]
    },
    {
      "cell_type": "markdown",
      "metadata": {
        "id": "slS8mHeQMeN1"
      },
      "source": [
        "#### numel() returns the number of elements in a tensor"
      ]
    },
    {
      "cell_type": "code",
      "metadata": {
        "colab": {
          "base_uri": "https://localhost:8080/"
        },
        "id": "Oogv40SpPQpr",
        "outputId": "a3924760-856d-4cdc-a879-e7d2c89bf79a"
      },
      "source": [
        "# In ra so phan tu trong mot tensor\n",
        "torch.numel(tensor_arr)"
      ],
      "execution_count": 18,
      "outputs": [
        {
          "output_type": "execute_result",
          "data": {
            "text/plain": [
              "6"
            ]
          },
          "metadata": {
            "tags": []
          },
          "execution_count": 18
        }
      ]
    },
    {
      "cell_type": "markdown",
      "metadata": {
        "id": "SyYwiUsyMeN2"
      },
      "source": [
        "#### An un-initialized Tensor of shape 2X2 allocated space in memory"
      ]
    },
    {
      "cell_type": "code",
      "metadata": {
        "id": "duogbh4iMeN2"
      },
      "source": [
        "tensor_uninitialized = torch.Tensor(2, 2) "
      ],
      "execution_count": 19,
      "outputs": []
    },
    {
      "cell_type": "code",
      "metadata": {
        "colab": {
          "base_uri": "https://localhost:8080/"
        },
        "id": "Q-ADEoRAMeN3",
        "outputId": "cd5b5b41-157f-4c4b-eadb-24960ae04257"
      },
      "source": [
        "tensor_uninitialized"
      ],
      "execution_count": 20,
      "outputs": [
        {
          "output_type": "execute_result",
          "data": {
            "text/plain": [
              "tensor([[4.6827e-310, 2.1008e-312],\n",
              "        [9.7612e-313, 2.4827e-312]])"
            ]
          },
          "metadata": {
            "tags": []
          },
          "execution_count": 20
        }
      ]
    },
    {
      "cell_type": "markdown",
      "metadata": {
        "id": "g1TaCwgHMeN3"
      },
      "source": [
        "#### A tensor of size 2x2 initialized with random values"
      ]
    },
    {
      "cell_type": "code",
      "metadata": {
        "id": "Hzl2-K91MeN3"
      },
      "source": [
        "tensor_initialized = torch.rand(2, 2)"
      ],
      "execution_count": 21,
      "outputs": []
    },
    {
      "cell_type": "code",
      "metadata": {
        "colab": {
          "base_uri": "https://localhost:8080/"
        },
        "id": "oEVdjULoMeN3",
        "outputId": "c675db2a-b108-47ca-8d48-eae9a007fc2b"
      },
      "source": [
        "tensor_initialized"
      ],
      "execution_count": 22,
      "outputs": [
        {
          "output_type": "execute_result",
          "data": {
            "text/plain": [
              "tensor([[0.0476, 0.2072],\n",
              "        [0.8175, 0.4214]])"
            ]
          },
          "metadata": {
            "tags": []
          },
          "execution_count": 22
        }
      ]
    },
    {
      "cell_type": "markdown",
      "metadata": {
        "id": "JJstA1d_MeN4"
      },
      "source": [
        "#### Tensors can be set to have specific data types"
      ]
    },
    {
      "cell_type": "code",
      "metadata": {
        "colab": {
          "base_uri": "https://localhost:8080/"
        },
        "id": "W1jpZVILMeN4",
        "outputId": "5489ebde-d84d-498f-f656-94cfd5336d60"
      },
      "source": [
        "tensor_int = torch.tensor([5, 3]).type(torch.IntTensor) \n",
        "tensor_int"
      ],
      "execution_count": 23,
      "outputs": [
        {
          "output_type": "execute_result",
          "data": {
            "text/plain": [
              "tensor([5, 3], dtype=torch.int32)"
            ]
          },
          "metadata": {
            "tags": []
          },
          "execution_count": 23
        }
      ]
    },
    {
      "cell_type": "markdown",
      "metadata": {
        "id": "HGz80riCMeN5"
      },
      "source": [
        "#### A Tensor of type short"
      ]
    },
    {
      "cell_type": "code",
      "metadata": {
        "colab": {
          "base_uri": "https://localhost:8080/"
        },
        "id": "kIbsU6OPMeN5",
        "outputId": "51859efe-9913-40e8-c15c-c43d637f3aa9"
      },
      "source": [
        "tensor_short = torch.ShortTensor([1.0, 2.0, 3.0])   \n",
        "tensor_short"
      ],
      "execution_count": 24,
      "outputs": [
        {
          "output_type": "execute_result",
          "data": {
            "text/plain": [
              "tensor([1, 2, 3], dtype=torch.int16)"
            ]
          },
          "metadata": {
            "tags": []
          },
          "execution_count": 24
        }
      ]
    },
    {
      "cell_type": "markdown",
      "metadata": {
        "id": "4nt4pC9JMeN5"
      },
      "source": [
        "#### A Tensor of type float half (float16)"
      ]
    },
    {
      "cell_type": "code",
      "metadata": {
        "colab": {
          "base_uri": "https://localhost:8080/"
        },
        "id": "Xd_bvyK3MeN6",
        "outputId": "43fc906e-2979-4d35-9f6b-ae915cb56955"
      },
      "source": [
        "tensor_float = torch.tensor([1.0, 2.0, 3.0]).type(torch.half)\n",
        "tensor_float"
      ],
      "execution_count": 25,
      "outputs": [
        {
          "output_type": "execute_result",
          "data": {
            "text/plain": [
              "tensor([1., 2., 3.], dtype=torch.float16)"
            ]
          },
          "metadata": {
            "tags": []
          },
          "execution_count": 25
        }
      ]
    },
    {
      "cell_type": "markdown",
      "metadata": {
        "id": "TOPrYnKJMeN6"
      },
      "source": [
        "#### A tensor filled with a specific values\n"
      ]
    },
    {
      "cell_type": "code",
      "metadata": {
        "colab": {
          "base_uri": "https://localhost:8080/"
        },
        "id": "kLyaW5juMeN6",
        "outputId": "1202804f-9c45-4bcb-9bdb-cd3f4b777e8f"
      },
      "source": [
        "tensor_fill = torch.full((2, 6), fill_value=10)\n",
        "tensor_fill"
      ],
      "execution_count": 26,
      "outputs": [
        {
          "output_type": "execute_result",
          "data": {
            "text/plain": [
              "tensor([[10, 10, 10, 10, 10, 10],\n",
              "        [10, 10, 10, 10, 10, 10]])"
            ]
          },
          "metadata": {
            "tags": []
          },
          "execution_count": 26
        }
      ]
    },
    {
      "cell_type": "markdown",
      "metadata": {
        "id": "GkB0LX1FMeN6"
      },
      "source": [
        "#### A tensor of size (2,4) containing all ones"
      ]
    },
    {
      "cell_type": "code",
      "metadata": {
        "colab": {
          "base_uri": "https://localhost:8080/"
        },
        "id": "m3Lf72o7MeN7",
        "outputId": "72d21930-fdfb-4daf-9093-efb8a6d704db"
      },
      "source": [
        "tensor_of_ones = torch.ones([2, 4], dtype=torch.int32)\n",
        "tensor_of_ones"
      ],
      "execution_count": 27,
      "outputs": [
        {
          "output_type": "execute_result",
          "data": {
            "text/plain": [
              "tensor([[1, 1, 1, 1],\n",
              "        [1, 1, 1, 1]], dtype=torch.int32)"
            ]
          },
          "metadata": {
            "tags": []
          },
          "execution_count": 27
        }
      ]
    },
    {
      "cell_type": "markdown",
      "metadata": {
        "id": "nZI2gtGWMeN7"
      },
      "source": [
        "#### A tensor of size (2,4) like tensor_of_ones containing all zeroes"
      ]
    },
    {
      "cell_type": "code",
      "metadata": {
        "colab": {
          "base_uri": "https://localhost:8080/"
        },
        "id": "Q9B-yuDkMeN7",
        "outputId": "e4ca7b9b-bbda-4846-ad93-4e7e3da46fd1"
      },
      "source": [
        "tensor_of_zeroes = torch.zeros_like(tensor_of_ones)\n",
        "tensor_of_zeroes"
      ],
      "execution_count": 28,
      "outputs": [
        {
          "output_type": "execute_result",
          "data": {
            "text/plain": [
              "tensor([[0, 0, 0, 0],\n",
              "        [0, 0, 0, 0]], dtype=torch.int32)"
            ]
          },
          "metadata": {
            "tags": []
          },
          "execution_count": 28
        }
      ]
    },
    {
      "cell_type": "markdown",
      "metadata": {
        "id": "4VDzqGwLMeN7"
      },
      "source": [
        "#### Create an identity 5X5 tensor"
      ]
    },
    {
      "cell_type": "code",
      "metadata": {
        "colab": {
          "base_uri": "https://localhost:8080/"
        },
        "id": "azkC8g7kMeN8",
        "outputId": "9e2c6f21-4321-4959-b460-bf187b8cd51c"
      },
      "source": [
        "tensor_eye = torch.eye(5)\n",
        "tensor_eye"
      ],
      "execution_count": 29,
      "outputs": [
        {
          "output_type": "execute_result",
          "data": {
            "text/plain": [
              "tensor([[1., 0., 0., 0., 0.],\n",
              "        [0., 1., 0., 0., 0.],\n",
              "        [0., 0., 1., 0., 0.],\n",
              "        [0., 0., 0., 1., 0.],\n",
              "        [0., 0., 0., 0., 1.]])"
            ]
          },
          "metadata": {
            "tags": []
          },
          "execution_count": 29
        }
      ]
    },
    {
      "cell_type": "markdown",
      "metadata": {
        "id": "3Ryc82lfMeN8"
      },
      "source": [
        "#### Get the list of indices of non-zero elements in a tensor\n",
        "[ i, j ] index for non-zero elements"
      ]
    },
    {
      "cell_type": "code",
      "metadata": {
        "colab": {
          "base_uri": "https://localhost:8080/"
        },
        "id": "vlsxUO1tMeN8",
        "outputId": "12071cb6-0ef9-40b4-c1af-d77ef439dc6d"
      },
      "source": [
        "non_zero = torch.nonzero(tensor_eye)\n",
        "non_zero"
      ],
      "execution_count": 30,
      "outputs": [
        {
          "output_type": "execute_result",
          "data": {
            "text/plain": [
              "tensor([[0, 0],\n",
              "        [1, 1],\n",
              "        [2, 2],\n",
              "        [3, 3],\n",
              "        [4, 4]])"
            ]
          },
          "metadata": {
            "tags": []
          },
          "execution_count": 30
        }
      ]
    },
    {
      "cell_type": "markdown",
      "metadata": {
        "id": "xlf5wBqNMeN8"
      },
      "source": [
        "#### Create a sparse tensor using coordinates specified by indices and values"
      ]
    },
    {
      "cell_type": "code",
      "metadata": {
        "id": "V2_-dHMsMeN8"
      },
      "source": [
        "i = torch.tensor([[0, 1, 1],\n",
        "                  [2, 2, 0]])"
      ],
      "execution_count": 31,
      "outputs": []
    },
    {
      "cell_type": "code",
      "metadata": {
        "id": "n59YfOsJMeN8"
      },
      "source": [
        "v = torch.tensor([3, 4, 5], dtype=torch.float32)"
      ],
      "execution_count": 32,
      "outputs": []
    },
    {
      "cell_type": "code",
      "metadata": {
        "id": "nWB1kHSmMeN9"
      },
      "source": [
        "sparse_tensor = torch.sparse_coo_tensor(i, v, [2, 5])"
      ],
      "execution_count": 33,
      "outputs": []
    },
    {
      "cell_type": "code",
      "metadata": {
        "colab": {
          "base_uri": "https://localhost:8080/"
        },
        "id": "JVQI2bPQMeN9",
        "outputId": "a2686664-7681-4c49-8e19-e91b4261c131"
      },
      "source": [
        "sparse_tensor.data"
      ],
      "execution_count": 34,
      "outputs": [
        {
          "output_type": "execute_result",
          "data": {
            "text/plain": [
              "tensor(indices=tensor([[0, 1, 1],\n",
              "                       [2, 2, 0]]),\n",
              "       values=tensor([3., 4., 5.]),\n",
              "       size=(2, 5), nnz=3, dtype=torch.float32, layout=torch.sparse_coo)"
            ]
          },
          "metadata": {
            "tags": []
          },
          "execution_count": 34
        }
      ]
    },
    {
      "cell_type": "markdown",
      "metadata": {
        "id": "x7DZYp_bMeN9"
      },
      "source": [
        "## Inplace / Out-of-place\n",
        "The first difference is that ALL operations on the tensor that operate in-place on it will have an \"\\_\" postfix. For example, add is the out-of-place version, and add\\_ is the in-place version."
      ]
    },
    {
      "cell_type": "markdown",
      "metadata": {
        "id": "mlVO0AzNMeN9"
      },
      "source": [
        "#### .fill_ is in-place operation and it doesnt have any out-place equivalent"
      ]
    },
    {
      "cell_type": "code",
      "metadata": {
        "colab": {
          "base_uri": "https://localhost:8080/"
        },
        "id": "P5xEwXyEMeN9",
        "outputId": "d81807cb-21b3-4c3b-b049-8ae0a38d044a"
      },
      "source": [
        "initial_tensor = torch.rand(2, 3) \n",
        "initial_tensor"
      ],
      "execution_count": 35,
      "outputs": [
        {
          "output_type": "execute_result",
          "data": {
            "text/plain": [
              "tensor([[0.2512, 0.0743, 0.4134],\n",
              "        [0.5682, 0.1114, 0.4955]])"
            ]
          },
          "metadata": {
            "tags": []
          },
          "execution_count": 35
        }
      ]
    },
    {
      "cell_type": "code",
      "metadata": {
        "colab": {
          "base_uri": "https://localhost:8080/"
        },
        "id": "V5fubNV3MeN9",
        "outputId": "4ceeff01-32a1-45ef-c660-dceb9a2ba9b7"
      },
      "source": [
        "initial_tensor.fill_(10) "
      ],
      "execution_count": 36,
      "outputs": [
        {
          "output_type": "execute_result",
          "data": {
            "text/plain": [
              "tensor([[10., 10., 10.],\n",
              "        [10., 10., 10.]])"
            ]
          },
          "metadata": {
            "tags": []
          },
          "execution_count": 36
        }
      ]
    },
    {
      "cell_type": "markdown",
      "metadata": {
        "id": "h9VVTrC3MeN-"
      },
      "source": [
        "#### The add() method does an out-of-place add operation and returns a new tensor\n",
        "This is assigned to the new_tensor variable"
      ]
    },
    {
      "cell_type": "code",
      "metadata": {
        "colab": {
          "base_uri": "https://localhost:8080/"
        },
        "id": "tWMvgJEaMeN-",
        "outputId": "3f4d0c13-7605-4d58-c32e-719b7ff1bf87"
      },
      "source": [
        "new_tensor = initial_tensor.add(5)\n",
        "new_tensor"
      ],
      "execution_count": 37,
      "outputs": [
        {
          "output_type": "execute_result",
          "data": {
            "text/plain": [
              "tensor([[15., 15., 15.],\n",
              "        [15., 15., 15.]])"
            ]
          },
          "metadata": {
            "tags": []
          },
          "execution_count": 37
        }
      ]
    },
    {
      "cell_type": "markdown",
      "metadata": {
        "id": "J-A55U6UMeN-"
      },
      "source": [
        "#### The original tensor is unchanged"
      ]
    },
    {
      "cell_type": "code",
      "metadata": {
        "colab": {
          "base_uri": "https://localhost:8080/"
        },
        "id": "2rPHs7wCMeN-",
        "outputId": "7ebe4ba4-fe80-41b3-c223-6d4deb162c2f"
      },
      "source": [
        "initial_tensor"
      ],
      "execution_count": 38,
      "outputs": [
        {
          "output_type": "execute_result",
          "data": {
            "text/plain": [
              "tensor([[10., 10., 10.],\n",
              "        [10., 10., 10.]])"
            ]
          },
          "metadata": {
            "tags": []
          },
          "execution_count": 38
        }
      ]
    },
    {
      "cell_type": "markdown",
      "metadata": {
        "id": "D-RKG3TGMeN_"
      },
      "source": [
        "#### The add\\_ method does an in-place add, changing the calling tensor"
      ]
    },
    {
      "cell_type": "code",
      "metadata": {
        "colab": {
          "base_uri": "https://localhost:8080/"
        },
        "id": "7bz9wXJ8MeN_",
        "outputId": "1fcb3742-a88d-4d89-bebd-80a53643a6ee"
      },
      "source": [
        "initial_tensor.add_(8)\n",
        "initial_tensor"
      ],
      "execution_count": 39,
      "outputs": [
        {
          "output_type": "execute_result",
          "data": {
            "text/plain": [
              "tensor([[18., 18., 18.],\n",
              "        [18., 18., 18.]])"
            ]
          },
          "metadata": {
            "tags": []
          },
          "execution_count": 39
        }
      ]
    },
    {
      "cell_type": "markdown",
      "metadata": {
        "id": "05uVdpLBMeN_"
      },
      "source": [
        "#### The new_tensor was a separate copy and is unaffected"
      ]
    },
    {
      "cell_type": "code",
      "metadata": {
        "colab": {
          "base_uri": "https://localhost:8080/"
        },
        "id": "xoOA1JrZMeN_",
        "outputId": "222eb4b9-d3fa-4646-e5ea-34874e62a1c5"
      },
      "source": [
        "new_tensor"
      ],
      "execution_count": 40,
      "outputs": [
        {
          "output_type": "execute_result",
          "data": {
            "text/plain": [
              "tensor([[15., 15., 15.],\n",
              "        [15., 15., 15.]])"
            ]
          },
          "metadata": {
            "tags": []
          },
          "execution_count": 40
        }
      ]
    },
    {
      "cell_type": "markdown",
      "metadata": {
        "id": "kvkIwbeRMeN_"
      },
      "source": [
        "#### In-place version of sqrt()"
      ]
    },
    {
      "cell_type": "code",
      "metadata": {
        "colab": {
          "base_uri": "https://localhost:8080/"
        },
        "id": "tX2BYlWZMeN_",
        "outputId": "a14381eb-e1e1-4ca4-8534-1ee7f2dc8ab9"
      },
      "source": [
        "new_tensor.sqrt_()\n",
        "new_tensor"
      ],
      "execution_count": 41,
      "outputs": [
        {
          "output_type": "execute_result",
          "data": {
            "text/plain": [
              "tensor([[3.8730, 3.8730, 3.8730],\n",
              "        [3.8730, 3.8730, 3.8730]])"
            ]
          },
          "metadata": {
            "tags": []
          },
          "execution_count": 41
        }
      ]
    },
    {
      "cell_type": "markdown",
      "metadata": {
        "id": "sBRz5ScFMeOA"
      },
      "source": [
        "### Indexing, Slicing, Joining, Mutating Ops"
      ]
    },
    {
      "cell_type": "markdown",
      "metadata": {
        "id": "0UuJ9O7sMeOA"
      },
      "source": [
        "#### Slicing"
      ]
    },
    {
      "cell_type": "code",
      "metadata": {
        "colab": {
          "base_uri": "https://localhost:8080/"
        },
        "id": "1FPsSUzoMeOA",
        "outputId": "26763903-bc84-4b51-a94a-f98bdc7f7048"
      },
      "source": [
        "x = torch.linspace(start=0.1, end=10.0, steps=15)\n",
        "x"
      ],
      "execution_count": 42,
      "outputs": [
        {
          "output_type": "execute_result",
          "data": {
            "text/plain": [
              "tensor([ 0.1000,  0.8071,  1.5143,  2.2214,  2.9286,  3.6357,  4.3429,  5.0500,\n",
              "         5.7571,  6.4643,  7.1714,  7.8786,  8.5857,  9.2929, 10.0000])"
            ]
          },
          "metadata": {
            "tags": []
          },
          "execution_count": 42
        }
      ]
    },
    {
      "cell_type": "markdown",
      "metadata": {
        "id": "Nalp2IGTMeOA"
      },
      "source": [
        "#### Splits a tensor into a specific number of chunks.\n",
        "- tensor (Tensor) – the tensor to split\n",
        "- chunks (int) – number of chunks to return\n",
        "- dim (int) – dimension along which to split the tensor\n"
      ]
    },
    {
      "cell_type": "code",
      "metadata": {
        "colab": {
          "base_uri": "https://localhost:8080/"
        },
        "id": "z10vvuvQMeOA",
        "outputId": "624e3e4d-2312-4b41-8269-ddf8d549c31f"
      },
      "source": [
        "tensor_chunk = torch.chunk(x, 3, 0)\n",
        "tensor_chunk"
      ],
      "execution_count": 43,
      "outputs": [
        {
          "output_type": "execute_result",
          "data": {
            "text/plain": [
              "(tensor([0.1000, 0.8071, 1.5143, 2.2214, 2.9286]),\n",
              " tensor([3.6357, 4.3429, 5.0500, 5.7571, 6.4643]),\n",
              " tensor([ 7.1714,  7.8786,  8.5857,  9.2929, 10.0000]))"
            ]
          },
          "metadata": {
            "tags": []
          },
          "execution_count": 43
        }
      ]
    },
    {
      "cell_type": "markdown",
      "metadata": {
        "id": "XdlTYmJjMeOA"
      },
      "source": [
        "#### Concatenates the  sequence of tensors along the given dimension\n",
        "\n",
        "All tensors must either have the same shape (except in the concatenating dimension) or be empty."
      ]
    },
    {
      "cell_type": "code",
      "metadata": {
        "colab": {
          "base_uri": "https://localhost:8080/"
        },
        "id": "3eqDuVuvMeOB",
        "outputId": "7435fb46-822c-41a6-9449-4794ec8035b8"
      },
      "source": [
        "tensor1 = tensor_chunk[0]\n",
        "tensor2 = tensor_chunk[1]\n",
        "tensor3 = torch.tensor([3.0, 4.0, 5.0])\n",
        "\n",
        "torch.cat((tensor1, tensor2, tensor3), 0)"
      ],
      "execution_count": 44,
      "outputs": [
        {
          "output_type": "execute_result",
          "data": {
            "text/plain": [
              "tensor([0.1000, 0.8071, 1.5143, 2.2214, 2.9286, 3.6357, 4.3429, 5.0500, 5.7571,\n",
              "        6.4643, 3.0000, 4.0000, 5.0000])"
            ]
          },
          "metadata": {
            "tags": []
          },
          "execution_count": 44
        }
      ]
    },
    {
      "cell_type": "code",
      "metadata": {
        "colab": {
          "base_uri": "https://localhost:8080/"
        },
        "id": "O9s5PvdeMeOB",
        "outputId": "bb97f1b4-35af-47b4-cf33-2f1164ad7d93"
      },
      "source": [
        "random_tensor = torch.Tensor([[10, 8, 30], [40, 5, 6], [12, 2, 21]])\n",
        "random_tensor"
      ],
      "execution_count": 45,
      "outputs": [
        {
          "output_type": "execute_result",
          "data": {
            "text/plain": [
              "tensor([[10.,  8., 30.],\n",
              "        [40.,  5.,  6.],\n",
              "        [12.,  2., 21.]])"
            ]
          },
          "metadata": {
            "tags": []
          },
          "execution_count": 45
        }
      ]
    },
    {
      "cell_type": "code",
      "metadata": {
        "colab": {
          "base_uri": "https://localhost:8080/"
        },
        "id": "lFw2I-GoMeOB",
        "outputId": "9894bac7-6a97-4afc-cea5-1b75f5c1d5a9"
      },
      "source": [
        "random_tensor[0, 1]"
      ],
      "execution_count": 48,
      "outputs": [
        {
          "output_type": "execute_result",
          "data": {
            "text/plain": [
              "tensor(8.)"
            ]
          },
          "metadata": {
            "tags": []
          },
          "execution_count": 48
        }
      ]
    },
    {
      "cell_type": "code",
      "metadata": {
        "colab": {
          "base_uri": "https://localhost:8080/"
        },
        "id": "_XylyVmaMeOB",
        "outputId": "be51db6e-ecb9-49b8-9e04-0546d92d397d"
      },
      "source": [
        "# Truy cập tất cả các hàng từ hàng 1 trở đi và các cột từ cột 1 trở đi\n",
        "random_tensor[1:, 1:]"
      ],
      "execution_count": 49,
      "outputs": [
        {
          "output_type": "execute_result",
          "data": {
            "text/plain": [
              "tensor([[ 5.,  6.],\n",
              "        [ 2., 21.]])"
            ]
          },
          "metadata": {
            "tags": []
          },
          "execution_count": 49
        }
      ]
    },
    {
      "cell_type": "markdown",
      "metadata": {
        "id": "b2R4SQiQMeOB"
      },
      "source": [
        "#### Splits the tensor into chunks"
      ]
    },
    {
      "cell_type": "code",
      "metadata": {
        "colab": {
          "base_uri": "https://localhost:8080/"
        },
        "id": "oI1XzQiLMeOC",
        "outputId": "987576a5-d413-4480-f493-2d591e67fa43"
      },
      "source": [
        "random_tensor_split = torch.split(random_tensor, 2)\n",
        "random_tensor_split"
      ],
      "execution_count": 51,
      "outputs": [
        {
          "output_type": "execute_result",
          "data": {
            "text/plain": [
              "(tensor([[10.,  8., 30.],\n",
              "         [40.,  5.,  6.]]), tensor([[12.,  2., 21.]]))"
            ]
          },
          "metadata": {
            "tags": []
          },
          "execution_count": 51
        }
      ]
    },
    {
      "cell_type": "markdown",
      "metadata": {
        "id": "msMclyD1MeOC"
      },
      "source": [
        "#### View"
      ]
    },
    {
      "cell_type": "code",
      "metadata": {
        "colab": {
          "base_uri": "https://localhost:8080/"
        },
        "id": "zQVn0z1tMeOC",
        "outputId": "dbfe52bd-db9e-42fe-dc66-1a7382d23bbd"
      },
      "source": [
        "random_tensor"
      ],
      "execution_count": 58,
      "outputs": [
        {
          "output_type": "execute_result",
          "data": {
            "text/plain": [
              "tensor([[10.,  8., 30.],\n",
              "        [40.,  5.,  6.],\n",
              "        [12.,  2., 21.]])"
            ]
          },
          "metadata": {
            "tags": []
          },
          "execution_count": 58
        }
      ]
    },
    {
      "cell_type": "code",
      "metadata": {
        "colab": {
          "base_uri": "https://localhost:8080/"
        },
        "id": "p9GzdLgiMeOC",
        "outputId": "6f4cc6d0-d666-4524-b8f3-0d5f009ef1de"
      },
      "source": [
        "random_tensor.size()"
      ],
      "execution_count": 59,
      "outputs": [
        {
          "output_type": "execute_result",
          "data": {
            "text/plain": [
              "torch.Size([3, 3])"
            ]
          },
          "metadata": {
            "tags": []
          },
          "execution_count": 59
        }
      ]
    },
    {
      "cell_type": "code",
      "metadata": {
        "colab": {
          "base_uri": "https://localhost:8080/"
        },
        "id": "8PiYbVlRMeOC",
        "outputId": "3ea147fa-db10-48b1-8933-47b4375b4568"
      },
      "source": [
        "resized_tensor = random_tensor.view(9)  \n",
        "resized_tensor"
      ],
      "execution_count": 60,
      "outputs": [
        {
          "output_type": "execute_result",
          "data": {
            "text/plain": [
              "tensor([10.,  8., 30., 40.,  5.,  6., 12.,  2., 21.])"
            ]
          },
          "metadata": {
            "tags": []
          },
          "execution_count": 60
        }
      ]
    },
    {
      "cell_type": "code",
      "metadata": {
        "id": "_CGxuo0vVZky"
      },
      "source": [
        "resized_tensor = random_tensor.view(-1, 6)  \n",
        "resized_tensor"
      ],
      "execution_count": null,
      "outputs": []
    },
    {
      "cell_type": "code",
      "metadata": {
        "colab": {
          "base_uri": "https://localhost:8080/"
        },
        "id": "ZHbKguIVMeOD",
        "outputId": "8825e15d-bc91-4be5-b107-8447ff07e6d1"
      },
      "source": [
        "resized_tensor.size()"
      ],
      "execution_count": 62,
      "outputs": [
        {
          "output_type": "execute_result",
          "data": {
            "text/plain": [
              "torch.Size([9])"
            ]
          },
          "metadata": {
            "tags": []
          },
          "execution_count": 62
        }
      ]
    },
    {
      "cell_type": "markdown",
      "metadata": {
        "id": "ny41QqG_MeOD"
      },
      "source": [
        "#### view() does not create a deep copy - just a view as the name suggests\n",
        "Modifying the original tensor affects the resized_tensor as they both point to the same space in memory"
      ]
    },
    {
      "cell_type": "code",
      "metadata": {
        "colab": {
          "base_uri": "https://localhost:8080/"
        },
        "id": "uUdM3KAMMeOD",
        "outputId": "a0df5fe0-dcf8-45e4-c058-e13ef88a2db8"
      },
      "source": [
        "random_tensor[2, 2] = 100.0\n",
        "resized_tensor"
      ],
      "execution_count": 63,
      "outputs": [
        {
          "output_type": "execute_result",
          "data": {
            "text/plain": [
              "tensor([ 10.,   8.,  30.,  40.,   5.,   6.,  12.,   2., 100.])"
            ]
          },
          "metadata": {
            "tags": []
          },
          "execution_count": 63
        }
      ]
    },
    {
      "cell_type": "markdown",
      "metadata": {
        "id": "qzqSJbWnMeOE"
      },
      "source": [
        "#### Unsqueeze\n",
        "Returns a new tensor with a dimension of size one inserted at the specified position."
      ]
    },
    {
      "cell_type": "code",
      "metadata": {
        "colab": {
          "base_uri": "https://localhost:8080/"
        },
        "id": "Jn-Y175IMeOE",
        "outputId": "919f1cc5-0e2e-471a-f649-095c271f44b3"
      },
      "source": [
        "random_tensor"
      ],
      "execution_count": 64,
      "outputs": [
        {
          "output_type": "execute_result",
          "data": {
            "text/plain": [
              "tensor([[ 10.,   8.,  30.],\n",
              "        [ 40.,   5.,   6.],\n",
              "        [ 12.,   2., 100.]])"
            ]
          },
          "metadata": {
            "tags": []
          },
          "execution_count": 64
        }
      ]
    },
    {
      "cell_type": "code",
      "metadata": {
        "colab": {
          "base_uri": "https://localhost:8080/"
        },
        "id": "Lqtv7GZ8MeOE",
        "outputId": "082db18e-0246-4018-9587-18675190e33f"
      },
      "source": [
        "random_tensor.shape"
      ],
      "execution_count": 65,
      "outputs": [
        {
          "output_type": "execute_result",
          "data": {
            "text/plain": [
              "torch.Size([3, 3])"
            ]
          },
          "metadata": {
            "tags": []
          },
          "execution_count": 65
        }
      ]
    },
    {
      "cell_type": "code",
      "metadata": {
        "colab": {
          "base_uri": "https://localhost:8080/"
        },
        "id": "udMglR_TMeOE",
        "outputId": "2520ae91-2238-497f-aded-40cf712870a8"
      },
      "source": [
        "tensor_unsqueeze = torch.unsqueeze(random_tensor, 2)\n",
        "tensor_unsqueeze"
      ],
      "execution_count": 66,
      "outputs": [
        {
          "output_type": "execute_result",
          "data": {
            "text/plain": [
              "tensor([[[ 10.],\n",
              "         [  8.],\n",
              "         [ 30.]],\n",
              "\n",
              "        [[ 40.],\n",
              "         [  5.],\n",
              "         [  6.]],\n",
              "\n",
              "        [[ 12.],\n",
              "         [  2.],\n",
              "         [100.]]])"
            ]
          },
          "metadata": {
            "tags": []
          },
          "execution_count": 66
        }
      ]
    },
    {
      "cell_type": "code",
      "metadata": {
        "colab": {
          "base_uri": "https://localhost:8080/"
        },
        "id": "2Hs7JkEaMeOE",
        "outputId": "4439c8a8-5930-475f-d2b1-408dadc734a5"
      },
      "source": [
        "tensor_unsqueeze.shape"
      ],
      "execution_count": 67,
      "outputs": [
        {
          "output_type": "execute_result",
          "data": {
            "text/plain": [
              "torch.Size([3, 3, 1])"
            ]
          },
          "metadata": {
            "tags": []
          },
          "execution_count": 67
        }
      ]
    },
    {
      "cell_type": "markdown",
      "metadata": {
        "id": "gu0kKE6yMeOF"
      },
      "source": [
        "#### Transpose\n",
        "\n",
        "#### Returns a tensor that is a transposed version of input. The given dimensions dim0 and dim1 are swapped."
      ]
    },
    {
      "cell_type": "code",
      "metadata": {
        "colab": {
          "base_uri": "https://localhost:8080/"
        },
        "id": "tcbciMNqMeOF",
        "outputId": "cb0c59e8-30ee-412c-fb2b-f4ad1cdf71e9"
      },
      "source": [
        "initial_tensor"
      ],
      "execution_count": 68,
      "outputs": [
        {
          "output_type": "execute_result",
          "data": {
            "text/plain": [
              "tensor([[18., 18., 18.],\n",
              "        [18., 18., 18.]])"
            ]
          },
          "metadata": {
            "tags": []
          },
          "execution_count": 68
        }
      ]
    },
    {
      "cell_type": "code",
      "metadata": {
        "colab": {
          "base_uri": "https://localhost:8080/"
        },
        "id": "x-DmOey1MeOF",
        "outputId": "1975f757-7121-4efa-93f9-1f69c8d0b478"
      },
      "source": [
        "tensor_transpose = torch.transpose(initial_tensor, 0, 1)\n",
        "tensor_transpose"
      ],
      "execution_count": 69,
      "outputs": [
        {
          "output_type": "execute_result",
          "data": {
            "text/plain": [
              "tensor([[18., 18.],\n",
              "        [18., 18.],\n",
              "        [18., 18.]])"
            ]
          },
          "metadata": {
            "tags": []
          },
          "execution_count": 69
        }
      ]
    },
    {
      "cell_type": "markdown",
      "metadata": {
        "id": "_nPz6bBVMeOF"
      },
      "source": [
        "#### Sorting tensors\n",
        "Tensors can be sorted along a specified dimension. If no dimension is specified, the last dimension is picked by default"
      ]
    },
    {
      "cell_type": "code",
      "metadata": {
        "colab": {
          "base_uri": "https://localhost:8080/"
        },
        "id": "L5X-OzNnMeOF",
        "outputId": "da03f95f-0450-43c6-a81a-aa44d9b832ef"
      },
      "source": [
        "random_tensor"
      ],
      "execution_count": 70,
      "outputs": [
        {
          "output_type": "execute_result",
          "data": {
            "text/plain": [
              "tensor([[ 10.,   8.,  30.],\n",
              "        [ 40.,   5.,   6.],\n",
              "        [ 12.,   2., 100.]])"
            ]
          },
          "metadata": {
            "tags": []
          },
          "execution_count": 70
        }
      ]
    },
    {
      "cell_type": "code",
      "metadata": {
        "id": "9Chf24U3MeOF"
      },
      "source": [
        "sorted_tensor, sorted_indices = torch.sort(random_tensor)"
      ],
      "execution_count": 71,
      "outputs": []
    },
    {
      "cell_type": "code",
      "metadata": {
        "colab": {
          "base_uri": "https://localhost:8080/"
        },
        "id": "qjsVEKn7MeOG",
        "outputId": "e3a9b77c-6562-4015-82be-7f29fa885b9c"
      },
      "source": [
        "sorted_tensor"
      ],
      "execution_count": 72,
      "outputs": [
        {
          "output_type": "execute_result",
          "data": {
            "text/plain": [
              "tensor([[  8.,  10.,  30.],\n",
              "        [  5.,   6.,  40.],\n",
              "        [  2.,  12., 100.]])"
            ]
          },
          "metadata": {
            "tags": []
          },
          "execution_count": 72
        }
      ]
    },
    {
      "cell_type": "code",
      "metadata": {
        "colab": {
          "base_uri": "https://localhost:8080/"
        },
        "id": "eFeC5sFBMeOG",
        "outputId": "3bf663bf-34b5-4e21-ea90-363bbf4426b5"
      },
      "source": [
        "sorted_indices"
      ],
      "execution_count": 73,
      "outputs": [
        {
          "output_type": "execute_result",
          "data": {
            "text/plain": [
              "tensor([[1, 0, 2],\n",
              "        [1, 2, 0],\n",
              "        [1, 0, 2]])"
            ]
          },
          "metadata": {
            "tags": []
          },
          "execution_count": 73
        }
      ]
    },
    {
      "cell_type": "markdown",
      "metadata": {
        "id": "X2Rh8V61MeOG"
      },
      "source": [
        "# Math Operations\n",
        "Pytorch supports a number of mathematical operations which can be performed on tensors. We take a look at a few of them here"
      ]
    },
    {
      "cell_type": "code",
      "metadata": {
        "colab": {
          "base_uri": "https://localhost:8080/"
        },
        "id": "CWCKpl4TMeOG",
        "outputId": "7a7e3a9e-95bf-4663-ac65-e3fcdabbdbd1"
      },
      "source": [
        "tensor_float = torch.FloatTensor([-1.1, -2.2, 3.3])\n",
        "tensor_float"
      ],
      "execution_count": 74,
      "outputs": [
        {
          "output_type": "execute_result",
          "data": {
            "text/plain": [
              "tensor([-1.1000, -2.2000,  3.3000], dtype=torch.float32)"
            ]
          },
          "metadata": {
            "tags": []
          },
          "execution_count": 74
        }
      ]
    },
    {
      "cell_type": "markdown",
      "metadata": {
        "id": "h-66X0yEMeOG"
      },
      "source": [
        "#### Absolute values"
      ]
    },
    {
      "cell_type": "code",
      "metadata": {
        "colab": {
          "base_uri": "https://localhost:8080/"
        },
        "id": "VzZYrmwQMeOG",
        "outputId": "645706ed-473b-4c2f-fb14-1304453e3ea7"
      },
      "source": [
        "tensor_abs = torch.abs(tensor_float)      \n",
        "tensor_abs"
      ],
      "execution_count": 75,
      "outputs": [
        {
          "output_type": "execute_result",
          "data": {
            "text/plain": [
              "tensor([1.1000, 2.2000, 3.3000], dtype=torch.float32)"
            ]
          },
          "metadata": {
            "tags": []
          },
          "execution_count": 75
        }
      ]
    },
    {
      "cell_type": "code",
      "metadata": {
        "colab": {
          "base_uri": "https://localhost:8080/"
        },
        "id": "x4UWsYwHMeOG",
        "outputId": "c571c3d6-3f25-4d30-e602-2908f81d9bbd"
      },
      "source": [
        "initial_tensor"
      ],
      "execution_count": 76,
      "outputs": [
        {
          "output_type": "execute_result",
          "data": {
            "text/plain": [
              "tensor([[18., 18., 18.],\n",
              "        [18., 18., 18.]])"
            ]
          },
          "metadata": {
            "tags": []
          },
          "execution_count": 76
        }
      ]
    },
    {
      "cell_type": "code",
      "metadata": {
        "colab": {
          "base_uri": "https://localhost:8080/"
        },
        "id": "pc1J2hxIMeOH",
        "outputId": "80c88d03-da3e-4ede-dd74-4574b3da5c13"
      },
      "source": [
        "new_tensor = torch.add(initial_tensor, 2)\n",
        "new_tensor"
      ],
      "execution_count": 77,
      "outputs": [
        {
          "output_type": "execute_result",
          "data": {
            "text/plain": [
              "tensor([[20., 20., 20.],\n",
              "        [20., 20., 20.]])"
            ]
          },
          "metadata": {
            "tags": []
          },
          "execution_count": 77
        }
      ]
    },
    {
      "cell_type": "code",
      "metadata": {
        "colab": {
          "base_uri": "https://localhost:8080/"
        },
        "id": "zc2mnm_DMeOH",
        "outputId": "d5519cf8-d8fc-4e97-a4f0-a8ae9e198999"
      },
      "source": [
        "torch.add(initial_tensor, 10, new_tensor)"
      ],
      "execution_count": 78,
      "outputs": [
        {
          "output_type": "stream",
          "text": [
            "/usr/local/lib/python3.7/dist-packages/ipykernel_launcher.py:1: UserWarning: This overload of add is deprecated:\n",
            "\tadd(Tensor input, Number alpha, Tensor other, *, Tensor out)\n",
            "Consider using one of the following signatures instead:\n",
            "\tadd(Tensor input, Tensor other, *, Number alpha, Tensor out) (Triggered internally at  /pytorch/torch/csrc/utils/python_arg_parser.cpp:1025.)\n",
            "  \"\"\"Entry point for launching an IPython kernel.\n"
          ],
          "name": "stderr"
        },
        {
          "output_type": "execute_result",
          "data": {
            "text/plain": [
              "tensor([[218., 218., 218.],\n",
              "        [218., 218., 218.]])"
            ]
          },
          "metadata": {
            "tags": []
          },
          "execution_count": 78
        }
      ]
    },
    {
      "cell_type": "code",
      "metadata": {
        "id": "SsW0Cb71MeOH"
      },
      "source": [
        "rand1 = torch.abs(torch.randn(2, 3))\n",
        "rand2 = torch.abs(torch.randn(2, 3))"
      ],
      "execution_count": 79,
      "outputs": []
    },
    {
      "cell_type": "code",
      "metadata": {
        "colab": {
          "base_uri": "https://localhost:8080/"
        },
        "id": "Pq2PqZ1NMeOH",
        "outputId": "697636f6-6002-4e23-d9a8-6e09b5eb9048"
      },
      "source": [
        "add1 = rand1 + rand2\n",
        "add1"
      ],
      "execution_count": 80,
      "outputs": [
        {
          "output_type": "execute_result",
          "data": {
            "text/plain": [
              "tensor([[0.8311, 0.9119, 0.8745],\n",
              "        [1.3568, 2.2477, 1.2692]])"
            ]
          },
          "metadata": {
            "tags": []
          },
          "execution_count": 80
        }
      ]
    },
    {
      "cell_type": "markdown",
      "metadata": {
        "id": "Z3I82UMwMeOH"
      },
      "source": [
        "#### The add() method does an out-of-place add operation and returns a new tensor\n",
        "This is assigned to the new_tensor variable"
      ]
    },
    {
      "cell_type": "code",
      "metadata": {
        "colab": {
          "base_uri": "https://localhost:8080/"
        },
        "id": "M4OmzGQLMeOH",
        "outputId": "5f2670b9-6ea5-4969-9421-e64b9b36ac99"
      },
      "source": [
        "add2 = torch.add(rand1, rand2)\n",
        "add2"
      ],
      "execution_count": 81,
      "outputs": [
        {
          "output_type": "execute_result",
          "data": {
            "text/plain": [
              "tensor([[0.8311, 0.9119, 0.8745],\n",
              "        [1.3568, 2.2477, 1.2692]])"
            ]
          },
          "metadata": {
            "tags": []
          },
          "execution_count": 81
        }
      ]
    },
    {
      "cell_type": "code",
      "metadata": {
        "id": "pu8Cqk0IMeOI"
      },
      "source": [
        "tensor = torch.Tensor([[-1, -2, -3],\n",
        "                       [ 1,  2,  3]])"
      ],
      "execution_count": 82,
      "outputs": []
    },
    {
      "cell_type": "markdown",
      "metadata": {
        "id": "EAnJ_JP9MeOI"
      },
      "source": [
        "#### Element-wise division\n",
        "The div() and mul() functions can be used to divide and multiply the values in a tensor. Here, we do an element-wise division between two tensors"
      ]
    },
    {
      "cell_type": "code",
      "metadata": {
        "colab": {
          "base_uri": "https://localhost:8080/"
        },
        "id": "9lzECd68MeOI",
        "outputId": "5222fe60-3c97-4451-8b5b-86fa9d67b6c9"
      },
      "source": [
        "tensor_div = torch.div(tensor, tensor + 0.3)\n",
        "tensor_div"
      ],
      "execution_count": 83,
      "outputs": [
        {
          "output_type": "execute_result",
          "data": {
            "text/plain": [
              "tensor([[1.4286, 1.1765, 1.1111],\n",
              "        [0.7692, 0.8696, 0.9091]])"
            ]
          },
          "metadata": {
            "tags": []
          },
          "execution_count": 83
        }
      ]
    },
    {
      "cell_type": "markdown",
      "metadata": {
        "id": "QO2jLb6mMeOI"
      },
      "source": [
        "#### Element-wise multiplicaton"
      ]
    },
    {
      "cell_type": "code",
      "metadata": {
        "colab": {
          "base_uri": "https://localhost:8080/"
        },
        "id": "lcpYK3IHMeOI",
        "outputId": "53747893-6efa-4aae-97df-b29668458f0c"
      },
      "source": [
        "tensor_mul = torch.mul(tensor, tensor)\n",
        "tensor_mul"
      ],
      "execution_count": 84,
      "outputs": [
        {
          "output_type": "execute_result",
          "data": {
            "text/plain": [
              "tensor([[1., 4., 9.],\n",
              "        [1., 4., 9.]])"
            ]
          },
          "metadata": {
            "tags": []
          },
          "execution_count": 84
        }
      ]
    },
    {
      "cell_type": "markdown",
      "metadata": {
        "id": "Hw_1_b92MeOI"
      },
      "source": [
        "#### Clamp the value of a Tensor\n",
        "There will be occasions where you would like to set upper and lower limits for the values in a tensor. This is where the clamp function is used. The value of an element is set to:\n",
        "* min if if x<sub>i</sub> < min\n",
        "* x<sub>i</sub> if min < x<sub>i</sub> < max\n",
        "* max if x<sub>i</sub> > max"
      ]
    },
    {
      "cell_type": "code",
      "metadata": {
        "colab": {
          "base_uri": "https://localhost:8080/"
        },
        "id": "WYZ3XhBTMeOJ",
        "outputId": "c6095918-eb56-488a-8ae9-b67eba246da5"
      },
      "source": [
        "tensor_clamp = torch.clamp(tensor, min= -0.2, max=2)\n",
        "tensor_clamp"
      ],
      "execution_count": 85,
      "outputs": [
        {
          "output_type": "execute_result",
          "data": {
            "text/plain": [
              "tensor([[-0.2000, -0.2000, -0.2000],\n",
              "        [ 1.0000,  2.0000,  2.0000]])"
            ]
          },
          "metadata": {
            "tags": []
          },
          "execution_count": 85
        }
      ]
    },
    {
      "cell_type": "markdown",
      "metadata": {
        "id": "OAxZdHyHMeOJ"
      },
      "source": [
        "## Vector Multiplication "
      ]
    },
    {
      "cell_type": "markdown",
      "metadata": {
        "id": "87ySkMB1MeOJ"
      },
      "source": [
        "#### Dot product"
      ]
    },
    {
      "cell_type": "code",
      "metadata": {
        "id": "_oSqP1GIMeOJ"
      },
      "source": [
        "t1 = torch.Tensor([1, 2])\n",
        "t2 = torch.Tensor([10, 20])"
      ],
      "execution_count": 86,
      "outputs": []
    },
    {
      "cell_type": "code",
      "metadata": {
        "id": "CD_oedQOMeOJ",
        "outputId": "512a3aab-1454-46fd-c525-731621bcc330"
      },
      "source": [
        "dot_product = torch.dot(t1, t2) \n",
        "dot_product"
      ],
      "execution_count": null,
      "outputs": [
        {
          "output_type": "execute_result",
          "data": {
            "text/plain": [
              "tensor(50.)"
            ]
          },
          "metadata": {
            "tags": []
          },
          "execution_count": 176
        }
      ]
    },
    {
      "cell_type": "markdown",
      "metadata": {
        "id": "cnQQxnPAMeOJ"
      },
      "source": [
        "#### Matrix Vector product\n",
        "If mat is a (n×m) tensor, vec is a 1-D tensor of size m, out will be 1-D of size n."
      ]
    },
    {
      "cell_type": "code",
      "metadata": {
        "id": "nyDjb0gOMeOK"
      },
      "source": [
        "matrix = torch.Tensor([[1, 2, 3],\n",
        "                       [4, 5, 6]])\n",
        "\n",
        "vector = torch.Tensor([0, 1, 2])"
      ],
      "execution_count": 87,
      "outputs": []
    },
    {
      "cell_type": "code",
      "metadata": {
        "colab": {
          "base_uri": "https://localhost:8080/"
        },
        "id": "KtXT-HSpMeOK",
        "outputId": "f9a06a38-152b-4818-9474-5d7ee2951e99"
      },
      "source": [
        "matrix_vector = torch.mv(matrix, vector)\n",
        "matrix_vector"
      ],
      "execution_count": 88,
      "outputs": [
        {
          "output_type": "execute_result",
          "data": {
            "text/plain": [
              "tensor([ 8., 17.])"
            ]
          },
          "metadata": {
            "tags": []
          },
          "execution_count": 88
        }
      ]
    },
    {
      "cell_type": "markdown",
      "metadata": {
        "id": "Sa7uBrIfMeOK"
      },
      "source": [
        "#### Matrix multiplication"
      ]
    },
    {
      "cell_type": "code",
      "metadata": {
        "id": "3RjJtu0vMeOK"
      },
      "source": [
        "another_matrix = torch.Tensor([[10, 30],\n",
        "                               [20, 0],\n",
        "                               [0 , 50]])"
      ],
      "execution_count": 89,
      "outputs": []
    },
    {
      "cell_type": "code",
      "metadata": {
        "colab": {
          "base_uri": "https://localhost:8080/"
        },
        "id": "6WmwmYeFMeOK",
        "outputId": "c363bb77-2b10-424c-a7a0-9dcbe9a4ddd5"
      },
      "source": [
        "matrix_mul = torch.mm(matrix, another_matrix)\n",
        "matrix_mul"
      ],
      "execution_count": 90,
      "outputs": [
        {
          "output_type": "execute_result",
          "data": {
            "text/plain": [
              "tensor([[ 50., 180.],\n",
              "        [140., 420.]])"
            ]
          },
          "metadata": {
            "tags": []
          },
          "execution_count": 90
        }
      ]
    },
    {
      "cell_type": "markdown",
      "metadata": {
        "id": "Px7_KkZGMeOK"
      },
      "source": [
        "#### Returns the indices of the maximum values of a tensor across a dimension."
      ]
    },
    {
      "cell_type": "code",
      "metadata": {
        "colab": {
          "base_uri": "https://localhost:8080/"
        },
        "id": "uQ6suDt3MeOK",
        "outputId": "aa98fc3c-1f2d-40b9-8f2e-87588f81e07e"
      },
      "source": [
        "torch.argmax(matrix_mul, dim=1)"
      ],
      "execution_count": 91,
      "outputs": [
        {
          "output_type": "execute_result",
          "data": {
            "text/plain": [
              "tensor([1, 1])"
            ]
          },
          "metadata": {
            "tags": []
          },
          "execution_count": 91
        }
      ]
    },
    {
      "cell_type": "code",
      "metadata": {
        "colab": {
          "base_uri": "https://localhost:8080/"
        },
        "id": "2EzK6RcWMeOL",
        "outputId": "ca773974-4222-4e3a-c959-0deb8cd1d148"
      },
      "source": [
        "torch.argmin(matrix_mul, dim=1)"
      ],
      "execution_count": 92,
      "outputs": [
        {
          "output_type": "execute_result",
          "data": {
            "text/plain": [
              "tensor([0, 0])"
            ]
          },
          "metadata": {
            "tags": []
          },
          "execution_count": 92
        }
      ]
    }
  ]
}