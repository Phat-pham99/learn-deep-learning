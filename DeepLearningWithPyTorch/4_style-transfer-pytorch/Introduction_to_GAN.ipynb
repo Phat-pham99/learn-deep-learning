{
 "cells": [
  {
   "cell_type": "markdown",
   "metadata": {},
   "source": [
    "# Generating fake mnist digits using GAN\n",
    "\n",
    "https://arxiv.org/pdf/1406.2661.pdf\n",
    "\n",
    "https://github.com/yunjey/pytorch-tutorial/blob/master/tutorials/03-advanced/generative_adversarial_network/main.py\n"
   ]
  },
  {
   "cell_type": "markdown",
   "metadata": {},
   "source": [
    "## Import libraries"
   ]
  },
  {
   "cell_type": "code",
   "execution_count": 2,
   "metadata": {},
   "outputs": [],
   "source": [
    "import os\n",
    "import numpy as np\n",
    "import matplotlib.pyplot as plt\n",
    "\n",
    "import torch\n",
    "import torchvision\n",
    "import torch.nn as nn\n",
    "from torchvision import transforms\n",
    "from torchvision.utils import save_image"
   ]
  },
  {
   "cell_type": "markdown",
   "metadata": {},
   "source": [
    "## Load Data\n",
    "* Define constants\n",
    "* Load mnist and apply transforms\n",
    "* Define dataloader"
   ]
  },
  {
   "cell_type": "code",
   "execution_count": 3,
   "metadata": {},
   "outputs": [],
   "source": [
    "batch_size = 100\n",
    "\n",
    "device = torch.device('cuda' if torch.cuda.is_available() else 'cpu')"
   ]
  },
  {
   "cell_type": "code",
   "execution_count": 4,
   "metadata": {},
   "outputs": [],
   "source": [
    "transform = transforms.Compose([\n",
    "                transforms.ToTensor(),\n",
    "                transforms.Normalize((0.5,), (0.5,))])"
   ]
  },
  {
   "cell_type": "code",
   "execution_count": 5,
   "metadata": {},
   "outputs": [],
   "source": [
    "mnist = torchvision.datasets.MNIST(root='datasets/',\n",
    "                                   train=True,\n",
    "                                   transform=transform,\n",
    "                                   download=True)"
   ]
  },
  {
   "cell_type": "code",
   "execution_count": 6,
   "metadata": {},
   "outputs": [],
   "source": [
    "data_loader = torch.utils.data.DataLoader(dataset=mnist,\n",
    "                                          batch_size=batch_size, \n",
    "                                          shuffle=True)"
   ]
  },
  {
   "cell_type": "markdown",
   "metadata": {},
   "source": [
    "## Visualize Data"
   ]
  },
  {
   "cell_type": "code",
   "execution_count": 7,
   "metadata": {},
   "outputs": [],
   "source": [
    "images, labels = iter(data_loader).next()"
   ]
  },
  {
   "cell_type": "code",
   "execution_count": 8,
   "metadata": {},
   "outputs": [
    {
     "data": {
      "text/plain": [
       "tensor([[[[-1., -1., -1.,  ..., -1., -1., -1.],\n",
       "          [-1., -1., -1.,  ..., -1., -1., -1.],\n",
       "          [-1., -1., -1.,  ..., -1., -1., -1.],\n",
       "          ...,\n",
       "          [-1., -1., -1.,  ..., -1., -1., -1.],\n",
       "          [-1., -1., -1.,  ..., -1., -1., -1.],\n",
       "          [-1., -1., -1.,  ..., -1., -1., -1.]]],\n",
       "\n",
       "\n",
       "        [[[-1., -1., -1.,  ..., -1., -1., -1.],\n",
       "          [-1., -1., -1.,  ..., -1., -1., -1.],\n",
       "          [-1., -1., -1.,  ..., -1., -1., -1.],\n",
       "          ...,\n",
       "          [-1., -1., -1.,  ..., -1., -1., -1.],\n",
       "          [-1., -1., -1.,  ..., -1., -1., -1.],\n",
       "          [-1., -1., -1.,  ..., -1., -1., -1.]]],\n",
       "\n",
       "\n",
       "        [[[-1., -1., -1.,  ..., -1., -1., -1.],\n",
       "          [-1., -1., -1.,  ..., -1., -1., -1.],\n",
       "          [-1., -1., -1.,  ..., -1., -1., -1.],\n",
       "          ...,\n",
       "          [-1., -1., -1.,  ..., -1., -1., -1.],\n",
       "          [-1., -1., -1.,  ..., -1., -1., -1.],\n",
       "          [-1., -1., -1.,  ..., -1., -1., -1.]]],\n",
       "\n",
       "\n",
       "        ...,\n",
       "\n",
       "\n",
       "        [[[-1., -1., -1.,  ..., -1., -1., -1.],\n",
       "          [-1., -1., -1.,  ..., -1., -1., -1.],\n",
       "          [-1., -1., -1.,  ..., -1., -1., -1.],\n",
       "          ...,\n",
       "          [-1., -1., -1.,  ..., -1., -1., -1.],\n",
       "          [-1., -1., -1.,  ..., -1., -1., -1.],\n",
       "          [-1., -1., -1.,  ..., -1., -1., -1.]]],\n",
       "\n",
       "\n",
       "        [[[-1., -1., -1.,  ..., -1., -1., -1.],\n",
       "          [-1., -1., -1.,  ..., -1., -1., -1.],\n",
       "          [-1., -1., -1.,  ..., -1., -1., -1.],\n",
       "          ...,\n",
       "          [-1., -1., -1.,  ..., -1., -1., -1.],\n",
       "          [-1., -1., -1.,  ..., -1., -1., -1.],\n",
       "          [-1., -1., -1.,  ..., -1., -1., -1.]]],\n",
       "\n",
       "\n",
       "        [[[-1., -1., -1.,  ..., -1., -1., -1.],\n",
       "          [-1., -1., -1.,  ..., -1., -1., -1.],\n",
       "          [-1., -1., -1.,  ..., -1., -1., -1.],\n",
       "          ...,\n",
       "          [-1., -1., -1.,  ..., -1., -1., -1.],\n",
       "          [-1., -1., -1.,  ..., -1., -1., -1.],\n",
       "          [-1., -1., -1.,  ..., -1., -1., -1.]]]])"
      ]
     },
     "execution_count": 8,
     "metadata": {},
     "output_type": "execute_result"
    }
   ],
   "source": [
    "images"
   ]
  },
  {
   "cell_type": "code",
   "execution_count": 9,
   "metadata": {},
   "outputs": [
    {
     "data": {
      "text/plain": [
       "tensor([0, 7, 1, 0, 5, 8, 2, 6, 3, 5, 4, 9, 9, 0, 9, 8, 1, 8, 7, 1, 3, 9, 8, 3,\n",
       "        2, 3, 3, 3, 9, 2, 9, 2, 5, 9, 2, 0, 4, 4, 2, 7, 2, 6, 3, 0, 1, 3, 3, 4,\n",
       "        8, 3, 0, 9, 5, 6, 4, 1, 9, 4, 5, 3, 9, 0, 4, 8, 3, 1, 8, 7, 2, 2, 4, 0,\n",
       "        6, 6, 2, 4, 0, 8, 8, 2, 2, 7, 8, 5, 7, 7, 7, 9, 2, 2, 4, 3, 9, 8, 2, 1,\n",
       "        1, 4, 9, 2])"
      ]
     },
     "execution_count": 9,
     "metadata": {},
     "output_type": "execute_result"
    }
   ],
   "source": [
    "labels"
   ]
  },
  {
   "cell_type": "code",
   "execution_count": 7,
   "metadata": {},
   "outputs": [],
   "source": [
    "img = torchvision.utils.make_grid(images)"
   ]
  },
  {
   "cell_type": "code",
   "execution_count": 8,
   "metadata": {},
   "outputs": [],
   "source": [
    "img = img.detach().numpy()\n",
    "img = img.clip(0,1)"
   ]
  },
  {
   "cell_type": "code",
   "execution_count": 9,
   "metadata": {},
   "outputs": [
    {
     "data": {
      "image/png": "[encoded data removed]",
      "text/plain": [
       "<Figure size 864x720 with 1 Axes>"
      ]
     },
     "metadata": {
      "needs_background": "light"
     },
     "output_type": "display_data"
    }
   ],
   "source": [
    "plt.figure(figsize = (12,10))\n",
    "plt.imshow(np.transpose(img, (1,2,0)))\n",
    "plt.axis('off')\n",
    "plt.show()"
   ]
  },
  {
   "cell_type": "markdown",
   "metadata": {},
   "source": [
    "## Define Neural Networks\n",
    "* Define Hyper-parameters\n",
    "* Define the Discriminator\n",
    "* Define the Generator \n",
    "\n"
   ]
  },
  {
   "cell_type": "code",
   "execution_count": 10,
   "metadata": {},
   "outputs": [],
   "source": [
    "latent_size = 64\n",
    "hidden_size = 256\n",
    "image_size = 784\n",
    "num_epochs = 100"
   ]
  },
  {
   "cell_type": "code",
   "execution_count": 11,
   "metadata": {},
   "outputs": [],
   "source": [
    "D = nn.Sequential(\n",
    "    nn.Linear(image_size, hidden_size),\n",
    "    nn.LeakyReLU(0.2),\n",
    "    nn.Dropout(0.5),\n",
    "    nn.Linear(hidden_size, hidden_size),\n",
    "    nn.LeakyReLU(0.2),\n",
    "    nn.Dropout(0.5),\n",
    "    nn.Linear(hidden_size, 1),\n",
    "    nn.Sigmoid())"
   ]
  },
  {
   "cell_type": "code",
   "execution_count": 12,
   "metadata": {},
   "outputs": [],
   "source": [
    "G = nn.Sequential(\n",
    "    nn.Linear(latent_size, hidden_size),\n",
    "    nn.ReLU(),\n",
    "    nn.Linear(hidden_size, hidden_size),\n",
    "    nn.ReLU(),\n",
    "    nn.Linear(hidden_size, image_size),\n",
    "    nn.Tanh())"
   ]
  },
  {
   "cell_type": "code",
   "execution_count": 13,
   "metadata": {},
   "outputs": [],
   "source": [
    "D = D.to(device)\n",
    "G = G.to(device)"
   ]
  },
  {
   "attachments": {},
   "cell_type": "markdown",
   "metadata": {},
   "source": [
    "## Training"
   ]
  },
  {
   "cell_type": "code",
   "execution_count": 14,
   "metadata": {},
   "outputs": [],
   "source": [
    "bce_loss = nn.BCELoss()\n",
    "\n",
    "d_optimizer = torch.optim.Adam(D.parameters(), lr=0.0002)\n",
    "g_optimizer = torch.optim.Adam(G.parameters(), lr=0.0002)"
   ]
  },
  {
   "cell_type": "code",
   "execution_count": 15,
   "metadata": {},
   "outputs": [],
   "source": [
    "total_step = len(data_loader)"
   ]
  },
  {
   "cell_type": "code",
   "execution_count": 16,
   "metadata": {},
   "outputs": [
    {
     "name": "stdout",
     "output_type": "stream",
     "text": [
      "Epoch [0/100], Step [200/600], d_loss: 0.1183, g_loss: 4.4201, D(x): 0.97, D(G(z)): 0.08\n",
      "Epoch [0/100], Step [400/600], d_loss: 0.5738, g_loss: 2.7716, D(x): 0.88, D(G(z)): 0.26\n",
      "Epoch [0/100], Step [600/600], d_loss: 0.6947, g_loss: 1.6829, D(x): 0.77, D(G(z)): 0.29\n",
      "Epoch [1/100], Step [200/600], d_loss: 0.9062, g_loss: 2.3809, D(x): 0.70, D(G(z)): 0.29\n",
      "Epoch [1/100], Step [400/600], d_loss: 0.7590, g_loss: 1.6480, D(x): 0.80, D(G(z)): 0.33\n",
      "Epoch [1/100], Step [600/600], d_loss: 1.3575, g_loss: 0.6865, D(x): 0.66, D(G(z)): 0.54\n",
      "Epoch [2/100], Step [200/600], d_loss: 0.9628, g_loss: 1.3068, D(x): 0.72, D(G(z)): 0.37\n",
      "Epoch [2/100], Step [400/600], d_loss: 0.8802, g_loss: 1.4836, D(x): 0.73, D(G(z)): 0.26\n",
      "Epoch [2/100], Step [600/600], d_loss: 0.6985, g_loss: 2.0883, D(x): 0.79, D(G(z)): 0.24\n",
      "Epoch [3/100], Step [200/600], d_loss: 0.5743, g_loss: 1.8450, D(x): 0.83, D(G(z)): 0.24\n",
      "Epoch [3/100], Step [400/600], d_loss: 0.9317, g_loss: 1.6019, D(x): 0.71, D(G(z)): 0.26\n",
      "Epoch [3/100], Step [600/600], d_loss: 0.4843, g_loss: 2.6051, D(x): 0.84, D(G(z)): 0.13\n",
      "Epoch [4/100], Step [200/600], d_loss: 0.7036, g_loss: 1.9725, D(x): 0.80, D(G(z)): 0.27\n",
      "Epoch [4/100], Step [400/600], d_loss: 0.4518, g_loss: 2.6372, D(x): 0.85, D(G(z)): 0.16\n",
      "Epoch [4/100], Step [600/600], d_loss: 0.3509, g_loss: 2.3105, D(x): 0.89, D(G(z)): 0.13\n",
      "Epoch [5/100], Step [200/600], d_loss: 0.7581, g_loss: 2.5602, D(x): 0.77, D(G(z)): 0.19\n",
      "Epoch [5/100], Step [400/600], d_loss: 0.4688, g_loss: 2.3611, D(x): 0.87, D(G(z)): 0.21\n",
      "Epoch [5/100], Step [600/600], d_loss: 0.7283, g_loss: 2.3785, D(x): 0.81, D(G(z)): 0.25\n",
      "Epoch [6/100], Step [200/600], d_loss: 0.3351, g_loss: 4.0406, D(x): 0.85, D(G(z)): 0.07\n",
      "Epoch [6/100], Step [400/600], d_loss: 0.4892, g_loss: 2.8162, D(x): 0.86, D(G(z)): 0.15\n",
      "Epoch [6/100], Step [600/600], d_loss: 0.3866, g_loss: 3.1154, D(x): 0.84, D(G(z)): 0.12\n",
      "Epoch [7/100], Step [200/600], d_loss: 0.7960, g_loss: 1.9369, D(x): 0.79, D(G(z)): 0.24\n",
      "Epoch [7/100], Step [400/600], d_loss: 0.4695, g_loss: 2.5134, D(x): 0.83, D(G(z)): 0.17\n",
      "Epoch [7/100], Step [600/600], d_loss: 0.3430, g_loss: 2.3711, D(x): 0.86, D(G(z)): 0.11\n",
      "Epoch [8/100], Step [200/600], d_loss: 0.7016, g_loss: 1.9429, D(x): 0.81, D(G(z)): 0.25\n",
      "Epoch [8/100], Step [400/600], d_loss: 0.6391, g_loss: 2.0439, D(x): 0.80, D(G(z)): 0.22\n",
      "Epoch [8/100], Step [600/600], d_loss: 0.5662, g_loss: 2.8245, D(x): 0.75, D(G(z)): 0.10\n",
      "Epoch [9/100], Step [200/600], d_loss: 0.9101, g_loss: 1.9006, D(x): 0.72, D(G(z)): 0.24\n",
      "Epoch [9/100], Step [400/600], d_loss: 0.3656, g_loss: 2.6054, D(x): 0.88, D(G(z)): 0.15\n",
      "Epoch [9/100], Step [600/600], d_loss: 0.7227, g_loss: 1.7282, D(x): 0.78, D(G(z)): 0.24\n",
      "Epoch [10/100], Step [200/600], d_loss: 0.6875, g_loss: 2.3826, D(x): 0.75, D(G(z)): 0.20\n",
      "Epoch [10/100], Step [400/600], d_loss: 0.8432, g_loss: 1.8205, D(x): 0.75, D(G(z)): 0.27\n",
      "Epoch [10/100], Step [600/600], d_loss: 0.6236, g_loss: 2.3314, D(x): 0.78, D(G(z)): 0.18\n",
      "Epoch [11/100], Step [200/600], d_loss: 0.8528, g_loss: 1.6100, D(x): 0.72, D(G(z)): 0.24\n",
      "Epoch [11/100], Step [400/600], d_loss: 0.6543, g_loss: 2.5140, D(x): 0.79, D(G(z)): 0.20\n",
      "Epoch [11/100], Step [600/600], d_loss: 0.6064, g_loss: 2.2808, D(x): 0.80, D(G(z)): 0.21\n",
      "Epoch [12/100], Step [200/600], d_loss: 0.6328, g_loss: 2.4752, D(x): 0.74, D(G(z)): 0.17\n",
      "Epoch [12/100], Step [400/600], d_loss: 0.7104, g_loss: 1.6965, D(x): 0.78, D(G(z)): 0.28\n",
      "Epoch [12/100], Step [600/600], d_loss: 0.6974, g_loss: 1.6769, D(x): 0.79, D(G(z)): 0.22\n",
      "Epoch [13/100], Step [200/600], d_loss: 0.6977, g_loss: 2.2561, D(x): 0.76, D(G(z)): 0.20\n",
      "Epoch [13/100], Step [400/600], d_loss: 0.8843, g_loss: 1.5495, D(x): 0.74, D(G(z)): 0.31\n",
      "Epoch [13/100], Step [600/600], d_loss: 0.6114, g_loss: 2.4872, D(x): 0.80, D(G(z)): 0.19\n",
      "Epoch [14/100], Step [200/600], d_loss: 0.8455, g_loss: 2.1359, D(x): 0.76, D(G(z)): 0.26\n",
      "Epoch [14/100], Step [400/600], d_loss: 0.8466, g_loss: 1.9013, D(x): 0.73, D(G(z)): 0.25\n",
      "Epoch [14/100], Step [600/600], d_loss: 0.8533, g_loss: 1.3696, D(x): 0.77, D(G(z)): 0.33\n",
      "Epoch [15/100], Step [200/600], d_loss: 0.8656, g_loss: 1.6331, D(x): 0.74, D(G(z)): 0.27\n",
      "Epoch [15/100], Step [400/600], d_loss: 0.7956, g_loss: 1.8199, D(x): 0.70, D(G(z)): 0.23\n",
      "Epoch [15/100], Step [600/600], d_loss: 0.8872, g_loss: 2.0668, D(x): 0.78, D(G(z)): 0.30\n",
      "Epoch [16/100], Step [200/600], d_loss: 0.7598, g_loss: 1.9875, D(x): 0.74, D(G(z)): 0.25\n",
      "Epoch [16/100], Step [400/600], d_loss: 0.8634, g_loss: 1.7150, D(x): 0.67, D(G(z)): 0.22\n",
      "Epoch [16/100], Step [600/600], d_loss: 0.7252, g_loss: 1.7727, D(x): 0.76, D(G(z)): 0.23\n",
      "Epoch [17/100], Step [200/600], d_loss: 0.7903, g_loss: 1.8319, D(x): 0.77, D(G(z)): 0.29\n",
      "Epoch [17/100], Step [400/600], d_loss: 0.9710, g_loss: 1.6563, D(x): 0.70, D(G(z)): 0.29\n",
      "Epoch [17/100], Step [600/600], d_loss: 0.9072, g_loss: 1.6508, D(x): 0.71, D(G(z)): 0.30\n",
      "Epoch [18/100], Step [200/600], d_loss: 0.9349, g_loss: 1.6540, D(x): 0.69, D(G(z)): 0.25\n",
      "Epoch [18/100], Step [400/600], d_loss: 0.8177, g_loss: 1.8877, D(x): 0.75, D(G(z)): 0.26\n",
      "Epoch [18/100], Step [600/600], d_loss: 0.8622, g_loss: 1.7876, D(x): 0.70, D(G(z)): 0.27\n",
      "Epoch [19/100], Step [200/600], d_loss: 0.9474, g_loss: 1.7493, D(x): 0.68, D(G(z)): 0.30\n",
      "Epoch [19/100], Step [400/600], d_loss: 0.8028, g_loss: 1.8315, D(x): 0.71, D(G(z)): 0.23\n",
      "Epoch [19/100], Step [600/600], d_loss: 0.9005, g_loss: 1.7399, D(x): 0.72, D(G(z)): 0.31\n",
      "Epoch [20/100], Step [200/600], d_loss: 0.8511, g_loss: 1.5830, D(x): 0.79, D(G(z)): 0.33\n",
      "Epoch [20/100], Step [400/600], d_loss: 0.9078, g_loss: 1.3092, D(x): 0.73, D(G(z)): 0.32\n",
      "Epoch [20/100], Step [600/600], d_loss: 0.9236, g_loss: 1.4874, D(x): 0.72, D(G(z)): 0.32\n",
      "Epoch [21/100], Step [200/600], d_loss: 0.6660, g_loss: 2.2241, D(x): 0.74, D(G(z)): 0.19\n",
      "Epoch [21/100], Step [400/600], d_loss: 0.8083, g_loss: 1.3215, D(x): 0.74, D(G(z)): 0.28\n",
      "Epoch [21/100], Step [600/600], d_loss: 1.0015, g_loss: 1.5529, D(x): 0.69, D(G(z)): 0.30\n",
      "Epoch [22/100], Step [200/600], d_loss: 0.9176, g_loss: 1.8224, D(x): 0.68, D(G(z)): 0.28\n",
      "Epoch [22/100], Step [400/600], d_loss: 0.9366, g_loss: 1.7773, D(x): 0.64, D(G(z)): 0.24\n",
      "Epoch [22/100], Step [600/600], d_loss: 0.9321, g_loss: 1.7172, D(x): 0.68, D(G(z)): 0.28\n",
      "Epoch [23/100], Step [200/600], d_loss: 0.7484, g_loss: 2.0071, D(x): 0.72, D(G(z)): 0.23\n",
      "Epoch [23/100], Step [400/600], d_loss: 0.8679, g_loss: 1.4689, D(x): 0.73, D(G(z)): 0.31\n",
      "Epoch [23/100], Step [600/600], d_loss: 0.8845, g_loss: 1.6379, D(x): 0.73, D(G(z)): 0.31\n",
      "Epoch [24/100], Step [200/600], d_loss: 0.7703, g_loss: 1.7889, D(x): 0.70, D(G(z)): 0.24\n",
      "Epoch [24/100], Step [400/600], d_loss: 0.7100, g_loss: 1.7729, D(x): 0.75, D(G(z)): 0.25\n",
      "Epoch [24/100], Step [600/600], d_loss: 0.9852, g_loss: 1.4727, D(x): 0.67, D(G(z)): 0.33\n",
      "Epoch [25/100], Step [200/600], d_loss: 0.8185, g_loss: 1.8792, D(x): 0.72, D(G(z)): 0.27\n",
      "Epoch [25/100], Step [400/600], d_loss: 0.7805, g_loss: 1.7055, D(x): 0.71, D(G(z)): 0.25\n",
      "Epoch [25/100], Step [600/600], d_loss: 0.9587, g_loss: 1.2364, D(x): 0.67, D(G(z)): 0.33\n",
      "Epoch [26/100], Step [200/600], d_loss: 0.8817, g_loss: 1.6559, D(x): 0.68, D(G(z)): 0.27\n",
      "Epoch [26/100], Step [400/600], d_loss: 1.1238, g_loss: 1.2958, D(x): 0.64, D(G(z)): 0.35\n",
      "Epoch [26/100], Step [600/600], d_loss: 0.9019, g_loss: 1.8451, D(x): 0.73, D(G(z)): 0.29\n",
      "Epoch [27/100], Step [200/600], d_loss: 0.8161, g_loss: 1.6101, D(x): 0.71, D(G(z)): 0.28\n",
      "Epoch [27/100], Step [400/600], d_loss: 1.1720, g_loss: 1.4930, D(x): 0.58, D(G(z)): 0.34\n",
      "Epoch [27/100], Step [600/600], d_loss: 1.0451, g_loss: 1.3940, D(x): 0.69, D(G(z)): 0.35\n",
      "Epoch [28/100], Step [200/600], d_loss: 0.8274, g_loss: 1.3566, D(x): 0.70, D(G(z)): 0.28\n",
      "Epoch [28/100], Step [400/600], d_loss: 1.1488, g_loss: 1.1532, D(x): 0.65, D(G(z)): 0.39\n",
      "Epoch [28/100], Step [600/600], d_loss: 1.2638, g_loss: 1.3744, D(x): 0.66, D(G(z)): 0.39\n",
      "Epoch [29/100], Step [200/600], d_loss: 0.9227, g_loss: 1.8270, D(x): 0.70, D(G(z)): 0.28\n",
      "Epoch [29/100], Step [400/600], d_loss: 0.9884, g_loss: 1.1062, D(x): 0.70, D(G(z)): 0.37\n",
      "Epoch [29/100], Step [600/600], d_loss: 1.0225, g_loss: 1.2551, D(x): 0.68, D(G(z)): 0.36\n",
      "Epoch [30/100], Step [200/600], d_loss: 1.0652, g_loss: 1.5709, D(x): 0.62, D(G(z)): 0.30\n",
      "Epoch [30/100], Step [400/600], d_loss: 1.1719, g_loss: 0.9148, D(x): 0.65, D(G(z)): 0.42\n",
      "Epoch [30/100], Step [600/600], d_loss: 1.0687, g_loss: 1.3622, D(x): 0.64, D(G(z)): 0.35\n",
      "Epoch [31/100], Step [200/600], d_loss: 1.1094, g_loss: 1.2478, D(x): 0.62, D(G(z)): 0.35\n",
      "Epoch [31/100], Step [400/600], d_loss: 1.0515, g_loss: 1.2459, D(x): 0.61, D(G(z)): 0.33\n",
      "Epoch [31/100], Step [600/600], d_loss: 0.9463, g_loss: 1.3376, D(x): 0.65, D(G(z)): 0.31\n",
      "Epoch [32/100], Step [200/600], d_loss: 1.0738, g_loss: 1.4151, D(x): 0.60, D(G(z)): 0.31\n",
      "Epoch [32/100], Step [400/600], d_loss: 0.9487, g_loss: 1.2954, D(x): 0.68, D(G(z)): 0.35\n",
      "Epoch [32/100], Step [600/600], d_loss: 0.9159, g_loss: 1.5698, D(x): 0.71, D(G(z)): 0.34\n",
      "Epoch [33/100], Step [200/600], d_loss: 1.0710, g_loss: 1.1975, D(x): 0.64, D(G(z)): 0.35\n",
      "Epoch [33/100], Step [400/600], d_loss: 1.1315, g_loss: 1.0924, D(x): 0.61, D(G(z)): 0.36\n",
      "Epoch [33/100], Step [600/600], d_loss: 0.8301, g_loss: 1.5980, D(x): 0.69, D(G(z)): 0.28\n",
      "Epoch [34/100], Step [200/600], d_loss: 1.0540, g_loss: 1.1479, D(x): 0.66, D(G(z)): 0.38\n",
      "Epoch [34/100], Step [400/600], d_loss: 0.9216, g_loss: 1.3492, D(x): 0.69, D(G(z)): 0.33\n",
      "Epoch [34/100], Step [600/600], d_loss: 1.1264, g_loss: 1.1993, D(x): 0.70, D(G(z)): 0.44\n",
      "Epoch [35/100], Step [200/600], d_loss: 1.0076, g_loss: 1.4317, D(x): 0.65, D(G(z)): 0.34\n",
      "Epoch [35/100], Step [400/600], d_loss: 1.2248, g_loss: 1.0984, D(x): 0.62, D(G(z)): 0.42\n",
      "Epoch [35/100], Step [600/600], d_loss: 1.0185, g_loss: 1.2935, D(x): 0.62, D(G(z)): 0.32\n",
      "Epoch [36/100], Step [200/600], d_loss: 1.1880, g_loss: 1.1827, D(x): 0.61, D(G(z)): 0.38\n",
      "Epoch [36/100], Step [400/600], d_loss: 1.1258, g_loss: 1.2074, D(x): 0.62, D(G(z)): 0.37\n",
      "Epoch [36/100], Step [600/600], d_loss: 0.9341, g_loss: 1.4017, D(x): 0.68, D(G(z)): 0.33\n",
      "Epoch [37/100], Step [200/600], d_loss: 1.0313, g_loss: 1.4168, D(x): 0.69, D(G(z)): 0.36\n",
      "Epoch [37/100], Step [400/600], d_loss: 1.0202, g_loss: 1.3196, D(x): 0.67, D(G(z)): 0.37\n",
      "Epoch [37/100], Step [600/600], d_loss: 1.0093, g_loss: 1.2567, D(x): 0.63, D(G(z)): 0.34\n",
      "Epoch [38/100], Step [200/600], d_loss: 1.0191, g_loss: 1.5755, D(x): 0.64, D(G(z)): 0.31\n",
      "Epoch [38/100], Step [400/600], d_loss: 1.1017, g_loss: 1.3032, D(x): 0.64, D(G(z)): 0.34\n",
      "Epoch [38/100], Step [600/600], d_loss: 1.1408, g_loss: 1.1361, D(x): 0.60, D(G(z)): 0.33\n",
      "Epoch [39/100], Step [200/600], d_loss: 1.0473, g_loss: 1.4325, D(x): 0.64, D(G(z)): 0.33\n",
      "Epoch [39/100], Step [400/600], d_loss: 1.1066, g_loss: 1.1881, D(x): 0.62, D(G(z)): 0.35\n",
      "Epoch [39/100], Step [600/600], d_loss: 0.9050, g_loss: 1.6136, D(x): 0.69, D(G(z)): 0.32\n",
      "Epoch [40/100], Step [200/600], d_loss: 1.1844, g_loss: 0.9102, D(x): 0.62, D(G(z)): 0.43\n",
      "Epoch [40/100], Step [400/600], d_loss: 1.0583, g_loss: 1.1731, D(x): 0.61, D(G(z)): 0.35\n",
      "Epoch [40/100], Step [600/600], d_loss: 1.2370, g_loss: 1.1145, D(x): 0.58, D(G(z)): 0.40\n",
      "Epoch [41/100], Step [200/600], d_loss: 1.0696, g_loss: 1.4483, D(x): 0.66, D(G(z)): 0.36\n",
      "Epoch [41/100], Step [400/600], d_loss: 1.0566, g_loss: 1.2281, D(x): 0.62, D(G(z)): 0.36\n",
      "Epoch [41/100], Step [600/600], d_loss: 1.2818, g_loss: 1.1151, D(x): 0.62, D(G(z)): 0.42\n",
      "Epoch [42/100], Step [200/600], d_loss: 1.0810, g_loss: 1.1175, D(x): 0.60, D(G(z)): 0.36\n",
      "Epoch [42/100], Step [400/600], d_loss: 1.0469, g_loss: 1.1481, D(x): 0.67, D(G(z)): 0.38\n",
      "Epoch [42/100], Step [600/600], d_loss: 1.0790, g_loss: 1.0238, D(x): 0.63, D(G(z)): 0.34\n",
      "Epoch [43/100], Step [200/600], d_loss: 1.1554, g_loss: 1.2060, D(x): 0.65, D(G(z)): 0.39\n",
      "Epoch [43/100], Step [400/600], d_loss: 1.3500, g_loss: 0.9770, D(x): 0.59, D(G(z)): 0.43\n",
      "Epoch [43/100], Step [600/600], d_loss: 1.1856, g_loss: 1.0472, D(x): 0.60, D(G(z)): 0.41\n",
      "Epoch [44/100], Step [200/600], d_loss: 1.1838, g_loss: 1.0196, D(x): 0.61, D(G(z)): 0.41\n",
      "Epoch [44/100], Step [400/600], d_loss: 1.0055, g_loss: 1.3605, D(x): 0.65, D(G(z)): 0.34\n",
      "Epoch [44/100], Step [600/600], d_loss: 1.0185, g_loss: 1.3819, D(x): 0.62, D(G(z)): 0.30\n",
      "Epoch [45/100], Step [200/600], d_loss: 0.9500, g_loss: 1.3414, D(x): 0.68, D(G(z)): 0.33\n",
      "Epoch [45/100], Step [400/600], d_loss: 1.0550, g_loss: 1.4069, D(x): 0.62, D(G(z)): 0.33\n",
      "Epoch [45/100], Step [600/600], d_loss: 1.0404, g_loss: 1.1472, D(x): 0.61, D(G(z)): 0.35\n",
      "Epoch [46/100], Step [200/600], d_loss: 1.0559, g_loss: 1.3641, D(x): 0.62, D(G(z)): 0.32\n",
      "Epoch [46/100], Step [400/600], d_loss: 1.1642, g_loss: 1.0698, D(x): 0.62, D(G(z)): 0.41\n",
      "Epoch [46/100], Step [600/600], d_loss: 1.0122, g_loss: 1.2436, D(x): 0.67, D(G(z)): 0.38\n",
      "Epoch [47/100], Step [200/600], d_loss: 1.2317, g_loss: 1.1021, D(x): 0.58, D(G(z)): 0.35\n",
      "Epoch [47/100], Step [400/600], d_loss: 1.0624, g_loss: 1.3488, D(x): 0.59, D(G(z)): 0.32\n",
      "Epoch [47/100], Step [600/600], d_loss: 1.0178, g_loss: 1.3009, D(x): 0.66, D(G(z)): 0.35\n",
      "Epoch [48/100], Step [200/600], d_loss: 1.1924, g_loss: 1.0606, D(x): 0.64, D(G(z)): 0.43\n",
      "Epoch [48/100], Step [400/600], d_loss: 1.0462, g_loss: 1.1869, D(x): 0.65, D(G(z)): 0.37\n",
      "Epoch [48/100], Step [600/600], d_loss: 1.1338, g_loss: 1.1968, D(x): 0.62, D(G(z)): 0.38\n",
      "Epoch [49/100], Step [200/600], d_loss: 1.1551, g_loss: 1.1886, D(x): 0.64, D(G(z)): 0.41\n",
      "Epoch [49/100], Step [400/600], d_loss: 1.0816, g_loss: 1.1555, D(x): 0.61, D(G(z)): 0.36\n",
      "Epoch [49/100], Step [600/600], d_loss: 0.9119, g_loss: 1.4277, D(x): 0.69, D(G(z)): 0.32\n",
      "Epoch [50/100], Step [200/600], d_loss: 1.1354, g_loss: 1.1915, D(x): 0.61, D(G(z)): 0.36\n",
      "Epoch [50/100], Step [400/600], d_loss: 1.1549, g_loss: 1.3415, D(x): 0.62, D(G(z)): 0.37\n",
      "Epoch [50/100], Step [600/600], d_loss: 1.1235, g_loss: 1.1643, D(x): 0.60, D(G(z)): 0.36\n",
      "Epoch [51/100], Step [200/600], d_loss: 1.1690, g_loss: 1.3638, D(x): 0.58, D(G(z)): 0.36\n",
      "Epoch [51/100], Step [400/600], d_loss: 0.9494, g_loss: 1.1983, D(x): 0.66, D(G(z)): 0.32\n",
      "Epoch [51/100], Step [600/600], d_loss: 1.0791, g_loss: 1.4630, D(x): 0.65, D(G(z)): 0.37\n",
      "Epoch [52/100], Step [200/600], d_loss: 1.1474, g_loss: 1.2040, D(x): 0.60, D(G(z)): 0.37\n",
      "Epoch [52/100], Step [400/600], d_loss: 1.1848, g_loss: 1.1763, D(x): 0.56, D(G(z)): 0.34\n",
      "Epoch [52/100], Step [600/600], d_loss: 1.0862, g_loss: 1.0475, D(x): 0.64, D(G(z)): 0.38\n",
      "Epoch [53/100], Step [200/600], d_loss: 1.0259, g_loss: 1.1135, D(x): 0.65, D(G(z)): 0.37\n",
      "Epoch [53/100], Step [400/600], d_loss: 1.1506, g_loss: 1.1142, D(x): 0.65, D(G(z)): 0.40\n",
      "Epoch [53/100], Step [600/600], d_loss: 1.1375, g_loss: 1.1201, D(x): 0.63, D(G(z)): 0.41\n",
      "Epoch [54/100], Step [200/600], d_loss: 1.3717, g_loss: 0.9647, D(x): 0.55, D(G(z)): 0.45\n",
      "Epoch [54/100], Step [400/600], d_loss: 1.2683, g_loss: 0.8661, D(x): 0.61, D(G(z)): 0.45\n",
      "Epoch [54/100], Step [600/600], d_loss: 1.0973, g_loss: 1.0911, D(x): 0.60, D(G(z)): 0.35\n",
      "Epoch [55/100], Step [200/600], d_loss: 1.0522, g_loss: 1.2131, D(x): 0.63, D(G(z)): 0.36\n",
      "Epoch [55/100], Step [400/600], d_loss: 1.3036, g_loss: 1.0553, D(x): 0.60, D(G(z)): 0.42\n",
      "Epoch [55/100], Step [600/600], d_loss: 1.1262, g_loss: 0.9730, D(x): 0.63, D(G(z)): 0.42\n",
      "Epoch [56/100], Step [200/600], d_loss: 1.0871, g_loss: 0.9726, D(x): 0.62, D(G(z)): 0.38\n",
      "Epoch [56/100], Step [400/600], d_loss: 1.0214, g_loss: 1.3773, D(x): 0.67, D(G(z)): 0.37\n",
      "Epoch [56/100], Step [600/600], d_loss: 1.0930, g_loss: 1.3692, D(x): 0.61, D(G(z)): 0.35\n",
      "Epoch [57/100], Step [200/600], d_loss: 1.2011, g_loss: 1.0253, D(x): 0.63, D(G(z)): 0.44\n",
      "Epoch [57/100], Step [400/600], d_loss: 1.1084, g_loss: 1.0481, D(x): 0.61, D(G(z)): 0.38\n",
      "Epoch [57/100], Step [600/600], d_loss: 1.1967, g_loss: 1.2369, D(x): 0.57, D(G(z)): 0.36\n",
      "Epoch [58/100], Step [200/600], d_loss: 1.1964, g_loss: 1.1243, D(x): 0.57, D(G(z)): 0.39\n",
      "Epoch [58/100], Step [400/600], d_loss: 1.1285, g_loss: 1.2374, D(x): 0.59, D(G(z)): 0.37\n",
      "Epoch [58/100], Step [600/600], d_loss: 1.1331, g_loss: 1.1318, D(x): 0.62, D(G(z)): 0.40\n",
      "Epoch [59/100], Step [200/600], d_loss: 1.0320, g_loss: 1.1771, D(x): 0.65, D(G(z)): 0.37\n",
      "Epoch [59/100], Step [400/600], d_loss: 1.2028, g_loss: 1.0897, D(x): 0.58, D(G(z)): 0.40\n",
      "Epoch [59/100], Step [600/600], d_loss: 1.2554, g_loss: 0.9691, D(x): 0.60, D(G(z)): 0.44\n",
      "Epoch [60/100], Step [200/600], d_loss: 1.2885, g_loss: 0.9286, D(x): 0.59, D(G(z)): 0.44\n",
      "Epoch [60/100], Step [400/600], d_loss: 1.1244, g_loss: 1.2201, D(x): 0.60, D(G(z)): 0.38\n",
      "Epoch [60/100], Step [600/600], d_loss: 1.1220, g_loss: 1.2115, D(x): 0.61, D(G(z)): 0.38\n",
      "Epoch [61/100], Step [200/600], d_loss: 1.0315, g_loss: 1.2780, D(x): 0.61, D(G(z)): 0.33\n",
      "Epoch [61/100], Step [400/600], d_loss: 1.0711, g_loss: 1.2264, D(x): 0.61, D(G(z)): 0.35\n",
      "Epoch [61/100], Step [600/600], d_loss: 1.1143, g_loss: 1.1845, D(x): 0.62, D(G(z)): 0.39\n",
      "Epoch [62/100], Step [200/600], d_loss: 1.0379, g_loss: 1.2349, D(x): 0.62, D(G(z)): 0.36\n",
      "Epoch [62/100], Step [400/600], d_loss: 1.0887, g_loss: 0.9601, D(x): 0.63, D(G(z)): 0.40\n",
      "Epoch [62/100], Step [600/600], d_loss: 1.2441, g_loss: 0.9916, D(x): 0.59, D(G(z)): 0.44\n",
      "Epoch [63/100], Step [200/600], d_loss: 1.1682, g_loss: 1.0051, D(x): 0.59, D(G(z)): 0.40\n",
      "Epoch [63/100], Step [400/600], d_loss: 1.0968, g_loss: 1.2439, D(x): 0.61, D(G(z)): 0.37\n",
      "Epoch [63/100], Step [600/600], d_loss: 1.2332, g_loss: 1.0897, D(x): 0.62, D(G(z)): 0.43\n",
      "Epoch [64/100], Step [200/600], d_loss: 1.1341, g_loss: 0.9356, D(x): 0.68, D(G(z)): 0.44\n",
      "Epoch [64/100], Step [400/600], d_loss: 1.2451, g_loss: 1.1189, D(x): 0.56, D(G(z)): 0.39\n",
      "Epoch [64/100], Step [600/600], d_loss: 1.0801, g_loss: 1.1361, D(x): 0.64, D(G(z)): 0.40\n",
      "Epoch [65/100], Step [200/600], d_loss: 1.2348, g_loss: 0.9709, D(x): 0.58, D(G(z)): 0.43\n",
      "Epoch [65/100], Step [400/600], d_loss: 1.1428, g_loss: 1.0303, D(x): 0.63, D(G(z)): 0.42\n",
      "Epoch [65/100], Step [600/600], d_loss: 1.1230, g_loss: 1.1420, D(x): 0.62, D(G(z)): 0.40\n",
      "Epoch [66/100], Step [200/600], d_loss: 1.2073, g_loss: 1.0077, D(x): 0.60, D(G(z)): 0.42\n",
      "Epoch [66/100], Step [400/600], d_loss: 1.1383, g_loss: 0.9659, D(x): 0.60, D(G(z)): 0.39\n",
      "Epoch [66/100], Step [600/600], d_loss: 1.1805, g_loss: 1.0398, D(x): 0.61, D(G(z)): 0.42\n",
      "Epoch [67/100], Step [200/600], d_loss: 1.2630, g_loss: 1.0902, D(x): 0.57, D(G(z)): 0.40\n",
      "Epoch [67/100], Step [400/600], d_loss: 1.2149, g_loss: 1.1431, D(x): 0.57, D(G(z)): 0.39\n",
      "Epoch [67/100], Step [600/600], d_loss: 1.0861, g_loss: 1.2218, D(x): 0.62, D(G(z)): 0.37\n",
      "Epoch [68/100], Step [200/600], d_loss: 1.2732, g_loss: 0.9874, D(x): 0.60, D(G(z)): 0.44\n",
      "Epoch [68/100], Step [400/600], d_loss: 1.1889, g_loss: 1.1600, D(x): 0.59, D(G(z)): 0.39\n",
      "Epoch [68/100], Step [600/600], d_loss: 0.9450, g_loss: 1.1182, D(x): 0.66, D(G(z)): 0.35\n",
      "Epoch [69/100], Step [200/600], d_loss: 1.3204, g_loss: 0.9047, D(x): 0.57, D(G(z)): 0.46\n",
      "Epoch [69/100], Step [400/600], d_loss: 1.0885, g_loss: 1.3733, D(x): 0.61, D(G(z)): 0.36\n",
      "Epoch [69/100], Step [600/600], d_loss: 1.1371, g_loss: 1.0852, D(x): 0.62, D(G(z)): 0.41\n",
      "Epoch [70/100], Step [200/600], d_loss: 1.0937, g_loss: 1.0666, D(x): 0.58, D(G(z)): 0.33\n",
      "Epoch [70/100], Step [400/600], d_loss: 1.3122, g_loss: 0.8185, D(x): 0.58, D(G(z)): 0.46\n",
      "Epoch [70/100], Step [600/600], d_loss: 1.1528, g_loss: 1.0106, D(x): 0.59, D(G(z)): 0.40\n",
      "Epoch [71/100], Step [200/600], d_loss: 1.1171, g_loss: 0.9366, D(x): 0.64, D(G(z)): 0.42\n",
      "Epoch [71/100], Step [400/600], d_loss: 1.1650, g_loss: 0.9400, D(x): 0.62, D(G(z)): 0.44\n",
      "Epoch [71/100], Step [600/600], d_loss: 1.2533, g_loss: 1.0188, D(x): 0.59, D(G(z)): 0.44\n",
      "Epoch [72/100], Step [200/600], d_loss: 1.2705, g_loss: 1.0141, D(x): 0.60, D(G(z)): 0.45\n",
      "Epoch [72/100], Step [400/600], d_loss: 1.1493, g_loss: 1.0621, D(x): 0.61, D(G(z)): 0.40\n",
      "Epoch [72/100], Step [600/600], d_loss: 1.1623, g_loss: 1.0911, D(x): 0.56, D(G(z)): 0.39\n",
      "Epoch [73/100], Step [200/600], d_loss: 1.1704, g_loss: 1.0109, D(x): 0.60, D(G(z)): 0.39\n",
      "Epoch [73/100], Step [400/600], d_loss: 1.2745, g_loss: 0.8699, D(x): 0.56, D(G(z)): 0.43\n",
      "Epoch [73/100], Step [600/600], d_loss: 1.0757, g_loss: 1.1243, D(x): 0.59, D(G(z)): 0.35\n",
      "Epoch [74/100], Step [200/600], d_loss: 1.2421, g_loss: 0.9658, D(x): 0.61, D(G(z)): 0.45\n",
      "Epoch [74/100], Step [400/600], d_loss: 1.2287, g_loss: 1.1031, D(x): 0.58, D(G(z)): 0.40\n",
      "Epoch [74/100], Step [600/600], d_loss: 1.1816, g_loss: 1.1517, D(x): 0.58, D(G(z)): 0.37\n",
      "Epoch [75/100], Step [200/600], d_loss: 1.1717, g_loss: 1.0457, D(x): 0.60, D(G(z)): 0.43\n",
      "Epoch [75/100], Step [400/600], d_loss: 1.3541, g_loss: 0.8443, D(x): 0.56, D(G(z)): 0.48\n",
      "Epoch [75/100], Step [600/600], d_loss: 1.2740, g_loss: 0.9649, D(x): 0.57, D(G(z)): 0.44\n",
      "Epoch [76/100], Step [200/600], d_loss: 1.2050, g_loss: 0.9274, D(x): 0.60, D(G(z)): 0.41\n",
      "Epoch [76/100], Step [400/600], d_loss: 1.3315, g_loss: 0.7894, D(x): 0.63, D(G(z)): 0.53\n",
      "Epoch [76/100], Step [600/600], d_loss: 1.1321, g_loss: 1.1099, D(x): 0.58, D(G(z)): 0.37\n",
      "Epoch [77/100], Step [200/600], d_loss: 1.2779, g_loss: 0.8601, D(x): 0.60, D(G(z)): 0.46\n",
      "Epoch [77/100], Step [400/600], d_loss: 1.1113, g_loss: 1.2607, D(x): 0.57, D(G(z)): 0.36\n",
      "Epoch [77/100], Step [600/600], d_loss: 1.1442, g_loss: 0.8941, D(x): 0.60, D(G(z)): 0.42\n",
      "Epoch [78/100], Step [200/600], d_loss: 1.2305, g_loss: 1.0371, D(x): 0.57, D(G(z)): 0.43\n",
      "Epoch [78/100], Step [400/600], d_loss: 1.1371, g_loss: 1.0067, D(x): 0.58, D(G(z)): 0.38\n",
      "Epoch [78/100], Step [600/600], d_loss: 1.2638, g_loss: 0.7316, D(x): 0.62, D(G(z)): 0.50\n",
      "Epoch [79/100], Step [200/600], d_loss: 1.2865, g_loss: 0.8211, D(x): 0.59, D(G(z)): 0.45\n",
      "Epoch [79/100], Step [400/600], d_loss: 1.3670, g_loss: 0.8668, D(x): 0.56, D(G(z)): 0.49\n",
      "Epoch [79/100], Step [600/600], d_loss: 1.3179, g_loss: 0.7879, D(x): 0.57, D(G(z)): 0.49\n",
      "Epoch [80/100], Step [200/600], d_loss: 1.2948, g_loss: 0.8127, D(x): 0.57, D(G(z)): 0.47\n",
      "Epoch [80/100], Step [400/600], d_loss: 1.2508, g_loss: 0.7919, D(x): 0.58, D(G(z)): 0.45\n",
      "Epoch [80/100], Step [600/600], d_loss: 1.1950, g_loss: 1.1027, D(x): 0.56, D(G(z)): 0.39\n",
      "Epoch [81/100], Step [200/600], d_loss: 1.1555, g_loss: 0.9641, D(x): 0.59, D(G(z)): 0.42\n",
      "Epoch [81/100], Step [400/600], d_loss: 1.3445, g_loss: 0.7584, D(x): 0.59, D(G(z)): 0.48\n",
      "Epoch [81/100], Step [600/600], d_loss: 1.1636, g_loss: 1.0186, D(x): 0.61, D(G(z)): 0.42\n",
      "Epoch [82/100], Step [200/600], d_loss: 1.2242, g_loss: 1.0078, D(x): 0.56, D(G(z)): 0.41\n",
      "Epoch [82/100], Step [400/600], d_loss: 1.1714, g_loss: 1.0134, D(x): 0.55, D(G(z)): 0.38\n",
      "Epoch [82/100], Step [600/600], d_loss: 1.2248, g_loss: 0.8908, D(x): 0.57, D(G(z)): 0.43\n",
      "Epoch [83/100], Step [200/600], d_loss: 1.0783, g_loss: 1.0828, D(x): 0.60, D(G(z)): 0.37\n",
      "Epoch [83/100], Step [400/600], d_loss: 1.1352, g_loss: 1.1406, D(x): 0.54, D(G(z)): 0.34\n",
      "Epoch [83/100], Step [600/600], d_loss: 1.2292, g_loss: 0.8987, D(x): 0.58, D(G(z)): 0.44\n",
      "Epoch [84/100], Step [200/600], d_loss: 1.2813, g_loss: 0.9444, D(x): 0.55, D(G(z)): 0.42\n",
      "Epoch [84/100], Step [400/600], d_loss: 1.2063, g_loss: 1.1219, D(x): 0.58, D(G(z)): 0.41\n",
      "Epoch [84/100], Step [600/600], d_loss: 1.2608, g_loss: 0.8779, D(x): 0.57, D(G(z)): 0.45\n",
      "Epoch [85/100], Step [200/600], d_loss: 1.2931, g_loss: 0.8379, D(x): 0.54, D(G(z)): 0.43\n",
      "Epoch [85/100], Step [400/600], d_loss: 1.2908, g_loss: 0.8994, D(x): 0.58, D(G(z)): 0.44\n",
      "Epoch [85/100], Step [600/600], d_loss: 1.0893, g_loss: 1.2722, D(x): 0.59, D(G(z)): 0.37\n",
      "Epoch [86/100], Step [200/600], d_loss: 1.2615, g_loss: 1.0562, D(x): 0.55, D(G(z)): 0.40\n",
      "Epoch [86/100], Step [400/600], d_loss: 1.2388, g_loss: 0.9915, D(x): 0.54, D(G(z)): 0.42\n",
      "Epoch [86/100], Step [600/600], d_loss: 1.2695, g_loss: 0.7845, D(x): 0.59, D(G(z)): 0.47\n",
      "Epoch [87/100], Step [200/600], d_loss: 1.4304, g_loss: 0.9141, D(x): 0.52, D(G(z)): 0.46\n",
      "Epoch [87/100], Step [400/600], d_loss: 1.3881, g_loss: 0.7781, D(x): 0.56, D(G(z)): 0.47\n",
      "Epoch [87/100], Step [600/600], d_loss: 1.2724, g_loss: 0.9432, D(x): 0.60, D(G(z)): 0.46\n",
      "Epoch [88/100], Step [200/600], d_loss: 1.0404, g_loss: 1.2351, D(x): 0.62, D(G(z)): 0.36\n",
      "Epoch [88/100], Step [400/600], d_loss: 1.2469, g_loss: 1.0113, D(x): 0.58, D(G(z)): 0.44\n",
      "Epoch [88/100], Step [600/600], d_loss: 1.3390, g_loss: 0.8554, D(x): 0.55, D(G(z)): 0.45\n",
      "Epoch [89/100], Step [200/600], d_loss: 1.2747, g_loss: 0.9113, D(x): 0.58, D(G(z)): 0.44\n",
      "Epoch [89/100], Step [400/600], d_loss: 1.1980, g_loss: 1.1038, D(x): 0.60, D(G(z)): 0.42\n",
      "Epoch [89/100], Step [600/600], d_loss: 1.2069, g_loss: 1.0016, D(x): 0.57, D(G(z)): 0.41\n",
      "Epoch [90/100], Step [200/600], d_loss: 1.2063, g_loss: 0.8824, D(x): 0.57, D(G(z)): 0.43\n",
      "Epoch [90/100], Step [400/600], d_loss: 1.2394, g_loss: 0.8839, D(x): 0.57, D(G(z)): 0.44\n",
      "Epoch [90/100], Step [600/600], d_loss: 1.3103, g_loss: 0.9907, D(x): 0.57, D(G(z)): 0.44\n",
      "Epoch [91/100], Step [200/600], d_loss: 1.2047, g_loss: 0.9936, D(x): 0.60, D(G(z)): 0.43\n",
      "Epoch [91/100], Step [400/600], d_loss: 1.2877, g_loss: 0.9576, D(x): 0.54, D(G(z)): 0.44\n",
      "Epoch [91/100], Step [600/600], d_loss: 1.3091, g_loss: 0.7816, D(x): 0.56, D(G(z)): 0.47\n",
      "Epoch [92/100], Step [200/600], d_loss: 1.1174, g_loss: 1.1368, D(x): 0.55, D(G(z)): 0.33\n",
      "Epoch [92/100], Step [400/600], d_loss: 1.2176, g_loss: 0.9051, D(x): 0.58, D(G(z)): 0.43\n",
      "Epoch [92/100], Step [600/600], d_loss: 1.2702, g_loss: 0.8983, D(x): 0.57, D(G(z)): 0.47\n",
      "Epoch [93/100], Step [200/600], d_loss: 1.2484, g_loss: 0.7289, D(x): 0.61, D(G(z)): 0.49\n",
      "Epoch [93/100], Step [400/600], d_loss: 1.1003, g_loss: 1.0022, D(x): 0.59, D(G(z)): 0.37\n",
      "Epoch [93/100], Step [600/600], d_loss: 1.1563, g_loss: 1.0468, D(x): 0.57, D(G(z)): 0.38\n",
      "Epoch [94/100], Step [200/600], d_loss: 1.2630, g_loss: 0.9023, D(x): 0.55, D(G(z)): 0.45\n",
      "Epoch [94/100], Step [400/600], d_loss: 1.2416, g_loss: 0.7761, D(x): 0.62, D(G(z)): 0.49\n",
      "Epoch [94/100], Step [600/600], d_loss: 1.2598, g_loss: 0.8214, D(x): 0.61, D(G(z)): 0.47\n",
      "Epoch [95/100], Step [200/600], d_loss: 1.3918, g_loss: 0.9143, D(x): 0.52, D(G(z)): 0.44\n",
      "Epoch [95/100], Step [400/600], d_loss: 1.2042, g_loss: 1.0492, D(x): 0.56, D(G(z)): 0.40\n",
      "Epoch [95/100], Step [600/600], d_loss: 1.3731, g_loss: 0.7998, D(x): 0.55, D(G(z)): 0.49\n",
      "Epoch [96/100], Step [200/600], d_loss: 1.3363, g_loss: 0.9118, D(x): 0.57, D(G(z)): 0.46\n",
      "Epoch [96/100], Step [400/600], d_loss: 1.1857, g_loss: 0.9830, D(x): 0.57, D(G(z)): 0.41\n",
      "Epoch [96/100], Step [600/600], d_loss: 1.1417, g_loss: 1.0549, D(x): 0.54, D(G(z)): 0.35\n",
      "Epoch [97/100], Step [200/600], d_loss: 1.2253, g_loss: 1.0816, D(x): 0.57, D(G(z)): 0.42\n",
      "Epoch [97/100], Step [400/600], d_loss: 1.2012, g_loss: 0.8380, D(x): 0.56, D(G(z)): 0.43\n",
      "Epoch [97/100], Step [600/600], d_loss: 1.3232, g_loss: 0.7535, D(x): 0.64, D(G(z)): 0.50\n",
      "Epoch [98/100], Step [200/600], d_loss: 1.1320, g_loss: 1.0947, D(x): 0.55, D(G(z)): 0.36\n",
      "Epoch [98/100], Step [400/600], d_loss: 1.2421, g_loss: 0.9993, D(x): 0.53, D(G(z)): 0.40\n",
      "Epoch [98/100], Step [600/600], d_loss: 1.1812, g_loss: 1.2325, D(x): 0.53, D(G(z)): 0.36\n",
      "Epoch [99/100], Step [200/600], d_loss: 1.1469, g_loss: 1.0872, D(x): 0.57, D(G(z)): 0.39\n",
      "Epoch [99/100], Step [400/600], d_loss: 1.1127, g_loss: 1.0926, D(x): 0.61, D(G(z)): 0.39\n",
      "Epoch [99/100], Step [600/600], d_loss: 1.3573, g_loss: 0.7840, D(x): 0.57, D(G(z)): 0.48\n"
     ]
    }
   ],
   "source": [
    "for epoch in range(num_epochs):\n",
    "    \n",
    "    for i, (images, _) in enumerate(data_loader):\n",
    "        \n",
    "        images = images.reshape(batch_size, -1).to(device)\n",
    "        \n",
    "        # Create the labels which are later used as input for the BCE loss\n",
    "        real_labels = torch.ones(batch_size, 1).to(device)\n",
    "        fake_labels = torch.zeros(batch_size, 1).to(device)\n",
    "\n",
    "        # ================================================================== #\n",
    "        #                      Train the discriminator                       #\n",
    "        # ================================================================== #\n",
    "\n",
    "        # Compute BCE_Loss using real images where BCE_Loss(x, y): - y * log(D(x)) - (1-y) * log(1 - D(x))\n",
    "        \n",
    "        outputs = D(images)\n",
    "\n",
    "        # Second term of the loss is always zero since real_labels == 1\n",
    "        # This is what causes it to minimize the loss for real images\n",
    "        d_loss_real = bce_loss(outputs, real_labels)\n",
    "        real_score = outputs\n",
    "        \n",
    "        # Compute BCELoss using fake images\n",
    "        \n",
    "        z = torch.randn(batch_size, latent_size).to(device)\n",
    "        fake_images = G(z)\n",
    "        \n",
    "        outputs = D(fake_images)\n",
    "\n",
    "        # First term of the loss is always zero since fake_labels == 0\n",
    "        # This is what causes it to maximize the loss for fake images\n",
    "        d_loss_fake = bce_loss(outputs, fake_labels)\n",
    "        fake_score = outputs\n",
    "        \n",
    "        # Backprop and optimize\n",
    "        d_loss = d_loss_real + d_loss_fake\n",
    "        \n",
    "        d_optimizer.zero_grad()\n",
    "        g_optimizer.zero_grad()\n",
    "        \n",
    "        d_loss.backward()\n",
    "        d_optimizer.step()\n",
    "        \n",
    "        # ================================================================== #\n",
    "        #                        Train the generator                         #\n",
    "        # ================================================================== #\n",
    "\n",
    "        # Compute loss with fake images\n",
    "        \n",
    "        z = torch.randn(batch_size, latent_size).to(device)\n",
    "        fake_images = G(z)\n",
    "        outputs = D(fake_images)\n",
    "        \n",
    "        # We train G to maximize log(D(G(z)) instead of minimizing log(1-D(G(z)))\n",
    "        # For the reason, see the last paragraph of section 3. https://arxiv.org/pdf/1406.2661.pdf\n",
    "        \n",
    "        g_loss = bce_loss(outputs, real_labels)\n",
    "        \n",
    "        # Backprop and optimize\n",
    "        d_optimizer.zero_grad()\n",
    "        g_optimizer.zero_grad()\n",
    "\n",
    "        g_loss.backward()\n",
    "        g_optimizer.step()\n",
    "        \n",
    "        if (i+1) % 200 == 0:\n",
    "            print('Epoch [{}/{}], Step [{}/{}], d_loss: {:.4f}, g_loss: {:.4f}, D(x): {:.2f}, D(G(z)): {:.2f}' \n",
    "                  .format(epoch, num_epochs, i+1, total_step, d_loss.item(), g_loss.item(), \n",
    "                          real_score.mean().item(), fake_score.mean().item()))\n",
    "    \n",
    "    fake_images = fake_images.reshape(fake_images.size(0), 1, 28, 28)"
   ]
  },
  {
   "cell_type": "markdown",
   "metadata": {},
   "source": [
    "## Visualize Results"
   ]
  },
  {
   "cell_type": "code",
   "execution_count": 17,
   "metadata": {},
   "outputs": [],
   "source": [
    "img = torchvision.utils.make_grid(fake_images)"
   ]
  },
  {
   "cell_type": "code",
   "execution_count": 19,
   "metadata": {},
   "outputs": [],
   "source": [
    "img = img.detach().cpu().numpy()\n",
    "img = img.clip(0,1)"
   ]
  },
  {
   "cell_type": "code",
   "execution_count": 20,
   "metadata": {},
   "outputs": [
    {
     "data": {
      "image/png": "[encoded data removed]",
      "text/plain": [
       "<Figure size 864x720 with 1 Axes>"
      ]
     },
     "metadata": {
      "needs_background": "light"
     },
     "output_type": "display_data"
    }
   ],
   "source": [
    "plt.figure(figsize = (12, 10))\n",
    "plt.imshow(np.transpose(img, (1, 2, 0)))\n",
    "plt.axis('off')\n",
    "plt.show()"
   ]
  },
  {
   "cell_type": "code",
   "execution_count": null,
   "metadata": {},
   "outputs": [],
   "source": []
  }
 ],
 "metadata": {
  "kernelspec": {
   "display_name": "Python 3",
   "language": "python",
   "name": "python3"
  },
  "language_info": {
   "codemirror_mode": {
    "name": "ipython",
    "version": 3
   },
   "file_extension": ".py",
   "mimetype": "text/x-python",
   "name": "python",
   "nbconvert_exporter": "python",
   "pygments_lexer": "ipython3",
   "version": "3.6.4"
  }
 },
 "nbformat": 4,
 "nbformat_minor": 2
}
